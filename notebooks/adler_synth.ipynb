{
 "cells": [
  {
   "cell_type": "markdown",
   "metadata": {
    "ein.tags": "worksheet-0",
    "slideshow": {
     "slide_type": "-"
    }
   },
   "source": [
    "# Adler project"
   ]
  },
  {
   "cell_type": "markdown",
   "metadata": {
    "ein.tags": "worksheet-0",
    "slideshow": {
     "slide_type": "-"
    }
   },
   "source": [
    "Work on EAGLE lens models: source reconstructions, synthetic imaging, comparison to true maps, ..."
   ]
  },
  {
   "cell_type": "markdown",
   "metadata": {
    "ein.tags": "worksheet-0",
    "slideshow": {
     "slide_type": "-"
    }
   },
   "source": [
    "### Imports"
   ]
  },
  {
   "cell_type": "code",
   "execution_count": null,
   "metadata": {
    "autoscroll": false,
    "collapsed": false,
    "ein.hycell": false,
    "ein.tags": "worksheet-0",
    "slideshow": {
     "slide_type": "-"
    }
   },
   "outputs": [],
   "source": [
    "import sys\n",
    "sys.path.append('..')\n",
    "import os\n",
    "import re\n",
    "import time\n",
    "import numpy as np\n",
    "from scipy import interpolate, ndimage, sparse\n",
    "from astropy.io import fits\n",
    "import matplotlib.pyplot as plt\n",
    "\n",
    "from gleam.skyf import SkyF\n",
    "from gleam.lensobject import LensObject\n",
    "from gleam.multilens import MultiLens\n",
    "from gleam.reconsrc import ReconSrc, synth_filter, synth_filter_mp\n",
    "from gleam.glass_interface import glass_renv, filter_env, export_state\n",
    "glass = glass_renv()\n",
    "\n",
    "%load_ext skip_kernel_extension\n"
   ]
  },
  {
   "cell_type": "markdown",
   "metadata": {
    "ein.tags": "worksheet-0",
    "slideshow": {
     "slide_type": "-"
    }
   },
   "source": [
    "### Reading data"
   ]
  },
  {
   "cell_type": "markdown",
   "metadata": {
    "ein.tags": "worksheet-0",
    "slideshow": {
     "slide_type": "-"
    }
   },
   "source": [
    "Reading in all relevant files as dictionaries with ids as keys and list of filenames as values"
   ]
  },
  {
   "cell_type": "code",
   "execution_count": null,
   "metadata": {
    "autoscroll": false,
    "collapsed": false,
    "ein.hycell": false,
    "ein.tags": "worksheet-0",
    "slideshow": {
     "slide_type": "-"
    }
   },
   "outputs": [],
   "source": [
    "rdir = \"/Users/phdenzel/adler\"\n",
    "jsondir = rdir+\"/json/\"\n",
    "statedir = rdir+\"/states/v2/\"\n",
    "kappadir = rdir+\"/kappa/\"\n",
    "keys = [\"H1S0A0B90G0\", \"H1S1A0B90G0\", \"H2S1A0B90G0\", \"H2S2A0B90G0\", \"H2S7A0B90G0\",\n",
    "        \"H3S0A0B90G0\", \"H3S1A0B90G0\", \"H4S3A0B0G90\", \"H10S0A0B90G0\", \"H13S0A0B90G0\",\n",
    "        \"H23S0A0B90G0\", \"H30S0A0B90G0\", \"H36S0A0B90G0\", \"H160S0A90B0G0\",\n",
    "        \"H234S0A0B90G0\"]\n"
   ]
  },
  {
   "cell_type": "code",
   "execution_count": null,
   "metadata": {
    "autoscroll": false,
    "collapsed": false,
    "ein.hycell": false,
    "ein.tags": "worksheet-0",
    "slideshow": {
     "slide_type": "-"
    }
   },
   "outputs": [],
   "source": [
    "def an_sorted(data):\n",
    "    \"\"\"\n",
    "    Perform an alpha-numeric, natural sort\n",
    "\n",
    "    Args:\n",
    "        data <list> - list of strings\n",
    "\n",
    "    Kwargs:\n",
    "        None\n",
    "\n",
    "    Return:\n",
    "        sorted <list> - the alpha-numerically, naturally sorted list of strings\n",
    "    \"\"\"\n",
    "    def convert(text):\n",
    "        return int(text) if text.isdigit() else text.lower()\n",
    "\n",
    "    def an_key(key):\n",
    "        return [convert(c) for c in re.split('([0-9]+)', key)]\n",
    "    return sorted(data, key=an_key)\n",
    "\n",
    "\n",
    "ls_jsons = an_sorted([os.path.join(jsondir, f) for f in os.listdir(jsondir)\n",
    "                      if f.endswith('.json')])\n",
    "ls_states = an_sorted([os.path.join(statedir, f) for f in os.listdir(statedir)\n",
    "                       if f.endswith('.state')])\n",
    "ls_kappas = an_sorted([os.path.join(kappadir, f) for f in os.listdir(kappadir)\n",
    "                       if f.endswith('.kappa.fits')])\n"
   ]
  },
  {
   "cell_type": "code",
   "execution_count": null,
   "metadata": {
    "autoscroll": false,
    "collapsed": false,
    "ein.hycell": false,
    "ein.tags": "worksheet-0",
    "slideshow": {
     "slide_type": "-"
    }
   },
   "outputs": [],
   "source": [
    "jsons = {k: [f for f in ls_jsons if k in f] for k in keys}\n",
    "filtered_states = {k: [f for f in ls_states\n",
    "                       if k in f and f.endswith('_filtered.state')] for k in keys}\n",
    "ls_states = [f for f in ls_states if not f.endswith('_filtered.state')]\n",
    "\n",
    "prefiltered_fsynth10_states = {k: [f for f in ls_states\n",
    "                                   if k in f and f.endswith('_filtered_synthf10.state')] for k in keys}\n",
    "prefiltered_fsynth25_states = {k: [f for f in ls_states\n",
    "                                   if k in f and f.endswith('_filtered_synthf25.state')] for k in keys}\n",
    "prefiltered_fsynth50_states = {k: [f for f in ls_states\n",
    "                                   if k in f and f.endswith('_filtered_synthf50.state')] for k in keys}\n",
    "ls_states = [f for f in ls_states if not (f.endswith('_filtered_synthf10.state')\n",
    "                                          or f.endswith('_filtered_synthf25.state')\n",
    "                                          or f.endswith('_filtered_synthf50.state'))]\n",
    "\n",
    "synthf10_states = {k: [f for f in ls_states\n",
    "                       if k in f and f.endswith('_synthf10.state')] for k in keys}\n",
    "synthf25_states = {k: [f for f in ls_states\n",
    "                       if k in f and f.endswith('_synthf25.state')] for k in keys}\n",
    "synthf50_states = {k: [f for f in ls_states\n",
    "                       if k in f and f.endswith('_synthf50.state')] for k in keys}\n",
    "ls_states = [f for f in ls_states if not (f.endswith('_synthf10.state')\n",
    "                                          or f.endswith('_synthf25.state')\n",
    "                                          or f.endswith('_synthf50.state'))]\n",
    "\n",
    "states = {k: [f for f in ls_states if k in f] for k in keys}\n",
    "\n",
    "kappa_map_files = {k: [f for f in ls_kappas if k in f] for k in keys}\n",
    "\n",
    "psf_file = os.path.join(rdir, 'lenses', 'psf.fits')\n"
   ]
  },
  {
   "cell_type": "markdown",
   "metadata": {
    "ein.tags": "worksheet-0",
    "slideshow": {
     "slide_type": "-"
    }
   },
   "source": [
    "### Loading objects"
   ]
  },
  {
   "cell_type": "markdown",
   "metadata": {
    "ein.tags": "worksheet-0",
    "slideshow": {
     "slide_type": "-"
    }
   },
   "source": [
    "The ensemble of a single state file is used"
   ]
  },
  {
   "cell_type": "code",
   "execution_count": null,
   "metadata": {
    "autoscroll": false,
    "collapsed": false,
    "ein.hycell": false,
    "ein.tags": "worksheet-0",
    "slideshow": {
     "slide_type": "-"
    }
   },
   "outputs": [],
   "source": [
    "# Select a single file\n",
    "print(\"\\n# Selected file\")\n",
    "key = keys[5]  # 5 8 12\n",
    "idx = 0\n",
    "json = jsons[key][0]\n",
    "# state = filtered_states[key][idx]\n",
    "state = states[key][idx]\n",
    "print(key)\n",
    "print(json)\n",
    "print(state)\n"
   ]
  },
  {
   "cell_type": "code",
   "execution_count": null,
   "metadata": {
    "autoscroll": false,
    "collapsed": false,
    "ein.hycell": false,
    "ein.tags": "worksheet-0",
    "slideshow": {
     "slide_type": "-"
    }
   },
   "outputs": [],
   "source": [
    "# gleamobject\n",
    "print(\"\\n# gleamobject\")\n",
    "with open(json) as f:\n",
    "    ml = MultiLens.from_json(f)\n",
    "print(ml.__v__)"
   ]
  },
  {
   "cell_type": "code",
   "execution_count": null,
   "metadata": {
    "autoscroll": false,
    "collapsed": false,
    "ein.hycell": false,
    "ein.tags": "worksheet-0",
    "slideshow": {
     "slide_type": "-"
    }
   },
   "outputs": [],
   "source": [
    "# recon_src\n",
    "print(\"\\n# recon_src\")\n",
    "args = (ml, state)\n",
    "kwargs = dict(M=40, verbose=1)\n",
    "recon_src = ReconSrc(*args, **kwargs)\n",
    "#recon_src.chmdl(10)  # move to a single ensemble model\n"
   ]
  },
  {
   "cell_type": "code",
   "execution_count": null,
   "metadata": {
    "autoscroll": false,
    "collapsed": false,
    "ein.hycell": false,
    "ein.tags": "worksheet-0",
    "slideshow": {
     "slide_type": "-"
    }
   },
   "outputs": [],
   "source": [
    "recon_src.calc_psf(psf_file, window_size=6, verbose=True)\n"
   ]
  },
  {
   "cell_type": "markdown",
   "metadata": {
    "ein.tags": "worksheet-0",
    "slideshow": {
     "slide_type": "-"
    }
   },
   "source": [
    "### Inspection"
   ]
  },
  {
   "cell_type": "code",
   "execution_count": null,
   "metadata": {
    "autoscroll": false,
    "collapsed": false,
    "ein.hycell": false,
    "ein.tags": "worksheet-0",
    "slideshow": {
     "slide_type": "-"
    }
   },
   "outputs": [],
   "source": [
    "# Estimating the gain\n",
    "signals, variances = ml[0].flatfield(recon_src.lens_map(), size=0.2)\n",
    "gain, _ = ml[0].gain(signals=signals, variances=variances)\n",
    "print(gain)\n"
   ]
  },
  {
   "cell_type": "code",
   "execution_count": null,
   "metadata": {
    "autoscroll": false,
    "collapsed": false,
    "ein.hycell": false,
    "ein.tags": "worksheet-0",
    "slideshow": {
     "slide_type": "-"
    }
   },
   "outputs": [],
   "source": [
    "# Generate some noise\n",
    "f = 1./(10*gain)\n",
    "bias = 0.01*np.max(f * recon_src.lensobject.data)\n",
    "sgma2 = recon_src.lensobject.sigma2(f=f, add_bias=bias)\n",
    "sgmaM2 = np.array([1./sgma2[recon_src.lensobject.idx2yx(i)] for i in range(sgma2.size)])\n",
    "sgmaM2 = sparse.diags(sgmaM2)\n",
    "dta_noise = np.random.normal(0, 1, size=recon_src.lensobject.data.shape)\n",
    "dta_noise = dta_noise * np.sqrt(sgma2)\n"
   ]
  },
  {
   "cell_type": "code",
   "execution_count": null,
   "metadata": {
    "autoscroll": false,
    "collapsed": false,
    "ein.hycell": false,
    "ein.tags": "worksheet-0",
    "slideshow": {
     "slide_type": "-"
    }
   },
   "outputs": [],
   "source": [
    "%%skip True\n",
    "# Test PSF matrix construction\n",
    "if recon_src.psf is None:\n",
    "    P_kl = recon_src.calc_psf(psf_file, window_size=6, verbose=True)\n",
    "else:\n",
    "    P_kl = recon_src.psf\n",
    "\n",
    "print(P_kl.shape)\n",
    "print(np.count_nonzero(P_kl.diagonal()))\n",
    "\n",
    "N, N = recon_src.lensobject.data.shape\n",
    "test_data = np.zeros((N, N))\n",
    "test_data[3*N//4, 1*N//4] = 1\n",
    "test_data = test_data.reshape(N*N)\n",
    "\n",
    "test_res = test_data * P_kl\n",
    "test_res = test_res.reshape((N, N))\n",
    "\n",
    "plt.imshow(test_res, origin='Lower')\n",
    "# plt.xlim(left=70, right=90)\n",
    "# plt.ylim(bottom=70, top=90)\n",
    "print(np.sum(test_res))\n",
    "test_center = [X//2 for X in test_res.shape]\n"
   ]
  },
  {
   "cell_type": "code",
   "execution_count": null,
   "metadata": {
    "autoscroll": false,
    "collapsed": false,
    "ein.hycell": false,
    "ein.tags": "worksheet-0",
    "slideshow": {
     "slide_type": "-"
    }
   },
   "outputs": [],
   "source": [
    "%%skip True\n",
    "# Testing matrix multiplications\n",
    "sgma_i = 1./recon_src.lensobject.sigma2(f=f, add_bias=bias, flat=True)\n",
    "sgma_i = sparse.diags(sgma_i)\n",
    "M_gamma_i = recon_src.proj_matrix()\n",
    "\n",
    "print(M_gamma_i.shape, sgma_i.T.shape, M_gamma_i.T.shape)\n",
    "\n",
    "ti = time.time()\n",
    "A = M_gamma_i * sgma_i * M_gamma_i.T\n",
    "b = recon_src.d_ij() * sgma_i * M_gamma_i.T\n",
    "x = sparse.linalg.lsqr(A, b)[0]\n",
    "# x = sparse.linlag.lsmr(A, b)[0]\n",
    "tf = time.time()\n",
    "print(\"Timing: {}\".format(tf-ti))\n",
    "\n",
    "# x = x.reshape((recon_src.N_AA, recon_src.N_AA))\n",
    "# plt.imshow(x)\n",
    "# plt.colorbar()\n",
    "# plt.axis('off')\n"
   ]
  },
  {
   "cell_type": "code",
   "execution_count": null,
   "metadata": {
    "autoscroll": false,
    "collapsed": false,
    "ein.hycell": false,
    "ein.tags": "worksheet-0",
    "slideshow": {
     "slide_type": "-"
    }
   },
   "outputs": [],
   "source": [
    "%%skip True\n",
    "# Test matrix multiplications including PSF\n",
    "P_kl = recon_src.psf\n",
    "sgma_i = 1./recon_src.lensobject.sigma2(f=f, add_bias=bias, flat=True)\n",
    "sgma_i = sparse.diags(sgma_i)\n",
    "M_gamma_i = recon_src.proj_matrix()\n",
    "M_i_gamma = M_gamma_i.T.tocsc()\n",
    "print(type(P_kl))\n",
    "print(type(M_gamma_i))\n",
    "print(type(sgma_i))\n",
    "print(type(M_i_gamma))\n",
    "\n",
    "M_gamma_i = M_gamma_i * P_kl\n",
    "A = M_gamma_i * sgma_i * M_i_gamma\n",
    "b = recon_src.d_ij() * sgma_i * M_i_gamma\n",
    "\n",
    "print(\"\")\n",
    "print(type(A))\n",
    "print(type(b))\n",
    "\n",
    "ti = time.time()\n",
    "# x = sparse.linalg.lsqr(A, b)[0]\n",
    "x = sparse.linalg.lsmr(A, b)[0]\n",
    "# x = sparse.linalg.cg(A, b)[0]\n",
    "# x = sparse.linalg.cgs(A, b)[0]\n",
    "# x = sparse.linalg.lgmres(A, b, atol=1e-05)[0]\n",
    "# x = sparse.linalg.minres(A, b)[0]\n",
    "# x = sparse.linalg.qmr(A, b)[0]\n",
    "\n",
    "tf = time.time()\n",
    "print(\"Timing: {}\".format(tf-ti))\n",
    "\n",
    "print(\"M_gamma_i, sigma_i, M_i_gamma\", M_gamma_i.shape, sgma_i.T.shape, M_gamma_i.T.shape)\n",
    "print(\"A, b\", A.shape, b.shape)\n",
    "print(\"x\", x.shape)\n",
    "\n",
    "x = x.reshape((recon_src.N, recon_src.N))\n",
    "plt.imshow(x, cmap='Spectral_r', origin='Lower')\n",
    "plt.colorbar()\n",
    "plt.axis('off')\n"
   ]
  },
  {
   "cell_type": "code",
   "execution_count": null,
   "metadata": {
    "autoscroll": false,
    "collapsed": false,
    "ein.hycell": false,
    "ein.tags": "worksheet-0",
    "slideshow": {
     "slide_type": "-"
    }
   },
   "outputs": [],
   "source": [
    "# srcgrid_mapping; testing antialiasing\n",
    "_, r_fullres = recon_src.srcgrid_deflections(pixrad=None, mask=None)\n",
    "print(\"r_fullres: {}\".format(r_fullres))\n",
    "_, r_max = recon_src.srcgrid_deflections(pixrad=None, mask=recon_src.image_mask())\n",
    "print(\"r_max: {}\".format(r_max))\n",
    "print(\"f_AA: {}\".format(r_fullres/r_max))\n",
    "print(\"Src plane pixel resolution: {}\".format(r_max/recon_src.M))\n",
    "print(\"Img plane pixel resolution: {}\".format(recon_src.lensobject.px2arcsec[0]))\n"
   ]
  },
  {
   "cell_type": "code",
   "execution_count": null,
   "metadata": {
    "autoscroll": false,
    "collapsed": false,
    "ein.hycell": false,
    "ein.tags": "worksheet-0",
    "slideshow": {
     "slide_type": "-"
    }
   },
   "outputs": [],
   "source": [
    "# %%skip True\n",
    "# inverse projection matrix\n",
    "print(\"\\n# inverse projection matrix\")\n",
    "# ti = time.time()\n",
    "Mij_p = recon_src.inv_proj_matrix()\n",
    "# tf = time.time()\n",
    "# print(\"Timing: {}\".format(tf-ti))\n",
    "print(type(Mij_p))\n",
    "print(Mij_p.shape)\n"
   ]
  },
  {
   "cell_type": "code",
   "execution_count": null,
   "metadata": {
    "autoscroll": false,
    "collapsed": false,
    "ein.hycell": false,
    "ein.tags": "worksheet-0",
    "slideshow": {
     "slide_type": "-"
    }
   },
   "outputs": [],
   "source": [
    "# %%skip True\n",
    "# (inverse of the inverse) projection matrix; TODO: inverse only in an ideal case\n",
    "print(\"\\n# projection matrix\")\n",
    "Mp_ij = recon_src.proj_matrix()\n",
    "print(type(Mp_ij))\n",
    "print(Mp_ij.shape)\n"
   ]
  },
  {
   "cell_type": "code",
   "execution_count": null,
   "metadata": {
    "autoscroll": false,
    "collapsed": false,
    "ein.hycell": false,
    "ein.tags": "worksheet-0",
    "slideshow": {
     "slide_type": "-"
    }
   },
   "outputs": [],
   "source": [
    "# %%skip True\n",
    "# image plane data arrays\n",
    "print(\"\\n# image plane data arrays\")\n",
    "data = recon_src.d_ij()  # 1d lens plane data\n",
    "print(type(data))\n",
    "print(data.shape)\n",
    "lmap = recon_src.lens_map()  # 2d lens plane data\n",
    "print(type(lmap))\n",
    "print(lmap.shape)\n"
   ]
  },
  {
   "cell_type": "code",
   "execution_count": null,
   "metadata": {
    "autoscroll": false,
    "collapsed": false,
    "ein.hycell": false,
    "ein.tags": "worksheet-0",
    "slideshow": {
     "slide_type": "-"
    }
   },
   "outputs": [],
   "source": [
    "# %%skip True\n",
    "# source plane data arrays\n",
    "print(\"\\n# source plane data arrays\")\n",
    "rsrc = recon_src.d_p(antialias=True)  # 1d source plane data\n",
    "print(type(rsrc))\n",
    "print(rsrc.shape)\n",
    "rsrc_map = recon_src.plane_map(antialias=True)  # 2d source plane data\n",
    "print(type(rsrc_map))\n",
    "print(rsrc_map.shape)\n"
   ]
  },
  {
   "cell_type": "code",
   "execution_count": null,
   "metadata": {
    "autoscroll": false,
    "collapsed": false,
    "ein.hycell": false,
    "ein.tags": "worksheet-0",
    "slideshow": {
     "slide_type": "-"
    }
   },
   "outputs": [],
   "source": [
    "# %%skip True\n",
    "# synthetic image\n",
    "print(\"\\n# synthetic image\")\n",
    "reproj = recon_src.reproj_map()\n",
    "print(type(reproj))\n",
    "print(reproj.shape)\n"
   ]
  },
  {
   "cell_type": "markdown",
   "metadata": {
    "ein.tags": "worksheet-0",
    "slideshow": {
     "slide_type": "-"
    }
   },
   "source": [
    "#### Actual data plot"
   ]
  },
  {
   "cell_type": "code",
   "execution_count": null,
   "metadata": {
    "autoscroll": false,
    "collapsed": false,
    "ein.hycell": false,
    "ein.tags": "worksheet-0",
    "slideshow": {
     "slide_type": "-"
    }
   },
   "outputs": [],
   "source": [
    "# %%skip True\n",
    "\n",
    "data = recon_src.d_ij(flat=False) # + dta_noise\n",
    "kw = dict(vmax=data.max(), vmin=data.min(), cmap='Spectral_r', origin='Lower')\n",
    "plt.imshow(data, **kw)\n",
    "plt.colorbar()\n",
    "plt.axis('off')\n",
    "plt.show()\n"
   ]
  },
  {
   "cell_type": "markdown",
   "metadata": {
    "ein.tags": "worksheet-0",
    "slideshow": {
     "slide_type": "-"
    }
   },
   "source": [
    "#### Reconstructed source plot"
   ]
  },
  {
   "cell_type": "code",
   "execution_count": null,
   "metadata": {
    "autoscroll": false,
    "collapsed": false,
    "ein.hycell": false,
    "ein.tags": "worksheet-0",
    "slideshow": {
     "slide_type": "-"
    }
   },
   "outputs": [],
   "source": [
    "# %%skip True\n",
    "# recon_src.psf = sparse.diags(np.ones(recon_src.lensobject.data.size))\n",
    "recon_src.chmdl(80)\n",
    "# recon_src.flush_cache()\n",
    "kw = dict(method='lsmr', use_psf=True, cached=True, sigma2=sgma2, sigmaM2=sgmaM2)\n",
    "s = recon_src.plane_map(**kw)\n",
    "plt.imshow(s, cmap='Spectral_r', origin='Lower')\n",
    "plt.colorbar()\n",
    "plt.axis('off')\n",
    "plt.show()\n"
   ]
  },
  {
   "cell_type": "markdown",
   "metadata": {
    "ein.tags": "worksheet-0",
    "slideshow": {
     "slide_type": "-"
    }
   },
   "source": [
    "#### Synthetic image plot"
   ]
  },
  {
   "cell_type": "code",
   "execution_count": null,
   "metadata": {
    "autoscroll": false,
    "collapsed": false,
    "ein.hycell": false,
    "ein.tags": "worksheet-0",
    "slideshow": {
     "slide_type": "-"
    }
   },
   "outputs": [],
   "source": [
    "# %%skip True\n",
    "\n",
    "\n",
    "kw = dict(flat=False, method='lsmr', use_psf=True, sigma2=sgma2, sigmaM2=sgmaM2)\n",
    "i = recon_src.reproj_map(**kw)\n",
    "plt.imshow(i, cmap='Spectral_r', origin='Lower') #, vmax=data.max(), vmin=data.min())\n",
    "plt.colorbar()\n",
    "plt.axis('off')\n",
    "plt.show()\n"
   ]
  },
  {
   "cell_type": "markdown",
   "metadata": {
    "ein.tags": "worksheet-0",
    "slideshow": {
     "slide_type": "-"
    }
   },
   "source": [
    "#### Masked data plot"
   ]
  },
  {
   "cell_type": "code",
   "execution_count": null,
   "metadata": {
    "autoscroll": false,
    "collapsed": false,
    "ein.hycell": false,
    "ein.tags": "worksheet-0",
    "slideshow": {
     "slide_type": "-"
    }
   },
   "outputs": [],
   "source": [
    "%%skip True\n",
    "\n",
    "plt.imshow(recon_src.lens_map(mask=True), **kwargs)\n",
    "plt.colorbar()\n",
    "plt.axis('off')\n",
    "plt.show()\n"
   ]
  },
  {
   "cell_type": "markdown",
   "metadata": {
    "ein.tags": "worksheet-0",
    "slideshow": {
     "slide_type": "-"
    }
   },
   "source": [
    "#### Residual map plot"
   ]
  },
  {
   "cell_type": "code",
   "execution_count": null,
   "metadata": {
    "autoscroll": false,
    "collapsed": false,
    "ein.hycell": false,
    "ein.tags": "worksheet-0",
    "slideshow": {
     "slide_type": "-"
    }
   },
   "outputs": [],
   "source": [
    "# %%skip True\n",
    "res = data-i+dta_noise\n",
    "plt.imshow(res, cmap=\"bwr\", vmin=-res.max(), vmax=res.max())\n",
    "plt.colorbar()\n",
    "plt.axis('off')\n",
    "plt.show()\n"
   ]
  },
  {
   "cell_type": "markdown",
   "metadata": {
    "ein.tags": "worksheet-0",
    "slideshow": {
     "slide_type": "-"
    }
   },
   "source": [
    "#### Arrival time surface"
   ]
  },
  {
   "cell_type": "code",
   "execution_count": null,
   "metadata": {
    "autoscroll": false,
    "collapsed": false,
    "ein.hycell": false,
    "ein.tags": "worksheet-0",
    "slideshow": {
     "slide_type": "-"
    }
   },
   "outputs": [],
   "source": [
    "# %%skipt True\n",
    "model = recon_src.gls.models[recon_src.model_index]\n",
    "recon_src.gls.img_plot(obj_index=0, color='#fe4365')\n",
    "recon_src.gls.arrival_plot(model, obj_index=0, only_contours=True, clevels=75, colors=['#603dd0'])\n"
   ]
  },
  {
   "cell_type": "code",
   "execution_count": null,
   "metadata": {
    "autoscroll": false,
    "collapsed": false,
    "ein.hycell": false,
    "ein.tags": "worksheet-0",
    "slideshow": {
     "slide_type": "-"
    }
   },
   "outputs": [],
   "source": [
    "model = recon_src.gls.models[recon_src.model_index]\n",
    "recon_src.gls.kappa_plot(model, obj_index=0, with_contours=False, clevels=20)\n"
   ]
  },
  {
   "cell_type": "markdown",
   "metadata": {
    "ein.tags": "worksheet-0",
    "slideshow": {
     "slide_type": "-"
    }
   },
   "source": [
    "#### Residual statistics"
   ]
  },
  {
   "cell_type": "code",
   "execution_count": null,
   "metadata": {
    "autoscroll": false,
    "collapsed": false,
    "ein.hycell": false,
    "ein.tags": "worksheet-0",
    "slideshow": {
     "slide_type": "-"
    }
   },
   "outputs": [],
   "source": [
    "import pickle\n",
    "if os.path.exists('reconsrc.pkl'):\n",
    "    with open('reconsrc.pkl', 'rb') as f:\n",
    "        recon_src = pickle.load(f)\n",
    "    print(\"Loaded reconsrc.pkl\")\n"
   ]
  },
  {
   "cell_type": "code",
   "execution_count": null,
   "metadata": {
    "autoscroll": false,
    "collapsed": false,
    "ein.hycell": false,
    "ein.tags": "worksheet-0",
    "slideshow": {
     "slide_type": "-"
    }
   },
   "outputs": [],
   "source": [
    "signals, variances = ml[0].flatfield(recon_src.lens_map(), size=0.2)\n",
    "gain, _ = ml[0].gain(signals=signals, variances=variances)\n",
    "f = 1./(10*gain)\n",
    "bias = 0.01*np.max(f * recon_src.lensobject.data)\n",
    "sgma2 = recon_src.lensobject.sigma2(f=f, add_bias=bias)\n",
    "dta_noise = np.random.normal(0, 1, size=recon_src.lensobject.data.shape)\n",
    "dta_noise = dta_noise * np.sqrt(sgma2)\n"
   ]
  },
  {
   "cell_type": "code",
   "execution_count": null,
   "metadata": {
    "autoscroll": false,
    "collapsed": false,
    "ein.hycell": false,
    "ein.tags": "worksheet-0",
    "slideshow": {
     "slide_type": "-"
    }
   },
   "outputs": [],
   "source": [
    "# chi2 test on the ensemble average\n",
    "print(\"Sum of squared residuals (ensemble avg)\")\n",
    "recon_src.chmdl(20)\n",
    "recon_src.flush_cache()\n",
    "ti = time.time()\n",
    "resid = recon_src.reproj_chi2(reduced=False, method='lsmr', use_psf=True, cached=True,\n",
    "                              from_cache=True, save_to_cache=True,\n",
    "                              noise=dta_noise, sigma2=sgma2, sigmaM2=sgmaM2)\n",
    "tf = time.time()\n",
    "# print(recon_src.proj_matrix().shape)\n",
    "print(\"Chi2\", resid)\n",
    "print(\"Time\", tf-ti)\n",
    "print(\"DOF\", recon_src.proj_matrix().shape[1] - recon_src.N_nil)\n",
    "print(\"Red. chi2\", resid/(recon_src.proj_matrix().shape[1] - recon_src.N_nil))\n"
   ]
  },
  {
   "cell_type": "code",
   "execution_count": null,
   "metadata": {
    "autoscroll": false,
    "collapsed": false,
    "ein.hycell": false,
    "ein.tags": "worksheet-0",
    "slideshow": {
     "slide_type": "-"
    }
   },
   "outputs": [],
   "source": [
    "# %%skip True\n",
    "print(\"Sum of squared residuals (for all ensemble models)\")\n",
    "_, _, residuals = synth_filter(reconsrc=recon_src, percentiles=[],\n",
    "                               reduced=False, nonzero_only=True, method='lsmr',\n",
    "                               from_cache=True, cached=True, save_to_cache=True,\n",
    "                               noise=dta_noise, sigma2=sgma2, sigmaM2=sgmaM2,\n",
    "                               N_models=10,\n",
    "                               save=False, verbose=True)\n",
    "\n",
    "\n",
    "print(\"0th, 10th, 25th, and 50th percentile values\")\n",
    "rhi10 = np.percentile(residuals, 10, interpolation='higher')\n",
    "rhi25 = np.percentile(residuals, 25, interpolation='higher')\n",
    "rhi50 = np.percentile(residuals, 50, interpolation='higher')\n",
    "rlo = 0\n",
    "print(rlo, rhi10, rhi25, rhi50)\n"
   ]
  },
  {
   "cell_type": "code",
   "execution_count": null,
   "metadata": {
    "autoscroll": false,
    "collapsed": false,
    "ein.hycell": false,
    "ein.tags": "worksheet-0",
    "slideshow": {
     "slide_type": "-"
    }
   },
   "outputs": [],
   "source": [
    "_, _, residuals = synth_filter_mp(reconsrc=recon_src, percentiles=[],\n",
    "                                  nproc=2,\n",
    "                                  reduced=False, nonzero_only=True, method='lsmr',\n",
    "                                  from_cache=True, cached=True, save_to_cache=True,\n",
    "                                  noise=dta_noise, sigma2=sgma2, sigmaM2=sgmaM2,\n",
    "                                  N_models=100,\n",
    "                                  save=False, verbose=True)\n",
    "\n",
    "\n",
    "print(\"0th, 10th, 25th, and 50th percentile values\")\n",
    "rhi10 = np.percentile(residuals, 10, interpolation='higher')\n",
    "rhi25 = np.percentile(residuals, 25, interpolation='higher')\n",
    "rhi50 = np.percentile(residuals, 50, interpolation='higher')\n",
    "rlo = 0\n",
    "print(rlo, rhi10, rhi25, rhi50)\n"
   ]
  },
  {
   "cell_type": "code",
   "execution_count": null,
   "metadata": {
    "autoscroll": false,
    "collapsed": false,
    "ein.hycell": false,
    "ein.tags": "worksheet-0",
    "slideshow": {
     "slide_type": "-"
    }
   },
   "outputs": [],
   "source": [
    "# %%skip True\n",
    "import pickle\n",
    "\n",
    "with open('reconsrc.pkl', 'wb') as f:\n",
    "    pickle.dump(recon_src, f)\n"
   ]
  },
  {
   "cell_type": "markdown",
   "metadata": {
    "ein.tags": "worksheet-0",
    "slideshow": {
     "slide_type": "-"
    }
   },
   "source": [
    "#### Histogram of an ensemble's residual distribution"
   ]
  },
  {
   "cell_type": "code",
   "execution_count": null,
   "metadata": {
    "autoscroll": false,
    "collapsed": false,
    "ein.hycell": false,
    "ein.tags": "worksheet-0",
    "slideshow": {
     "slide_type": "-"
    }
   },
   "outputs": [],
   "source": [
    "# look at noisified data\n",
    "d = recon_src.lens_map() + dta_noise\n",
    "plt.imshow(d)\n",
    "plt.colorbar()\n",
    "plt.show()\n",
    "\n"
   ]
  },
  {
   "cell_type": "code",
   "execution_count": null,
   "metadata": {
    "autoscroll": false,
    "collapsed": false,
    "ein.hycell": false,
    "ein.tags": "worksheet-0",
    "slideshow": {
     "slide_type": "-"
    }
   },
   "outputs": [],
   "source": [
    "#%%skip True\n",
    "\n",
    "plt.hist(residuals, bins=50)\n",
    "# plt.axvline(rhi10)\n",
    "# plt.axvline(rhi25)\n",
    "# plt.axvline(rhi50)\n",
    "plt.show()\n"
   ]
  },
  {
   "cell_type": "code",
   "execution_count": null,
   "metadata": {
    "autoscroll": false,
    "collapsed": false,
    "ein.hycell": false,
    "ein.tags": "worksheet-0",
    "slideshow": {
     "slide_type": "-"
    }
   },
   "outputs": [],
   "source": [
    "# Filter out some selected chi2\n",
    "ichi2max = np.argmax(residuals)\n",
    "ichi2min = np.argmin(residuals)\n",
    "print(\"max chi2: {} @ {}\".format(residuals[ichi2max], ichi2max))\n",
    "print(\"min chi2: {} @ {}\".format(residuals[ichi2min], ichi2min))\n"
   ]
  },
  {
   "cell_type": "code",
   "execution_count": null,
   "metadata": {
    "autoscroll": false,
    "collapsed": false,
    "ein.hycell": false,
    "ein.tags": "worksheet-0",
    "slideshow": {
     "slide_type": "-"
    }
   },
   "outputs": [],
   "source": [
    "# look at a selected reconstruction\n",
    "recon_src.chmdl(ichi2max)\n",
    "d = recon_src.reproj_map()\n",
    "plt.imshow(d)\n",
    "plt.colorbar()\n",
    "plt.axis('off')\n",
    "plt.show()\n"
   ]
  },
  {
   "cell_type": "code",
   "execution_count": null,
   "metadata": {
    "autoscroll": false,
    "collapsed": false,
    "ein.hycell": false,
    "ein.tags": "worksheet-0",
    "slideshow": {
     "slide_type": "-"
    }
   },
   "outputs": [],
   "source": [
    "m = recon_src.gls.models[ichi2min]\n",
    "recon_src.gls.img_plot(color='#fe4365')\n",
    "recon_src.gls.arrival_plot(m, only_contours=True, clevels=50, colors=['#603dd0'])\n",
    "plt.show()\n"
   ]
  },
  {
   "cell_type": "code",
   "execution_count": null,
   "metadata": {
    "autoscroll": false,
    "collapsed": false,
    "ein.hycell": false,
    "ein.tags": "worksheet-0",
    "slideshow": {
     "slide_type": "-"
    }
   },
   "outputs": [],
   "source": [
    "resid_p = np.asarray(residuals)**12\n",
    "resid_p /= np.sum(resid_p)\n",
    "invresid_p = 1/resid_p\n",
    "invresid_p /= np.sum(invresid_p)\n",
    "# subsetA =  list(np.random.choice(range(len(residuals)), 25, p=invresid_p))\n",
    "# subsetB = list((np.random.choice(range(len(residuals)), 25, p=resid_p)))\n",
    "sortedchi2 = sorted(range(len(residuals)), key=lambda k: residuals[k])\n",
    "subsetA = sortedchi2[:25]\n",
    "subsetB = sortedchi2[-25:]\n",
    "print(subsetA)\n",
    "print(subsetB)\n"
   ]
  },
  {
   "cell_type": "code",
   "execution_count": null,
   "metadata": {
    "autoscroll": false,
    "collapsed": false,
    "ein.hycell": false,
    "ein.tags": "worksheet-0",
    "slideshow": {
     "slide_type": "-"
    }
   },
   "outputs": [],
   "source": [
    "# %%skip True\n",
    "\n",
    "chi2A = filter_env(recon_src.gls, subsetA)\n",
    "chi2B = filter_env(recon_src.gls, subsetB)\n",
    "export_state(chi2A, name='chi2Asubset.state')\n",
    "export_state(chi2B, name='chi2Bsubset.state')\n",
    "\n"
   ]
  },
  {
   "cell_type": "markdown",
   "metadata": {
    "ein.tags": "worksheet-0",
    "slideshow": {
     "slide_type": "-"
    }
   },
   "source": [
    "#### Filtering and exporting the single state"
   ]
  },
  {
   "cell_type": "code",
   "execution_count": null,
   "metadata": {
    "autoscroll": false,
    "collapsed": false,
    "ein.hycell": false,
    "ein.tags": "worksheet-0",
    "slideshow": {
     "slide_type": "-"
    }
   },
   "outputs": [],
   "source": [
    "%%skip True\n",
    "\n",
    "# Filtering 10, 25, 50 percent\n",
    "select10 = [i for i, r in enumerate(residuals) if rhi10 > r > rlo]\n",
    "select25 = [i for i, r in enumerate(residuals) if rhi25 > r > rlo]\n",
    "select50 = [i for i, r in enumerate(residuals) if rhi50 > r > rlo]\n",
    "print(\"Number of selected models in 10th, 25th and 50th percentile\")\n",
    "print(len(select10))\n",
    "print(len(select25))\n",
    "print(len(select50))"
   ]
  },
  {
   "cell_type": "code",
   "execution_count": null,
   "metadata": {
    "autoscroll": false,
    "collapsed": false,
    "ein.hycell": false,
    "ein.tags": "worksheet-0",
    "slideshow": {
     "slide_type": "-"
    }
   },
   "outputs": [],
   "source": [
    "%%skip True\n",
    "\n",
    "dirname = os.path.dirname(state)\n",
    "basename = \".\".join(os.path.basename(state).split('.')[:-1])\n",
    "save10 = dirname + '/' + basename + '_synthf10.state'\n",
    "save25 = dirname + '/' + basename + '_synthf25.state'\n",
    "save50 = dirname + '/' + basename + '_synthf50.state'\n",
    "print(\"Names of filtered states...\")\n",
    "print(save10)\n",
    "print(save25)\n",
    "print(save50)\n"
   ]
  },
  {
   "cell_type": "code",
   "execution_count": null,
   "metadata": {
    "autoscroll": false,
    "collapsed": false,
    "ein.hycell": false,
    "ein.tags": "worksheet-0",
    "slideshow": {
     "slide_type": "-"
    }
   },
   "outputs": [],
   "source": [
    "%%skip True\n",
    "\n",
    "filtered_10 = filter_env(recon_src.gls, select10)\n",
    "filtered_25 = filter_env(recon_src.gls, select25)\n",
    "filtered_50 = filter_env(recon_src.gls, select50)\n",
    "export_state(filtered_25, name=save25)\n",
    "export_state(filtered_50, name=save50)\n"
   ]
  },
  {
   "cell_type": "markdown",
   "metadata": {
    "ein.tags": "worksheet-0",
    "slideshow": {
     "slide_type": "-"
    }
   },
   "source": [
    "## Various test snippets"
   ]
  },
  {
   "cell_type": "code",
   "execution_count": null,
   "metadata": {
    "autoscroll": false,
    "collapsed": false,
    "ein.hycell": false,
    "ein.tags": "worksheet-0",
    "slideshow": {
     "slide_type": "-"
    }
   },
   "outputs": [],
   "source": [
    "# Noise estimation\n",
    "\n",
    "# manual noise estimation\n",
    "dta = ml[0].data*1\n",
    "l, r = np.roll(dta, -1, axis=0), np.roll(dta, 1, axis=0)\n",
    "u, d = np.roll(dta, -1, axis=1), np.roll(dta, 1, axis=1)\n",
    "snr = max([np.max(np.abs(dta-l)), np.max(np.abs(dta-r)), np.max(np.abs(dta-u)), np.max(np.abs(dta-d))])\n",
    "print(\"Manual noise estimation {:2.4f}\".format(snr))\n",
    "\n",
    "# automated noise estimation\n",
    "threshold = ml[0].finder.threshold_estimate(ml[0].data, sigma=5)\n",
    "snr = threshold.max()\n",
    "print(\"Autom. noise estimation {:2.4f}\".format(snr))\n",
    "print(\"Autom. noise estimation x3 {:2.4f}\".format(3*snr))\n"
   ]
  },
  {
   "cell_type": "code",
   "execution_count": null,
   "metadata": {
    "autoscroll": false,
    "collapsed": false,
    "ein.hycell": false,
    "ein.tags": "worksheet-0",
    "slideshow": {
     "slide_type": "-"
    }
   },
   "outputs": [],
   "source": [
    "# %%skip True\n",
    "\n",
    "# Using threshold to do automated masking\n",
    "# dta = ml[0].data*1\n",
    "# mask = np.abs(dta) >= 0.3*threshold\n",
    "mask = recon_src.image_mask(f=0.5, n_sigma=5)\n",
    "dta[~mask] = 0\n",
    "dta[mask] = 1\n",
    "edge_mask = np.abs(dta - ndimage.morphology.binary_dilation(dta))\n",
    "#edge_mask = dta\n",
    "xsobel = ndimage.sobel(dta, 0)\n",
    "ysobel = ndimage.sobel(dta, 1)\n",
    "# edge_mask = np.sign(xsobel**2 + ysobel**2)\n",
    "\n",
    "print(set(edge_mask.flatten().tolist()))\n",
    "edges = np.array(np.where(edge_mask)).T\n",
    "\n",
    "# sort along edge line\n",
    "groups = []\n",
    "ordering = [0]\n",
    "current = edges[0]\n",
    "for i in range(len(edges)):\n",
    "    break\n",
    "\n",
    "plt.imshow(edge_mask, interpolation='None')\n",
    "# plt.savefig('test1.png')\n",
    "plt.show()\n",
    "plt.imshow(xsobel)\n",
    "# plt.savefig('test2.png')\n",
    "plt.show()\n",
    "plt.imshow(ysobel)\n",
    "# plt.savefig('test3.png')\n",
    "plt.show()\n",
    "plt.imshow(xsobel**2+ysobel**2)\n",
    "# plt.savefig('test4.png')\n",
    "plt.show()\n",
    "plt.imshow(dta*2+edge_mask)\n",
    "# plt.savefig('test5.png')\n",
    "plt.show()\n",
    "\n"
   ]
  },
  {
   "cell_type": "code",
   "execution_count": null,
   "metadata": {
    "autoscroll": false,
    "collapsed": false,
    "ein.hycell": false,
    "ein.tags": "worksheet-0",
    "slideshow": {
     "slide_type": "-"
    }
   },
   "outputs": [],
   "source": []
  }
 ],
 "metadata": {
  "kernelspec": {
   "display_name": "Python 2",
   "name": "python2"
  },
  "language_info": {
   "codemirror_mode": {
    "name": "ipython",
    "version": 2
   },
   "file_extension": ".py",
   "mimetype": "text/x-python",
   "name": "python",
   "nbconvert_exporter": "python",
   "pygments_lexer": "ipython2",
   "version": "2.7.15"
  },
  "name": "adler_synth.ipynb"
 },
 "nbformat": 4,
 "nbformat_minor": 2
}
