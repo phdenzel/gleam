{
 "cells": [
  {
   "cell_type": "markdown",
   "metadata": {
    "ein.tags": "worksheet-0",
    "slideshow": {
     "slide_type": "-"
    }
   },
   "source": [
    "# Adler project"
   ]
  },
  {
   "cell_type": "markdown",
   "metadata": {
    "ein.tags": "worksheet-0",
    "slideshow": {
     "slide_type": "-"
    }
   },
   "source": [
    "Work on EAGLE lens models: source reconstructions, synthetic imaging, comparison to true maps, ...\n"
   ]
  },
  {
   "cell_type": "markdown",
   "metadata": {
    "ein.tags": "worksheet-0",
    "slideshow": {
     "slide_type": "-"
    }
   },
   "source": [
    "### Imports\n",
    "`gleam` imports must happen from root of the directory, i.e. `/Users/phdenzel/adler/`.\n",
    "This is why `..` is appended to the path.\n"
   ]
  },
  {
   "cell_type": "code",
   "execution_count": 1,
   "metadata": {
    "autoscroll": false,
    "collapsed": false,
    "ein.hycell": false,
    "ein.tags": "worksheet-0",
    "slideshow": {
     "slide_type": "-"
    }
   },
   "outputs": [],
   "source": [
    "import sys\n",
    "sys.path.append('..')\n",
    "import os\n",
    "import re\n",
    "import numpy as np\n",
    "from scipy import interpolate\n",
    "from astropy.io import fits\n",
    "import matplotlib.pyplot as plt\n",
    "\n",
    "from gleam.multilens import MultiLens\n",
    "from gleam.reconsrc import ReconSrc\n",
    "from gleam.glass_interface import glass_renv, filter_env, export_state\n",
    "glass = glass_renv()\n",
    "\n",
    "%load_ext skip_kernel_extension\n"
   ]
  },
  {
   "cell_type": "markdown",
   "metadata": {
    "ein.tags": "worksheet-0",
    "slideshow": {
     "slide_type": "-"
    }
   },
   "source": [
    "### Reading data\n",
    "Reading in all relevant files as dictionaries with ids as keys and list of filenames as values\n"
   ]
  },
  {
   "cell_type": "code",
   "execution_count": 2,
   "metadata": {
    "autoscroll": false,
    "collapsed": false,
    "ein.hycell": false,
    "ein.tags": "worksheet-0",
    "slideshow": {
     "slide_type": "-"
    }
   },
   "outputs": [],
   "source": [
    "rdir = \"/Users/phdenzel/adler\"\n",
    "jsondir = rdir+\"/json/\"\n",
    "statedir = rdir+\"/states/v2/\"\n",
    "kappadir = rdir+\"/kappa/\"\n",
    "keys = [\"H1S0A0B90G0\", \"H1S1A0B90G0\", \"H2S1A0B90G0\", \"H2S2A0B90G0\", \"H2S7A0B90G0\",\n",
    "        \"H3S0A0B90G0\", \"H3S1A0B90G0\", \"H4S3A0B0G90\", \"H10S0A0B90G0\", \"H13S0A0B90G0\",\n",
    "        \"H23S0A0B90G0\", \"H30S0A0B90G0\", \"H36S0A0B90G0\", \"H160S0A90B0G0\",\n",
    "        \"H234S0A0B90G0\"]\n"
   ]
  },
  {
   "cell_type": "code",
   "execution_count": 3,
   "metadata": {
    "autoscroll": false,
    "collapsed": false,
    "ein.hycell": false,
    "ein.tags": "worksheet-0",
    "slideshow": {
     "slide_type": "-"
    }
   },
   "outputs": [],
   "source": [
    "def an_sorted(data):\n",
    "    \"\"\"\n",
    "    Perform an alpha-numeric, natural sort\n",
    "\n",
    "    Args:\n",
    "        data <list> - list of strings\n",
    "\n",
    "    Kwargs:\n",
    "        None\n",
    "\n",
    "    Return:\n",
    "        sorted <list> - the alpha-numerically, naturally sorted list of strings\n",
    "    \"\"\"\n",
    "    def convert(text):\n",
    "        return int(text) if text.isdigit() else text.lower()\n",
    "\n",
    "    def an_key(key):\n",
    "        return [convert(c) for c in re.split('([0-9]+)', key)]\n",
    "    return sorted(data, key=an_key)\n",
    "\n",
    "\n",
    "ls_jsons = an_sorted([os.path.join(jsondir, f) for f in os.listdir(jsondir)\n",
    "                      if f.endswith('.json')])\n",
    "ls_states = an_sorted([os.path.join(statedir, f) for f in os.listdir(statedir)\n",
    "                       if f.endswith('.state')])\n",
    "ls_kappas = an_sorted([os.path.join(kappadir, f) for f in os.listdir(kappadir)\n",
    "                       if f.endswith('.kappa.fits')])\n"
   ]
  },
  {
   "cell_type": "code",
   "execution_count": 4,
   "metadata": {
    "autoscroll": false,
    "collapsed": false,
    "ein.hycell": false,
    "ein.tags": "worksheet-0",
    "slideshow": {
     "slide_type": "-"
    }
   },
   "outputs": [],
   "source": [
    "jsons = {k: [f for f in ls_jsons if k in f] for k in keys}\n",
    "filtered_states = {k: [f for f in ls_states\n",
    "                       if k in f and f.endswith('_filtered.state')] for k in keys}\n",
    "ls_states = [f for f in ls_states if not f.endswith('_filtered.state')]\n",
    "\n",
    "prefiltered_fsynth10_states = {k: [f for f in ls_states\n",
    "                                   if k in f and f.endswith('_filtered_synthf10.state')] for k in keys}\n",
    "prefiltered_fsynth25_states = {k: [f for f in ls_states\n",
    "                                   if k in f and f.endswith('_filtered_synthf25.state')] for k in keys}\n",
    "prefiltered_fsynth50_states = {k: [f for f in ls_states\n",
    "                                   if k in f and f.endswith('_filtered_synthf50.state')] for k in keys}\n",
    "ls_states = [f for f in ls_states if not (f.endswith('_filtered_synthf10.state')\n",
    "                                          or f.endswith('_filtered_synthf10.state')\n",
    "                                          or f.endswith('_filtered_synthf10.state'))]\n",
    "\n",
    "synthf10_states = {k: [f for f in ls_states\n",
    "                       if k in f and f.endswith('_synthf10.state')] for k in keys}\n",
    "synthf25_states = {k: [f for f in ls_states\n",
    "                       if k in f and f.endswith('_synthf25.state')] for k in keys}\n",
    "synthf50_states = {k: [f for f in ls_states\n",
    "                       if k in f and f.endswith('_synthf50.state')] for k in keys}\n",
    "ls_states = [f for f in ls_states if not (f.endswith('_synthf10.state')\n",
    "                                          or f.endswith('_synthf25.state')\n",
    "                                          or f.endswith('_synthf50.state'))]\n",
    "\n",
    "states = {k: [f for f in ls_states if k in f] for k in keys}\n",
    "\n",
    "kappa_map_files = {k: [f for f in ls_kappas if k in f] for k in keys}\n"
   ]
  },
  {
   "cell_type": "markdown",
   "metadata": {
    "ein.tags": "worksheet-0",
    "slideshow": {
     "slide_type": "-"
    }
   },
   "source": [
    "### Inspection\n",
    "\n",
    "The ensemble of a single state file is used"
   ]
  },
  {
   "cell_type": "code",
   "execution_count": 5,
   "metadata": {
    "autoscroll": false,
    "collapsed": false,
    "ein.hycell": false,
    "ein.tags": "worksheet-0",
    "slideshow": {
     "slide_type": "-"
    }
   },
   "outputs": [
    {
     "name": "stdout",
     "output_type": "stream",
     "text": [
      "\n",
      "# Selected file\n",
      "/Users/phdenzel/adler/json/H1S0A0B90G0.json\n",
      "/Users/phdenzel/adler/states/v2/H1S0A0B90G0.state\n"
     ]
    }
   ],
   "source": [
    "# select a single file\n",
    "print(\"\\n# Selected file\")\n",
    "key = keys[0]\n",
    "idx = 0\n",
    "json = jsons[key][0]\n",
    "state = filtered_states[key][idx]\n",
    "state = states[key][idx]\n",
    "print(json)\n",
    "print(state)"
   ]
  },
  {
   "cell_type": "code",
   "execution_count": 6,
   "metadata": {
    "autoscroll": false,
    "collapsed": false,
    "ein.hycell": false,
    "ein.tags": "worksheet-0",
    "slideshow": {
     "slide_type": "-"
    }
   },
   "outputs": [
    {
     "name": "stdout",
     "output_type": "stream",
     "text": [
      "\n",
      "# gleamobject\n"
     ]
    },
    {
     "name": "stdout",
     "output_type": "stream",
     "text": [
      "N                   \t1\n",
      "filepaths           \t['/Users/phdenzel/adler/json/H1S0A0B90G0.json']\n",
      "files               \t['H1S0A0B90G0.json']\n",
      "fs                  \t[LensObject(@[0.0000, -0.0000])]\n",
      "bands               \t['']\n",
      "naxis1              \t[161]\n",
      "naxis2              \t[161]\n",
      "naxis_plus          \t[None]\n",
      "structure           \t(161, 161, 1)\n",
      "roi                 \t[ROISelector(161, 161)]\n",
      "lens_objects        \t[LensObject(@[0.0000, -0.0000])]\n",
      "lens                \t[<0.0000, -0.0000>]\n",
      "srcimgs_xy          \t[[[97.0, 62.0], [57.0, 69.0], [71.0, 57.0], [81.0, 107.0]]]\n",
      "light_model         \t[{}]\n"
     ]
    }
   ],
   "source": [
    "# gleamobject\n",
    "print(\"\\n# gleamobject\")\n",
    "with open(json) as f:\n",
    "    ml = MultiLens.from_json(f)\n",
    "print(ml.__v__)"
   ]
  },
  {
   "cell_type": "code",
   "execution_count": 7,
   "metadata": {
    "autoscroll": false,
    "collapsed": false,
    "ein.hycell": false,
    "ein.tags": "worksheet-0",
    "slideshow": {
     "slide_type": "-"
    }
   },
   "outputs": [
    {
     "name": "stdout",
     "output_type": "stream",
     "text": [
      "\n",
      "# recon_src\n"
     ]
    },
    {
     "name": "stdout",
     "output_type": "stream",
     "text": [
      "lensobject          \tLensObject(@[0.0000, -0.0000])\n",
      "gls                 \t<glass.environment.Environment instance at 0x11534e440>\n",
      "mask                \t[[False False False ... False False False]\n",
      " [False False False ... False False False]\n",
      " [False False False ... False False False]\n",
      " ...\n",
      " [False False False ... False False False]\n",
      " [False False False ... False False False]\n",
      " [False False False ... False False False]]\n",
      "M                   \t20\n",
      "N                   \t41\n"
     ]
    }
   ],
   "source": [
    "# recon_src\n",
    "print(\"\\n# recon_src\")\n",
    "args = (ml, state)\n",
    "kwargs = dict(M=20, verbose=1)\n",
    "recon_src = ReconSrc(*args, **kwargs)\n",
    "#recon_src.chmdl()  # move to a single ensemble model"
   ]
  },
  {
   "cell_type": "code",
   "execution_count": 8,
   "metadata": {
    "autoscroll": false,
    "collapsed": false,
    "ein.hycell": false,
    "ein.tags": "worksheet-0",
    "slideshow": {
     "slide_type": "-"
    }
   },
   "outputs": [
    {
     "name": "stdout",
     "output_type": "stream",
     "text": [
      "\n",
      "# inverse projection matrix\n"
     ]
    },
    {
     "name": "stdout",
     "output_type": "stream",
     "text": [
      "<class 'scipy.sparse.csc.csc_matrix'>\n",
      "(25921, 1681)\n"
     ]
    }
   ],
   "source": [
    "# inverse projection matrix\n",
    "print(\"\\n# inverse projection matrix\")\n",
    "Mij_p = recon_src.inv_proj_matrix()\n",
    "print(type(Mij_p))\n",
    "print(Mij_p.shape)"
   ]
  },
  {
   "cell_type": "code",
   "execution_count": 9,
   "metadata": {
    "autoscroll": false,
    "collapsed": false,
    "ein.hycell": false,
    "ein.tags": "worksheet-0",
    "slideshow": {
     "slide_type": "-"
    }
   },
   "outputs": [
    {
     "name": "stdout",
     "output_type": "stream",
     "text": [
      "\n",
      "# projection matrix (TODO: not an actual inverse yet)\n"
     ]
    },
    {
     "name": "stdout",
     "output_type": "stream",
     "text": [
      "<class 'scipy.sparse.csc.csc_matrix'>\n",
      "(25921, 1681)\n"
     ]
    }
   ],
   "source": [
    "# (inverse of the inverse) projection matrix\n",
    "print(\"\\n# projection matrix (TODO: not an actual inverse yet)\")\n",
    "Mp_ij = recon_src.proj_matrix()\n",
    "print(type(Mp_ij))\n",
    "print(Mp_ij.shape)"
   ]
  },
  {
   "cell_type": "code",
   "execution_count": 10,
   "metadata": {
    "autoscroll": false,
    "collapsed": false,
    "ein.hycell": false,
    "ein.tags": "worksheet-0",
    "slideshow": {
     "slide_type": "-"
    }
   },
   "outputs": [
    {
     "name": "stdout",
     "output_type": "stream",
     "text": [
      "\n",
      "# image plane data arrays\n",
      "<type 'numpy.ndarray'>\n",
      "(25921,)\n",
      "<type 'numpy.ndarray'>\n",
      "(161, 161)\n",
      "\n",
      "# source plane data arrays\n"
     ]
    },
    {
     "name": "stdout",
     "output_type": "stream",
     "text": [
      "<type 'numpy.ndarray'>\n",
      "(1681,)\n"
     ]
    },
    {
     "name": "stdout",
     "output_type": "stream",
     "text": [
      "<type 'numpy.ndarray'>\n",
      "(41, 41)\n",
      "\n",
      "# synthetic image\n"
     ]
    },
    {
     "name": "stdout",
     "output_type": "stream",
     "text": [
      "<type 'numpy.ndarray'>\n",
      "(161, 161)\n"
     ]
    }
   ],
   "source": [
    "# image plane data arrays\n",
    "print(\"\\n# image plane data arrays\")\n",
    "data = recon_src.d_ij()  # 1d lens plane data\n",
    "print(type(data))\n",
    "print(data.shape)\n",
    "lmap = recon_src.lens_map()  # 2d lens plane data\n",
    "print(type(lmap))\n",
    "print(lmap.shape)\n",
    "print(\"\\n# source plane data arrays\")\n",
    "# source plane data arrays\n",
    "rsrc = recon_src.d_p()  # 1d source plane data\n",
    "print(type(rsrc))\n",
    "print(rsrc.shape)\n",
    "rsrc_map = recon_src.plane_map()  # 2d source plane data\n",
    "print(type(rsrc_map))\n",
    "print(rsrc_map.shape)\n",
    "\n",
    "# synthetic image\n",
    "print(\"\\n# synthetic image\")\n",
    "reproj = recon_src.reproj_map()\n",
    "print(type(reproj))\n",
    "print(reproj.shape)"
   ]
  },
  {
   "cell_type": "markdown",
   "metadata": {
    "ein.tags": "worksheet-0",
    "slideshow": {
     "slide_type": "-"
    }
   },
   "source": [
    "#### Actual data plot"
   ]
  },
  {
   "cell_type": "code",
   "execution_count": 11,
   "metadata": {
    "autoscroll": false,
    "collapsed": false,
    "ein.hycell": false,
    "ein.tags": "worksheet-0",
    "slideshow": {
     "slide_type": "-"
    }
   },
   "outputs": [
    {
     "data": {
      "image/png": "[encoded data removed]",
      "text/plain": [
       "<Figure size 432x288 with 2 Axes>"
      ]
     },
     "metadata": {},
     "output_type": "display_data"
    }
   ],
   "source": [
    "data = recon_src.d_ij(flat=False)\n",
    "kwargs = dict(vmax=data.max(), vmin=data.min())\n",
    "plt.imshow(data, **kwargs)\n",
    "plt.colorbar()\n",
    "plt.axis('off')\n",
    "plt.show()\n"
   ]
  },
  {
   "cell_type": "markdown",
   "metadata": {
    "ein.tags": "worksheet-0",
    "slideshow": {
     "slide_type": "-"
    }
   },
   "source": [
    "#### Reconstructed source plot"
   ]
  },
  {
   "cell_type": "code",
   "execution_count": 12,
   "metadata": {
    "autoscroll": false,
    "collapsed": false,
    "ein.hycell": false,
    "ein.tags": "worksheet-0",
    "slideshow": {
     "slide_type": "-"
    }
   },
   "outputs": [
    {
     "data": {
      "image/png": "[encoded data removed]",
      "text/plain": [
       "<Figure size 432x288 with 2 Axes>"
      ]
     },
     "metadata": {},
     "output_type": "display_data"
    }
   ],
   "source": [
    "plt.imshow(recon_src.plane_map(), **kwargs)\n",
    "plt.colorbar()\n",
    "plt.axis('off')\n",
    "plt.show()\n"
   ]
  },
  {
   "cell_type": "markdown",
   "metadata": {
    "ein.tags": "worksheet-0",
    "slideshow": {
     "slide_type": "-"
    }
   },
   "source": [
    "#### Synthetic image plot"
   ]
  },
  {
   "cell_type": "code",
   "execution_count": 13,
   "metadata": {
    "autoscroll": false,
    "collapsed": false,
    "ein.hycell": false,
    "ein.tags": "worksheet-0",
    "slideshow": {
     "slide_type": "-"
    }
   },
   "outputs": [
    {
     "data": {
      "image/png": "[encoded data removed]",
      "text/plain": [
       "<Figure size 432x288 with 2 Axes>"
      ]
     },
     "metadata": {},
     "output_type": "display_data"
    }
   ],
   "source": [
    "plt.imshow(recon_src.reproj_map(), **kwargs)\n",
    "plt.colorbar()\n",
    "plt.axis('off')\n",
    "plt.show()\n"
   ]
  },
  {
   "cell_type": "markdown",
   "metadata": {
    "ein.tags": "worksheet-0",
    "slideshow": {
     "slide_type": "-"
    }
   },
   "source": [
    "#### Masked data plot"
   ]
  },
  {
   "cell_type": "code",
   "execution_count": 14,
   "metadata": {
    "autoscroll": false,
    "collapsed": false,
    "ein.hycell": false,
    "ein.tags": "worksheet-0",
    "slideshow": {
     "slide_type": "-"
    }
   },
   "outputs": [
    {
     "data": {
      "image/png": "[encoded data removed]",
      "text/plain": [
       "<Figure size 432x288 with 2 Axes>"
      ]
     },
     "metadata": {},
     "output_type": "display_data"
    }
   ],
   "source": [
    "plt.imshow(recon_src.lens_map(mask=True), **kwargs)\n",
    "plt.colorbar()\n",
    "plt.axis('off')\n",
    "plt.show()"
   ]
  },
  {
   "cell_type": "markdown",
   "metadata": {
    "ein.tags": "worksheet-0",
    "slideshow": {
     "slide_type": "-"
    }
   },
   "source": [
    "#### Residual map plot"
   ]
  },
  {
   "cell_type": "code",
   "execution_count": 15,
   "metadata": {
    "autoscroll": false,
    "collapsed": false,
    "ein.hycell": false,
    "ein.tags": "worksheet-0",
    "slideshow": {
     "slide_type": "-"
    }
   },
   "outputs": [
    {
     "data": {
      "image/png": "[encoded data removed]",
      "text/plain": [
       "<Figure size 432x288 with 2 Axes>"
      ]
     },
     "metadata": {},
     "output_type": "display_data"
    }
   ],
   "source": [
    "plt.imshow(recon_src.residual_map())  # data - synth\n",
    "plt.colorbar()\n",
    "plt.axis('off')\n",
    "plt.show()"
   ]
  },
  {
   "cell_type": "markdown",
   "metadata": {
    "ein.tags": "worksheet-0",
    "slideshow": {
     "slide_type": "-"
    }
   },
   "source": [
    "#### Residual statistics"
   ]
  },
  {
   "cell_type": "code",
   "execution_count": 16,
   "metadata": {
    "autoscroll": false,
    "collapsed": false,
    "ein.hycell": false,
    "ein.tags": "worksheet-0",
    "slideshow": {
     "slide_type": "-"
    }
   },
   "outputs": [],
   "source": [
    "%%skip True\n",
    "print(\"Sum of squared residuals (ensemble avg)\")\n",
    "resid = recon_src.reproj_residual()\n",
    "print(resid)\n",
    "\n",
    "print(\"Sum of squared residuals (for the first three ensemble models)\")\n",
    "residuals = []\n",
    "N = len(recon_src.gls.models)\n",
    "for i in range(N):\n",
    "    recon_src.chmdl(i)\n",
    "    r = recon_src.reproj_residual()\n",
    "    residuals.append(r)\n",
    "print(residuals[:3])\n",
    "\n",
    "print(\"0th, 10th, 25th, and 50th percentile values\")\n",
    "rhi10 = np.percentile(residuals, 10, interpolation='higher')\n",
    "rhi25 = np.percentile(residuals, 25, interpolation='higher')\n",
    "rhi50 = np.percentile(residuals, 50, interpolation='higher')\n",
    "rlo = 0\n",
    "print(rlo, rhi10, rhi25, rhi50)"
   ]
  },
  {
   "cell_type": "markdown",
   "metadata": {
    "ein.tags": "worksheet-0",
    "slideshow": {
     "slide_type": "-"
    }
   },
   "source": [
    "#### Histogram of an ensemble's residual distribution\n",
    "    "
   ]
  },
  {
   "cell_type": "code",
   "execution_count": 17,
   "metadata": {
    "autoscroll": false,
    "collapsed": false,
    "ein.hycell": false,
    "ein.tags": "worksheet-0",
    "slideshow": {
     "slide_type": "-"
    }
   },
   "outputs": [],
   "source": [
    "%%skip True\n",
    "\n",
    "plt.hist(residuals, bins=35)\n",
    "plt.axvline(rhi10)\n",
    "plt.axvline(rhi25)\n",
    "plt.axvline(rhi50)\n",
    "plt.show()\n"
   ]
  },
  {
   "cell_type": "markdown",
   "metadata": {
    "ein.tags": "worksheet-0",
    "slideshow": {
     "slide_type": "-"
    }
   },
   "source": [
    "#### Filtering and exporting the single state"
   ]
  },
  {
   "cell_type": "code",
   "execution_count": 18,
   "metadata": {
    "autoscroll": false,
    "collapsed": false,
    "ein.hycell": false,
    "ein.tags": "worksheet-0",
    "slideshow": {
     "slide_type": "-"
    }
   },
   "outputs": [],
   "source": [
    "%%skip True\n",
    "\n",
    "def synth_filter(args, percentiles=[10, 25, 50]):\n",
    "    pass"
   ]
  },
  {
   "cell_type": "code",
   "execution_count": 19,
   "metadata": {
    "autoscroll": false,
    "collapsed": false,
    "ein.hycell": false,
    "ein.tags": "worksheet-0",
    "slideshow": {
     "slide_type": "-"
    }
   },
   "outputs": [],
   "source": [
    "%%skip True\n",
    "\n",
    "select10 = [i for i, r in enumerate(residuals) if rhi10 > r > rlo]\n",
    "select25 = [i for i, r in enumerate(residuals) if rhi25 > r > rlo]\n",
    "select50 = [i for i, r in enumerate(residuals) if rhi50 > r > rlo]\n",
    "print(\"Number of selected models in 10th, 25th and 50th percentile\")\n",
    "print(len(select10))\n",
    "print(len(select25))\n",
    "print(len(select50))"
   ]
  },
  {
   "cell_type": "code",
   "execution_count": 20,
   "metadata": {
    "autoscroll": false,
    "collapsed": false,
    "ein.hycell": false,
    "ein.tags": "worksheet-0",
    "slideshow": {
     "slide_type": "-"
    }
   },
   "outputs": [],
   "source": [
    "%%skip True\n",
    "\n",
    "dirname = os.path.dirname(state)\n",
    "basename = \".\".join(os.path.basename(state).split('.')[:-1])\n",
    "save10 = dirname + '/' + basename + '_synthf10.state'\n",
    "save25 = dirname + '/' + basename + '_synthf25.state'\n",
    "save50 = dirname + '/' + basename + '_synthf50.state'\n",
    "print(\"Names of filtered states...\")\n",
    "print(save10)\n",
    "print(save25)\n",
    "print(save50)\n"
   ]
  },
  {
   "cell_type": "code",
   "execution_count": 21,
   "metadata": {
    "autoscroll": false,
    "collapsed": false,
    "ein.hycell": false,
    "ein.tags": "worksheet-0",
    "slideshow": {
     "slide_type": "-"
    }
   },
   "outputs": [],
   "source": [
    "%%skip True\n",
    "\n",
    "filtered_10 = filter_env(recon_src.gls, select10)\n",
    "filtered_25 = filter_env(recon_src.gls, select25)\n",
    "filtered_50 = filter_env(recon_src.gls, select50)\n",
    "export_state(filtered_25, name=save25)\n",
    "export_state(filtered_50, name=save50)\n"
   ]
  },
  {
   "cell_type": "markdown",
   "metadata": {
    "ein.tags": "worksheet-0",
    "slideshow": {
     "slide_type": "-"
    }
   },
   "source": [
    "### Filtering ALL (previously unfiltered) states"
   ]
  },
  {
   "cell_type": "code",
   "execution_count": 22,
   "metadata": {
    "autoscroll": false,
    "collapsed": false,
    "ein.hycell": false,
    "ein.tags": "worksheet-0",
    "slideshow": {
     "slide_type": "-"
    }
   },
   "outputs": [],
   "source": [
    "%%skip True\n",
    "\n",
    "# states loop\n",
    "for k in keys:\n",
    "    json = jsons[k][0]\n",
    "    with open(json) as f:\n",
    "        ml = MultiLens.from_json(f)\n",
    "    for state in states[k]:\n",
    "        print(json, state)\n",
    "\n",
    "        args = (ml, state)\n",
    "        kwargs = dict(M=20, verbose=1)\n",
    "        recon_src = ReconSrc(*args, **kwargs)\n",
    "\n",
    "        residuals = []\n",
    "        for i in range(len(recon_src.gls.models)):\n",
    "            recon_src.chmdl(i)\n",
    "            r = recon_src.reproj_residual()\n",
    "            residuals.append(r)\n",
    "        print(\"\\nNumber of residual models:\")\n",
    "        print(len(residuals))\n",
    "\n",
    "        rhi10 = np.percentile(residuals, 10, interpolation='higher')\n",
    "        rhi25 = np.percentile(residuals, 25, interpolation='higher')\n",
    "        rhi50 = np.percentile(residuals, 50, interpolation='higher')\n",
    "        rlo = 0\n",
    "        print(\"\\n0th, 10th, 25th, and 50th percentile values\")\n",
    "        print(rlo, rhi10, rhi25, rhi50)\n",
    "\n",
    "        select10 = [i for i, r in enumerate(residuals) if rhi10 > r > rlo]\n",
    "        select25 = [i for i, r in enumerate(residuals) if rhi25 > r > rlo]\n",
    "        select50 = [i for i, r in enumerate(residuals) if rhi50 > r > rlo]\n",
    "\n",
    "        print(\"\\nNumber of selected models\")\n",
    "        print(len(select10))\n",
    "        print(len(select25))\n",
    "        print(len(select50))\n",
    "\n",
    "        dirname = os.path.dirname(state)\n",
    "        basename = \".\".join(os.path.basename(state).split('.')[:-1])\n",
    "        save10 = dirname + '/' + basename + '_synthf10.state'\n",
    "        save25 = dirname + '/' + basename + '_synthf25.state'\n",
    "        save50 = dirname + '/' + basename + '_synthf50.state'\n",
    "\n",
    "        filtered_10 = filter_env(recon_src.gls, select10)\n",
    "        filtered_25 = filter_env(recon_src.gls, select25)\n",
    "        filtered_50 = filter_env(recon_src.gls, select50)\n",
    "\n",
    "        export_state(filtered_10, name=save10)\n",
    "        export_state(filtered_25, name=save25)\n",
    "        export_state(filtered_50, name=save50)\n",
    "\n"
   ]
  },
  {
   "cell_type": "markdown",
   "metadata": {
    "ein.tags": "worksheet-0",
    "slideshow": {
     "slide_type": "-"
    }
   },
   "source": [
    "### Filtering ALL (previously filtered) states"
   ]
  },
  {
   "cell_type": "code",
   "execution_count": 23,
   "metadata": {
    "autoscroll": false,
    "collapsed": false,
    "ein.hycell": false,
    "ein.tags": "worksheet-0",
    "slideshow": {
     "slide_type": "-"
    }
   },
   "outputs": [],
   "source": [
    "%%skip True\n",
    "\n",
    "# filtered_states loop\n",
    "for k in keys:\n",
    "    json = jsons[k][0]\n",
    "    with open(json) as f:\n",
    "        ml = MultiLens.from_json(f)\n",
    "    for state in filtered_states[k]:\n",
    "        print(json, state)\n",
    "\n",
    "        args = (ml, state)\n",
    "        kwargs = dict(M=20, verbose=1)\n",
    "        recon_src = ReconSrc(*args, **kwargs)\n",
    "\n",
    "        residuals = []\n",
    "        for i in range(len(recon_src.gls.models)):\n",
    "            recon_src.chmdl(i)\n",
    "            r = recon_src.reproj_residual()\n",
    "            residuals.append(r)\n",
    "        print(\"\\nNumber of residual models\")\n",
    "        print(len(residuals))\n",
    "\n",
    "        rhi10 = np.percentile(residuals, 10, interpolation='higher')\n",
    "        rhi25 = np.percentile(residuals, 25, interpolation='higher')\n",
    "        rhi50 = np.percentile(residuals, 50, interpolation='higher')\n",
    "        rlo = 0\n",
    "        print(\"\\n0th, 10th, 25th, and 50th percentile values\")\n",
    "        print(rlo, rhi10, rhi25, rhi50)\n",
    "\n",
    "        select10 = [i for i, r in enumerate(residuals) if rhi10 > r > rlo]\n",
    "        select25 = [i for i, r in enumerate(residuals) if rhi25 > r > rlo]\n",
    "        select50 = [i for i, r in enumerate(residuals) if rhi50 > r > rlo]\n",
    "\n",
    "        print(\"\\nNumber of subselected models\")\n",
    "        print(len(select10))\n",
    "        print(len(select25))\n",
    "        print(len(select50))\n",
    "\n",
    "        dirname = os.path.dirname(state)\n",
    "        basename = \".\".join(os.path.basename(state).split('.')[:-1])\n",
    "        save10 = dirname + '/' + basename + '_synthf10.state'\n",
    "        save25 = dirname + '/' + basename + '_synthf25.state'\n",
    "        save50 = dirname + '/' + basename + '_synthf50.state'\n",
    "\n",
    "        filtered_10 = filter_env(recon_src.gls, select10)\n",
    "        filtered_25 = filter_env(recon_src.gls, select25)\n",
    "        filtered_50 = filter_env(recon_src.gls, select50)\n",
    "\n",
    "        export_state(filtered_10, name=save10)\n",
    "        export_state(filtered_25, name=save25)\n",
    "        export_state(filtered_50, name=save50)\n"
   ]
  }
 ],
 "metadata": {
  "kernelspec": {
   "display_name": "Python 2",
   "name": "python2"
  },
  "language_info": {
   "codemirror_mode": {
    "name": "ipython",
    "version": 2
   },
   "file_extension": ".py",
   "mimetype": "text/x-python",
   "name": "python",
   "nbconvert_exporter": "python",
   "pygments_lexer": "ipython2",
   "version": "2.7.15"
  },
  "name": "adler_synth.ipynb"
 },
 "nbformat": 4,
 "nbformat_minor": 2
}
