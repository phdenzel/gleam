{
 "cells": [
  {
   "cell_type": "markdown",
   "metadata": {
    "ein.tags": "worksheet-0",
    "slideshow": {
     "slide_type": "-"
    }
   },
   "source": [
    "# Adler project"
   ]
  },
  {
   "cell_type": "markdown",
   "metadata": {
    "ein.tags": "worksheet-0",
    "slideshow": {
     "slide_type": "-"
    }
   },
   "source": [
    "Work on EAGLE lens models: comparison to true maps, inertia tensor, arrival time grids, ...\n"
   ]
  },
  {
   "cell_type": "markdown",
   "metadata": {
    "ein.tags": "worksheet-0",
    "slideshow": {
     "slide_type": "-"
    }
   },
   "source": [
    "### Imports\n",
    "`gleam` imports must happen from root of the directory, i.e. `/Users/phdenzel/adler/`.\n",
    "This is why `..` is appended to the path.\n"
   ]
  },
  {
   "cell_type": "code",
   "execution_count": 1,
   "metadata": {
    "autoscroll": false,
    "collapsed": false,
    "ein.hycell": false,
    "ein.tags": "worksheet-0",
    "slideshow": {
     "slide_type": "-"
    }
   },
   "outputs": [],
   "source": [
    "import sys\n",
    "sys.path.append('..')\n",
    "import os\n",
    "import re\n",
    "import numpy as np\n",
    "from scipy import interpolate\n",
    "from astropy.io import fits\n",
    "import matplotlib.pyplot as plt\n",
    "\n",
    "from gleam.multilens import MultiLens\n",
    "from gleam.reconsrc import ReconSrc\n",
    "from gleam.glass_interface import glass_renv, filter_env, export_state\n",
    "glass = glass_renv()\n",
    "\n",
    "%load_ext skip_kernel_extension\n"
   ]
  },
  {
   "cell_type": "markdown",
   "metadata": {
    "ein.tags": "worksheet-0",
    "slideshow": {
     "slide_type": "-"
    }
   },
   "source": [
    "### Reading data\n",
    "Reading in all relevant files as dictionaries with ids as keys and list of filenames as values\n"
   ]
  },
  {
   "cell_type": "code",
   "execution_count": null,
   "metadata": {
    "autoscroll": false,
    "collapsed": false,
    "ein.hycell": false,
    "ein.tags": "worksheet-0",
    "slideshow": {
     "slide_type": "-"
    }
   },
   "outputs": [],
   "source": [
    "rdir = \"/Users/phdenzel/adler\"\n",
    "jsondir = rdir+\"/json/\"\n",
    "statedir = rdir+\"/states/v2/\"\n",
    "kappadir = rdir+\"/kappa/\"\n",
    "keys = [\"H1S0A0B90G0\", \"H1S1A0B90G0\", \"H2S1A0B90G0\", \"H2S2A0B90G0\", \"H2S7A0B90G0\",\n",
    "        \"H3S0A0B90G0\", \"H3S1A0B90G0\", \"H4S3A0B0G90\", \"H10S0A0B90G0\", \"H13S0A0B90G0\",\n",
    "        \"H23S0A0B90G0\", \"H30S0A0B90G0\", \"H36S0A0B90G0\", \"H160S0A90B0G0\",\n",
    "        \"H234S0A0B90G0\"]\n"
   ]
  },
  {
   "cell_type": "code",
   "execution_count": null,
   "metadata": {
    "autoscroll": false,
    "collapsed": false,
    "ein.hycell": false,
    "ein.tags": "worksheet-0",
    "slideshow": {
     "slide_type": "-"
    }
   },
   "outputs": [],
   "source": [
    "def an_sorted(data):\n",
    "    \"\"\"\n",
    "    Perform an alpha-numeric, natural sort\n",
    "\n",
    "    Args:\n",
    "        data <list> - list of strings\n",
    "\n",
    "    Kwargs:\n",
    "        None\n",
    "\n",
    "    Return:\n",
    "        sorted <list> - the alpha-numerically, naturally sorted list of strings\n",
    "    \"\"\"\n",
    "    def convert(text):\n",
    "        return int(text) if text.isdigit() else text.lower()\n",
    "\n",
    "    def an_key(key):\n",
    "        return [convert(c) for c in re.split('([0-9]+)', key)]\n",
    "    return sorted(data, key=an_key)\n",
    "\n",
    "\n",
    "ls_jsons = an_sorted([os.path.join(jsondir, f) for f in os.listdir(jsondir)\n",
    "                      if f.endswith('.json')])\n",
    "ls_states = an_sorted([os.path.join(statedir, f) for f in os.listdir(statedir)\n",
    "                       if f.endswith('.state')])\n",
    "ls_kappas = an_sorted([os.path.join(kappadir, f) for f in os.listdir(kappadir)\n",
    "                       if f.endswith('.kappa.fits')])\n"
   ]
  },
  {
   "cell_type": "code",
   "execution_count": null,
   "metadata": {
    "autoscroll": false,
    "collapsed": false,
    "ein.hycell": false,
    "ein.tags": "worksheet-0",
    "slideshow": {
     "slide_type": "-"
    }
   },
   "outputs": [],
   "source": [
    "jsons = {k: [f for f in ls_jsons if k in f] for k in keys}\n",
    "filtered_states = {k: [f for f in ls_states\n",
    "                       if k in f and f.endswith('_filtered.state')] for k in keys}\n",
    "ls_states = [f for f in ls_states if not f.endswith('_filtered.state')]\n",
    "\n",
    "prefiltered_fsynth10_states = {k: [f for f in ls_states\n",
    "                                   if k in f and f.endswith('_filtered_synthf10.state')] for k in keys}\n",
    "prefiltered_fsynth25_states = {k: [f for f in ls_states\n",
    "                                   if k in f and f.endswith('_filtered_synthf25.state')] for k in keys}\n",
    "prefiltered_fsynth50_states = {k: [f for f in ls_states\n",
    "                                   if k in f and f.endswith('_filtered_synthf50.state')] for k in keys}\n",
    "ls_states = [f for f in ls_states if not (f.endswith('_filtered_synthf10.state')\n",
    "                                          or f.endswith('_filtered_synthf25.state')\n",
    "                                          or f.endswith('_filtered_synthf50.state'))]\n",
    "\n",
    "synthf10_states = {k: [f for f in ls_states\n",
    "                       if k in f and f.endswith('_synthf10.state')] for k in keys}\n",
    "synthf25_states = {k: [f for f in ls_states\n",
    "                       if k in f and f.endswith('_synthf25.state')] for k in keys}\n",
    "synthf50_states = {k: [f for f in ls_states\n",
    "                       if k in f and f.endswith('_synthf50.state')] for k in keys}\n",
    "ls_states = [f for f in ls_states if not (f.endswith('_synthf10.state')\n",
    "                                          or f.endswith('_synthf25.state')\n",
    "                                          or f.endswith('_synthf50.state'))]\n",
    "\n",
    "states = {k: [f for f in ls_states if k in f] for k in keys}\n",
    "\n",
    "kappa_map_files = {k: [f for f in ls_kappas if k in f] for k in keys}\n"
   ]
  },
  {
   "cell_type": "markdown",
   "metadata": {
    "ein.tags": "worksheet-0",
    "slideshow": {
     "slide_type": "-"
    }
   },
   "source": [
    "## Comparison to true EAGLE models"
   ]
  },
  {
   "cell_type": "markdown",
   "metadata": {
    "ein.tags": "worksheet-0",
    "slideshow": {
     "slide_type": "-"
    }
   },
   "source": [
    "#### Reading the files"
   ]
  },
  {
   "cell_type": "code",
   "execution_count": null,
   "metadata": {
    "autoscroll": false,
    "collapsed": false,
    "ein.hycell": false,
    "ein.tags": "worksheet-0",
    "slideshow": {
     "slide_type": "-"
    }
   },
   "outputs": [],
   "source": [
    "# EAGLE models\n",
    "# filepath = kappa_map_files[\"H3S0A0B90G0\"][0]\n",
    "# filepath = kappa_map_files[\"H10S0A0B90G0\"][0]\n",
    "filepath = kappa_map_files[\"H36S0A0B90G0\"][0]\n",
    "eagle_kappa_map, eagle_hdrobj = fits.getdata(filepath, header=True)\n",
    "\n",
    "# GLASS models\n",
    "#statefile = states[\"H3S0A0B90G0\"][0]\n",
    "# statefile = prefiltered_fsynth50_states[\"H3S0A0B90G0\"][0]  # prefiltered_fsynth50_states[\"H3S0A0B90G0\"][0]\n",
    "# statefile = prefiltered_fsynth50_states[\"H10S0A0B90G0\"][0]\n",
    "statefile = prefiltered_fsynth50_states[\"H36S0A0B90G0\"][0]\n",
    "glass_state = glass.glcmds.loadstate(statefile)\n",
    "glass_state.make_ensemble_average()\n",
    "\n",
    "kkwargs = dict(vmin=0, vmax=eagle_kappa_map.max())\n"
   ]
  },
  {
   "cell_type": "markdown",
   "metadata": {
    "ein.tags": "worksheet-0",
    "slideshow": {
     "slide_type": "-"
    }
   },
   "source": [
    "#### The true EAGLE models"
   ]
  },
  {
   "cell_type": "code",
   "execution_count": null,
   "metadata": {
    "autoscroll": false,
    "collapsed": false,
    "ein.hycell": false,
    "ein.tags": "worksheet-0",
    "slideshow": {
     "slide_type": "-"
    }
   },
   "outputs": [],
   "source": [
    "eagle_pixrad = tuple(r//2 for r in eagle_kappa_map.shape)\n",
    "eagle_maprad = eagle_pixrad[1]*eagle_hdrobj['CDELT2']*3600\n",
    "eagle_mapextent = ((eagle_pixrad[0]+0.5)*eagle_hdrobj['CDELT1']*3600,\n",
    "                  (eagle_pixrad[1]+0.5)*eagle_hdrobj['CDELT2']*3600)\n",
    "eagle_cell_size = -3600*eagle_hdrobj['CDELT1']\n",
    "assert(eagle_hdrobj['CUNIT1' == 'deg'])\n",
    "\n",
    "print(\"Kappa map: {}\".format(eagle_kappa_map.shape))\n",
    "print(\"Pixrad {}\".format(eagle_pixrad))\n",
    "print(\"Maprad {}\".format(eagle_maprad))\n",
    "print(\"Mapextent {}\".format(eagle_mapextent))\n",
    "print(\"Cellsize {}\".format(eagle_cell_size))\n"
   ]
  },
  {
   "cell_type": "code",
   "execution_count": null,
   "metadata": {
    "autoscroll": false,
    "collapsed": false,
    "ein.hycell": false,
    "ein.tags": "worksheet-0",
    "slideshow": {
     "slide_type": "-"
    }
   },
   "outputs": [],
   "source": [
    "plt.imshow(np.log10(eagle_kappa_map))\n",
    "plt.colorbar()\n",
    "plt.gca().axis('off')\n",
    "plt.show()\n"
   ]
  },
  {
   "cell_type": "markdown",
   "metadata": {
    "ein.tags": "worksheet-0",
    "slideshow": {
     "slide_type": "-"
    }
   },
   "source": [
    "#### Resample EAGLE model to match GLASS model"
   ]
  },
  {
   "cell_type": "code",
   "execution_count": null,
   "metadata": {
    "autoscroll": false,
    "collapsed": false,
    "ein.hycell": false,
    "ein.tags": "worksheet-0",
    "slideshow": {
     "slide_type": "-"
    }
   },
   "outputs": [],
   "source": [
    "def resample_eaglemodel(eagle_model, extent, shape, verbose=False):\n",
    "    \"\"\"\n",
    "    Resample (usually downsample) an EAGLE model's kappa grid to match the specified scales and dimensions\n",
    "\n",
    "    Args:\n",
    "        eagle_model <tuple(np.ndarray, header object)> - EAGLE model with (data, hdr)\n",
    "        extent <tuple/list> - extent of the output\n",
    "        shape <tuple/list> - shape of the output\n",
    "\n",
    "    Kwargs:\n",
    "        verbose <bool> - verbose mode; print command line statements\n",
    "\n",
    "    Return:\n",
    "        kappa_resmap <np.ndarray> - resampled kappa grid\n",
    "    \"\"\"\n",
    "    kappa_map = eagle_model[0]\n",
    "    hdr = eagle_model[1]\n",
    "\n",
    "    pixrad = tuple(r//2 for r in kappa_map.shape)\n",
    "    maprad = pixrad[1]*hdr['CDELT2']*3600\n",
    "\n",
    "    xmdl = np.linspace(-maprad, maprad, kappa_map.shape[0])\n",
    "    ymdl = np.linspace(-maprad, maprad, kappa_map.shape[1])\n",
    "    newx = np.linspace(extent[0], extent[1], shape[0])\n",
    "    newy = np.linspace(extent[2], extent[3], shape[1])\n",
    "\n",
    "    rescale = interpolate.interp2d(xmdl, ymdl, kappa_map)\n",
    "    kappa_resmap = rescale(newx, newy)\n",
    "    kappa_resmap[kappa_resmap < 0] = 0\n",
    "\n",
    "    return kappa_resmap"
   ]
  },
  {
   "cell_type": "code",
   "execution_count": null,
   "metadata": {
    "autoscroll": false,
    "collapsed": false,
    "ein.hycell": false,
    "ein.tags": "worksheet-0",
    "slideshow": {
     "slide_type": "-"
    }
   },
   "outputs": [],
   "source": [
    "glass_objdta = glass_state.models[0]['obj,data'][0]\n",
    "glsmdl_maprad = glass_objdta[0].basis.top_level_cell_size * (glass_objdta[0].basis.pixrad)\n",
    "shape = glass_objdta[0].basis._to_grid(glass_objdta[1]['kappa'], 1).shape\n",
    "extent = (-glsmdl_maprad, glsmdl_maprad, -glsmdl_maprad, glsmdl_maprad)\n",
    "eagle_kappa_resmap = resample_eaglemodel(fits.getdata(filepath, header=True), extent, shape)\n",
    "\n",
    "plt.imshow(np.log10(eagle_kappa_resmap))\n",
    "plt.colorbar()\n",
    "plt.gca().axis('off')\n",
    "plt.show()\n"
   ]
  },
  {
   "cell_type": "markdown",
   "metadata": {
    "ein.tags": "worksheet-0",
    "slideshow": {
     "slide_type": "-"
    }
   },
   "source": [
    "#### Residuals (EAGLE2GLASS)"
   ]
  },
  {
   "cell_type": "code",
   "execution_count": null,
   "metadata": {
    "autoscroll": false,
    "collapsed": false,
    "ein.hycell": false,
    "ein.tags": "worksheet-0",
    "slideshow": {
     "slide_type": "-"
    }
   },
   "outputs": [],
   "source": [
    "%%skip True\n",
    "\n",
    "glass_objdta = glass_state.models[0]['obj,data'][0]\n",
    "glass_kappa_map = glass_objdta[0].basis._to_grid(glass_objdta[1]['kappa'], 1)\n",
    "\n",
    "resid_map = eagle_kappa_resmap - glass_kappa_map\n",
    "resid2_map = resid_map * resid_map\n",
    "r = np.sum(resid2_map)\n",
    "print(r)\n"
   ]
  },
  {
   "cell_type": "code",
   "execution_count": null,
   "metadata": {
    "autoscroll": false,
    "collapsed": false,
    "ein.hycell": false,
    "ein.tags": "worksheet-0",
    "slideshow": {
     "slide_type": "-"
    }
   },
   "outputs": [],
   "source": [
    "%%skip True\n",
    "\n",
    "plt.imshow(resid_map)\n",
    "plt.colorbar()\n",
    "plt.gca().axis('off')\n",
    "plt.show()\n"
   ]
  },
  {
   "cell_type": "markdown",
   "metadata": {
    "ein.tags": "worksheet-0",
    "slideshow": {
     "slide_type": "-"
    }
   },
   "source": [
    "#### Comparison loop for a single model (EAGLE2GLASS)"
   ]
  },
  {
   "cell_type": "code",
   "execution_count": null,
   "metadata": {
    "autoscroll": false,
    "collapsed": false,
    "ein.hycell": false,
    "ein.tags": "worksheet-0",
    "slideshow": {
     "slide_type": "-"
    }
   },
   "outputs": [],
   "source": [
    "N_models = len(glass_state.models)\n",
    "print(\"{} models\".format(N_models))\n",
    "\n",
    "kappa_resids = []\n",
    "eagle_model = fits.getdata(filepath, header=True)\n",
    "for m in glass_state.models:\n",
    "    objdta = m['obj,data'][0]\n",
    "    glass_kappa_map = objdta[0].basis._to_grid(objdta[1]['kappa'], 1)\n",
    "    maprad = objdta[0].basis.top_level_cell_size * (objdta[0].basis.pixrad)\n",
    "    shape = glass_kappa_map.shape\n",
    "    extent = (-maprad, maprad, -maprad, maprad)\n",
    "\n",
    "    kappa_resmap = resample_eaglemodel(eagle_model, extent, shape)\n",
    "\n",
    "    # residuals\n",
    "    resid_map = kappa_resmap - glass_kappa_map\n",
    "    resid2_map = resid_map * resid_map\n",
    "    r = np.sum(resid2_map)\n",
    "    kappa_resids.append(r)\n",
    "\n",
    "minidx = np.argmin(kappa_resids)\n",
    "print(\"Best fitting model index: {}\".format(minidx))\n",
    "print(\"with residual {}\".format(kappa_resids[minidx]))\n",
    "print(kappa_resids[minidx-4:minidx+4])\n"
   ]
  },
  {
   "cell_type": "code",
   "execution_count": null,
   "metadata": {
    "autoscroll": false,
    "collapsed": false,
    "ein.hycell": false,
    "ein.tags": "worksheet-0",
    "slideshow": {
     "slide_type": "-"
    }
   },
   "outputs": [],
   "source": [
    "objdta = glass_state.models[minidx]['obj,data'][0]\n",
    "min_e2gkappa_map = objdta[0].basis._to_grid(objdta[1]['kappa'], 1)\n",
    "maprad = objdta[0].basis.top_level_cell_size * (objdta[0].basis.pixrad)\n",
    "shape = min_e2gkappa_map.shape\n",
    "extent = (-maprad, maprad, -maprad, maprad)\n",
    "\n",
    "kappa_resmap = resample_eaglemodel(eagle_model, extent, shape)\n",
    "\n",
    "resid_map = kappa_resmap - min_e2gkappa_map\n",
    "resid2_map = resid_map * resid_map\n",
    "\n",
    "plt.imshow(min_e2gkappa_map, extent=extent)\n",
    "plt.colorbar()\n",
    "# plt.gca().axis('off')\n",
    "plt.show()\n",
    "\n",
    "plt.imshow(resid_map)\n",
    "plt.colorbar()\n",
    "plt.gca().axis('off')\n",
    "plt.show()"
   ]
  },
  {
   "cell_type": "markdown",
   "metadata": {
    "ein.tags": "worksheet-0",
    "slideshow": {
     "slide_type": "-"
    }
   },
   "source": [
    "#### The GLASS models"
   ]
  },
  {
   "cell_type": "code",
   "execution_count": null,
   "metadata": {
    "autoscroll": false,
    "collapsed": false,
    "ein.hycell": false,
    "ein.tags": "worksheet-0",
    "slideshow": {
     "slide_type": "-"
    }
   },
   "outputs": [],
   "source": [
    "glass_model = glass_state.models[0]\n",
    "glassobj, glassdta = glass_model['obj,data'][0]\n",
    "glass_kappa_map = glassobj.basis._to_grid(glassdta['kappa'], 1)\n",
    "\n",
    "glass_pixrad = glassobj.basis.pixrad\n",
    "glass_maprad = glassobj.basis.top_level_cell_size * (glassobj.basis.pixrad)\n",
    "glass_mapextent = (-glassobj.basis.top_level_cell_size * (glassobj.basis.pixrad+0.5),\n",
    "                 glassobj.basis.top_level_cell_size * (glassobj.basis.pixrad+0.5))\n",
    "glass_cell_size = glassobj.basis.top_level_cell_size\n",
    "\n",
    "print(\"Kappa map: {}\".format(glass_kappa_map.shape))\n",
    "print(\"Pixrad {}\".format(glass_pixrad))\n",
    "print(\"Maprad {}\".format(glass_maprad))\n",
    "print(\"Mapextent {}\".format(glass_mapextent))\n",
    "print(\"Cellsize {}\".format(glass_cell_size))\n"
   ]
  },
  {
   "cell_type": "code",
   "execution_count": null,
   "metadata": {
    "autoscroll": false,
    "collapsed": false,
    "ein.hycell": false,
    "ein.tags": "worksheet-0",
    "slideshow": {
     "slide_type": "-"
    }
   },
   "outputs": [],
   "source": [
    "# kkwargs = dict()\n",
    "plt.imshow(glass_kappa_map, **kkwargs)\n",
    "plt.colorbar()\n",
    "plt.gca().axis('off')\n",
    "plt.show()\n"
   ]
  },
  {
   "cell_type": "code",
   "execution_count": null,
   "metadata": {
    "autoscroll": false,
    "collapsed": false,
    "ein.hycell": false,
    "ein.tags": "worksheet-0",
    "slideshow": {
     "slide_type": "-"
    }
   },
   "outputs": [],
   "source": [
    "%%skip True\n",
    "glass_state.img_plot(obj_index=0, color='#fe4365')\n",
    "glass_state.arrival_plot(glass_state.ensemble_average, obj_index=0, only_contours=True,\n",
    "                         clevels=75, colors=['#603dd0'])\n",
    "glass_state.arrival_plot(glass_state.ensemble_average, obj_index=1, only_contours=True,\n",
    "                         clevels=50, colors=['#da9605'])\n",
    "plt.show()"
   ]
  },
  {
   "cell_type": "markdown",
   "metadata": {
    "ein.tags": "worksheet-0",
    "slideshow": {
     "slide_type": "-"
    }
   },
   "source": [
    "#### Resample GLASS model to match EAGLE model"
   ]
  },
  {
   "cell_type": "code",
   "execution_count": null,
   "metadata": {
    "autoscroll": false,
    "collapsed": false,
    "ein.hycell": false,
    "ein.tags": "worksheet-0",
    "slideshow": {
     "slide_type": "-"
    }
   },
   "outputs": [],
   "source": [
    "def resample_glassmodel(gls_model, extent, shape, verbose=False):\n",
    "    \"\"\"\n",
    "    Resample (usually upsample) a GLASS model's kappa grid to match the specified scales and dimensions\n",
    "\n",
    "    Args:\n",
    "        gls_model <glass.LensModel object> - GLASS ensemble model\n",
    "        extent <tuple/list> - extent of the output\n",
    "        shape <tuple/list> - shape of the output\n",
    "\n",
    "    Kwargs:\n",
    "        verbose <bool> - verbose mode; print command line statements\n",
    "\n",
    "    Return:\n",
    "        kappa_resmap <np.ndarray> - resampled kappa grid\n",
    "    \"\"\"\n",
    "    obj, data = gls_model['obj,data'][0]\n",
    "    kappa_map = obj.basis._to_grid(data['kappa'], 1)\n",
    "    pixrad = obj.basis.pixrad\n",
    "    maprad = obj.basis.top_level_cell_size * (obj.basis.pixrad)\n",
    "    mapextent = (-obj.basis.top_level_cell_size * (obj.basis.pixrad+0.5),\n",
    "                 obj.basis.top_level_cell_size * (obj.basis.pixrad+0.5))\n",
    "    cell_size = obj.basis.top_level_cell_size\n",
    "\n",
    "    if verbose:\n",
    "        print(obj)\n",
    "        print(\"Kappa map: {}\".format(kappa_map.shape))\n",
    "        print(\"Pixrad {}\".format(pixrad))\n",
    "        print(\"Maprad {}\".format(maprad))\n",
    "        print(\"Mapextent {}\".format(mapextent))\n",
    "        print(\"Cellsize {}\".format(cell_size))\n",
    "\n",
    "    xmdl = np.linspace(-maprad, maprad, kappa_map.shape[0])\n",
    "    ymdl = np.linspace(-maprad, maprad, kappa_map.shape[1])\n",
    "    Xmdl, Ymdl = np.meshgrid(xmdl, ymdl)\n",
    "    xnew = np.linspace(extent[0], extent[1], shape[0])\n",
    "    ynew = np.linspace(extent[2], extent[3], shape[1])\n",
    "    Xnew, Ynew = np.meshgrid(xnew, ynew)\n",
    "\n",
    "    rescale = interpolate.Rbf(Xmdl, Ymdl, kappa_map)\n",
    "    kappa_resmap = rescale(Xnew, Ynew)\n",
    "    kappa_resmap[kappa_resmap < 0] = 0\n",
    "\n",
    "    return kappa_resmap\n"
   ]
  },
  {
   "cell_type": "code",
   "execution_count": null,
   "metadata": {
    "autoscroll": false,
    "collapsed": false,
    "ein.hycell": false,
    "ein.tags": "worksheet-0",
    "slideshow": {
     "slide_type": "-"
    }
   },
   "outputs": [],
   "source": [
    "eagle_pixrad = tuple(r//2 for r in eagle_kappa_map.shape)\n",
    "eagle_maprad = eagle_pixrad[1]*eagle_hdrobj['CDELT2']*3600\n",
    "shape = eagle_kappa_map.shape\n",
    "extent = [-eagle_maprad, eagle_maprad, -eagle_maprad, eagle_maprad]\n",
    "glass_kappa_resmap = resample_glassmodel(glass_state.models[0], extent, shape)\n"
   ]
  },
  {
   "cell_type": "code",
   "execution_count": null,
   "metadata": {
    "autoscroll": false,
    "collapsed": false,
    "ein.hycell": false,
    "ein.tags": "worksheet-0",
    "slideshow": {
     "slide_type": "-"
    }
   },
   "outputs": [],
   "source": [
    "%%skip True\n",
    "\n",
    "x = np.linspace(-mdl_maprad, mdl_maprad, mdl_kappa_map.shape[0])\n",
    "y = np.linspace(-mdl_maprad, mdl_maprad, mdl_kappa_map.shape[1])\n",
    "newx = np.linspace(-eagle_maprad, eagle_maprad, eagle_kappa_map.shape[0])\n",
    "newy = np.linspace(-eagle_maprad, eagle_maprad, eagle_kappa_map.shape[1])\n",
    "\n",
    "rescale = interpolate.interp2d(x, y, mdl_kappa_map, kind='linear')\n",
    "# rescale = interpolate.RectBivariateSpline(x, y, mdl_kappa_map)\n",
    "glass_kappa_resmap = rescale(newx, newy)\n"
   ]
  },
  {
   "cell_type": "code",
   "execution_count": null,
   "metadata": {
    "autoscroll": false,
    "collapsed": false,
    "ein.hycell": false,
    "ein.tags": "worksheet-0",
    "slideshow": {
     "slide_type": "-"
    }
   },
   "outputs": [],
   "source": [
    "plt.imshow(glass_kappa_resmap, **kkwargs)\n",
    "plt.colorbar()\n",
    "plt.gca().axis('off')\n",
    "plt.show()\n"
   ]
  },
  {
   "cell_type": "markdown",
   "metadata": {
    "ein.tags": "worksheet-0",
    "slideshow": {
     "slide_type": "-"
    }
   },
   "source": [
    "#### Residuals (GLASS2EAGLE)"
   ]
  },
  {
   "cell_type": "code",
   "execution_count": null,
   "metadata": {
    "autoscroll": false,
    "collapsed": false,
    "ein.hycell": false,
    "ein.tags": "worksheet-0",
    "slideshow": {
     "slide_type": "-"
    }
   },
   "outputs": [],
   "source": [
    "%%skip True\n",
    "\n",
    "resid_map = eagle_kappa_map - glass_kappa_resmap\n",
    "resid2_map = resid_map * resid_map\n",
    "r = np.sum(resid2_map)\n",
    "print(r)\n"
   ]
  },
  {
   "cell_type": "code",
   "execution_count": null,
   "metadata": {
    "autoscroll": false,
    "collapsed": false,
    "ein.hycell": false,
    "ein.tags": "worksheet-0",
    "slideshow": {
     "slide_type": "-"
    }
   },
   "outputs": [],
   "source": [
    "%%skip True\n",
    "\n",
    "plt.imshow(resid_map)\n",
    "plt.colorbar()\n",
    "plt.gca().axis('off')\n",
    "plt.show()\n"
   ]
  },
  {
   "cell_type": "markdown",
   "metadata": {
    "ein.tags": "worksheet-0",
    "slideshow": {
     "slide_type": "-"
    }
   },
   "source": [
    "#### Comparison loop for a single model (GLASS2EAGLE)"
   ]
  },
  {
   "cell_type": "code",
   "execution_count": null,
   "metadata": {
    "autoscroll": false,
    "collapsed": false,
    "ein.hycell": false,
    "ein.tags": "worksheet-0",
    "slideshow": {
     "slide_type": "-"
    }
   },
   "outputs": [],
   "source": [
    "N_models = len(glass_state.models)\n",
    "print(\"{} models\".format(N_models))\n",
    "\n",
    "kappa_resids = []\n",
    "extent = [-eagle_maprad, eagle_maprad, -eagle_maprad, eagle_maprad]\n",
    "for m in glass_state.models:\n",
    "    mdl_kappa_resmap = resample_glassmodel(m, extent, eagle_kappa_map.shape)\n",
    "\n",
    "    # residuals\n",
    "    resid_map = eagle_kappa_map - mdl_kappa_resmap\n",
    "    resid2_map = resid_map * resid_map\n",
    "    r = np.sum(resid2_map)\n",
    "    kappa_resids.append(r)\n",
    "\n",
    "minidx2 = np.argmin(kappa_resids)\n",
    "print(\"Best fitting model index: {}\".format(minidx2))\n",
    "print(\"with residual {}\".format(kappa_resids[minidx2]))\n",
    "print(kappa_resids[minidx2-4:minidx2+4])\n"
   ]
  },
  {
   "cell_type": "code",
   "execution_count": null,
   "metadata": {
    "autoscroll": false,
    "collapsed": false,
    "ein.hycell": false,
    "ein.tags": "worksheet-0",
    "slideshow": {
     "slide_type": "-"
    }
   },
   "outputs": [],
   "source": [
    "min_g2ekappa_map = resample_glassmodel(glass_state.models[minidx2], extent, eagle_kappa_map.shape)\n",
    "resid_map = eagle_kappa_map - min_g2ekappa_map\n",
    "resid2_map = np.sqrt(resid_map * resid_map)\n",
    "\n",
    "plt.imshow(min_g2ekappa_map, **kkwargs)\n",
    "plt.colorbar()\n",
    "plt.gca().axis('off')\n",
    "plt.show()\n",
    "\n",
    "plt.imshow(resid_map)\n",
    "plt.colorbar()\n",
    "plt.gca().axis('off')\n",
    "plt.show()\n"
   ]
  },
  {
   "cell_type": "markdown",
   "metadata": {
    "ein.tags": "worksheet-0",
    "slideshow": {
     "slide_type": "-"
    }
   },
   "source": [
    "## Check COM"
   ]
  },
  {
   "cell_type": "markdown",
   "metadata": {
    "ein.tags": "worksheet-0",
    "slideshow": {
     "slide_type": "-"
    }
   },
   "source": [
    "The center of mass is defined as\n",
    "\n",
    "\\begin{equation}\n",
    "\\mathbf{R} = \\frac{1}{M} \\sum_{i=1}^{n}m_{i}\\mathbf{r}_{i}\n",
    "\\end{equation}\n"
   ]
  },
  {
   "cell_type": "code",
   "execution_count": null,
   "metadata": {
    "autoscroll": false,
    "collapsed": false,
    "ein.hycell": false,
    "ein.tags": "worksheet-0",
    "slideshow": {
     "slide_type": "-"
    }
   },
   "outputs": [],
   "source": [
    "def center_of_mass(kappa_map, pixel_scale=1, center=False):\n",
    "    \"\"\"\n",
    "    Calculate the 2D position of the center of mass\n",
    "\n",
    "    Args:\n",
    "        kappa_map <np.ndarray> - a 2D grid of kappa tiles\n",
    "\n",
    "    Kwargs:\n",
    "        pixel_scale <float> - the pixel scale\n",
    "        center <bool> - return the COM relative to the map center\n",
    "\n",
    "    Return:\n",
    "        com <np.ndarray> - center of mass on the kappa coordinate grid as (x, y)\n",
    "    \"\"\"\n",
    "    invM = 1./np.sum(kappa_map)\n",
    "    x1 = np.linspace(-(kappa_map.shape[0]//2), kappa_map.shape[0]//2,\n",
    "                     kappa_map.shape[0]) * pixel_scale\n",
    "    y1 = np.linspace(-(kappa_map.shape[1]//2), kappa_map.shape[1]//2,\n",
    "                     kappa_map.shape[1]) * pixel_scale\n",
    "    x, y = np.meshgrid(x1, y1)\n",
    "    rk = np.array([x*kappa_map, y*kappa_map])\n",
    "    com = np.sum(invM*rk, axis=(2, 1))\n",
    "    if not center:\n",
    "        com += pixel_scale * (np.array(kappa_map.shape) // 2)\n",
    "    return com\n",
    "\n",
    "eagle_com = center_of_mass(eagle_kappa_map)\n",
    "eagle_res_com = center_of_mass(eagle_kappa_resmap)\n",
    "glassg2e_com = center_of_mass(min_g2ekappa_map)\n",
    "glasse2g_com = center_of_mass(min_e2gkappa_map)\n",
    "\n",
    "print(\"Center of mass for EAGLE model {}: {}\".format(eagle_kappa_map.shape, eagle_com))\n",
    "print(\"Center of mass for GLASS model {}: {}\".format(min_g2ekappa_map.shape, glassg2e_com))\n",
    "\n",
    "print(\"Center of mass for EAGLE model {}: {}\".format(eagle_kappa_resmap.shape, eagle_res_com))\n",
    "print(\"Center of mass for GLASS model {}: {}\".format(min_e2gkappa_map.shape, glasse2g_com))\n",
    "\n",
    "# assert all(np.round(eagle_com) == np.round([0.5*s for s in eagle_kappa_map.shape]))\n",
    "# assert all(np.round(eagle_res_com) == np.round([0.5*s for s in eagle_kappa_resmap.shape]))\n",
    "# assert all(np.round(glassg2e_com) == np.round([0.5*s for s in min_g2ekappa_map.shape]))\n",
    "# assert all(np.round(glasse2g_com) == np.round([0.5*s for s in min_e2gkappa_map.shape]))\n"
   ]
  },
  {
   "cell_type": "markdown",
   "metadata": {
    "ein.tags": "worksheet-0",
    "slideshow": {
     "slide_type": "-"
    }
   },
   "source": [
    "## Inertia tensor"
   ]
  },
  {
   "cell_type": "markdown",
   "metadata": {
    "ein.tags": "worksheet-0",
    "slideshow": {
     "slide_type": "-"
    }
   },
   "source": [
    "The inertial tensor on a 2D grid is defined as\n",
    "\n",
    "\\begin{equation}\n",
    "I = \\left[ {\\begin{array}{cc}\n",
    "            \\int \\kappa x^2 & \\int \\kappa xy\\\\\n",
    "            \\int \\kappa yx  & \\int \\kappa y^2\\\\\n",
    "            \\end{array}}\n",
    "    \\right]\n",
    "\\end{equation}\n",
    "\n",
    "where $x$, $y$ are the coordinates with respect to the COM, and $\\kappa$ the grid values at those points.\n",
    "\n",
    "Since the integral over the unit circle\n",
    "\n",
    "\\begin{equation}\n",
    "\\frac{1}{\\pi} \\int x^2 \\mathrm{d}x \\mathrm{d}y = \\frac{1}{\\pi} \\int r^{3} \\mathrm{d}r \\sin^{2}{\\phi} \\mathrm{d}\\phi = \\frac{1}{4}\n",
    "\\end{equation}\n",
    "\n",
    "\n",
    "gives a factor of $1/4$. Therefore, the eigenvalues of the inertial tensor are $a^{2}/4$ and $b^{2}/4$, where $a$ and $b$ are the semi-major, resp. minor, axes."
   ]
  },
  {
   "cell_type": "code",
   "execution_count": null,
   "metadata": {
    "autoscroll": false,
    "collapsed": false,
    "ein.hycell": false,
    "ein.tags": "worksheet-0",
    "slideshow": {
     "slide_type": "-"
    }
   },
   "outputs": [],
   "source": [
    "def inertial_tensor(kappa_map, pixel_scale=1., activation=None, com_correct=False):\n",
    "    if activation is not None:\n",
    "        # kappa_map[kappa_map >= activation] = 1\n",
    "        kappa_map[kappa_map < activation] = 0\n",
    "    \n",
    "    x1 = np.linspace(-(kappa_map.shape[0]//2), kappa_map.shape[0]//2,\n",
    "                     kappa_map.shape[0]) * pixel_scale\n",
    "    y1 = np.linspace(-(kappa_map.shape[1]//2), kappa_map.shape[1]//2,\n",
    "                     kappa_map.shape[1]) * pixel_scale\n",
    "    x, y = np.meshgrid(x1, y1)\n",
    "    if com_correct:\n",
    "        com = center_of_mass(kappa_map, pixel_scale=pixel_scale)\n",
    "        x -= com[0]\n",
    "        y -= com[1]\n",
    "    yx = xy = y*x\n",
    "    N = 1./np.sum(kappa_map)\n",
    "    Ixx = N*np.sum(kappa_map*x*x)\n",
    "    Ixy = N*np.sum(kappa_map*xy)\n",
    "    Iyx = N*np.sum(kappa_map*yx)\n",
    "    Iyy = N*np.sum(kappa_map*y*y)\n",
    "    return np.matrix([[Ixx, Ixy], [Iyx, Iyy]])\n",
    "\n",
    "\n",
    "# on 17x17 grids\n",
    "print(eagle_kappa_resmap.shape)\n",
    "eagle_QPM = inertial_tensor(eagle_kappa_resmap, glass_cell_size, activation=1)\n",
    "# eagle_QPM = inertial_tensor(eagle_kappa_resmap, 1, activation=1)\n",
    "print(eagle_QPM)\n",
    "# print(inertial_tensor(eagle_kappa_resmap, glass_cell_size))\n",
    "\n",
    "print(min_e2gkappa_map.shape)\n",
    "glass_QPM = inertial_tensor(min_e2gkappa_map, glass_cell_size, activation=1)\n",
    "# glass_QPM = inertial_tensor(min_e2gkappa_map, 1, activation=1)\n",
    "print(glass_QPM)\n",
    "# print(inertial_tensor(min_e2gkappa_map, glass_cell_size))\n",
    "\n",
    "\n",
    "# on 161x161 grids\n",
    "#print(eagle_kappa_map.shape)\n",
    "#eagle_QPM = inertial_tensor(eagle_kappa_map)\n",
    "#print(eagle_QPM)\n",
    "## print(inertial_tensor(eagle_kappa_resmap, eagle_cell_size))\n",
    "\n",
    "#print(min_g2ekappa_map.shape)\n",
    "#glass_QPM = inertial_tensor(min_g2ekappa_map)\n",
    "#print(glass_QPM)\n",
    "## print(inertial_tensor(min_g2ekappa_map, eagle_cell_size))\n",
    "\n"
   ]
  },
  {
   "cell_type": "code",
   "execution_count": null,
   "metadata": {
    "autoscroll": false,
    "collapsed": false,
    "ein.hycell": false,
    "ein.tags": "worksheet-0",
    "slideshow": {
     "slide_type": "-"
    }
   },
   "outputs": [],
   "source": [
    "def eigvals2x2(q):\n",
    "    \"\"\"\n",
    "    Calculate the eigenvalues for a 2 by 2 matrix\n",
    "\n",
    "    Args:\n",
    "        q <np.matrix> - the matrix for which to calculate the eigenvalues\n",
    "\n",
    "    Kwargs:\n",
    "        None\n",
    "\n",
    "    Return:\n",
    "        lambda1, lambda2 <float,float> - the two eigenvalues\n",
    "    \"\"\"\n",
    "    a, b, c, d = q.flatten().tolist()[0]\n",
    "    T = a + d\n",
    "    D = a*d-b*c\n",
    "    lambda1 = 0.5*T + np.sqrt(0.25*T*T - D)\n",
    "    lambda2 = 0.5*T - np.sqrt(0.25*T*T - D)\n",
    "    return lambda1, lambda2\n",
    "\n",
    "\n",
    "def diag2x2(q):\n",
    "    \"\"\"\n",
    "    Calculate the diagonal matrix of a 2 by 2 matrix\n",
    "\n",
    "    Args:\n",
    "        q <np.matrix> - the matrix for which to calculate the eigenvalues\n",
    "\n",
    "    Kwargs:\n",
    "        None\n",
    "\n",
    "    Return:\n",
    "        d <np.matrix> - the diagonal matrix of q\n",
    "    \"\"\"\n",
    "    l1, l2 = eigvals2x2(q)\n",
    "    if l1 != l2:\n",
    "        return np.matrix([[l1, 0], [0, l2]])\n",
    "    else:\n",
    "        None\n",
    "\n",
    "def vangle(v1, v2):\n",
    "    \"\"\"\n",
    "    Find the angle between two 2d vectors\n",
    "\n",
    "    Args:\n",
    "        v1, v2 <np.ndarray> - the vectors\n",
    "\n",
    "    Kwargs:\n",
    "        None\n",
    "\n",
    "    Return:\n",
    "        angle <float> - the angle between the vectors\n",
    "    \"\"\"\n",
    "    v1 = np.asarray(v1)\n",
    "    v2 = np.asarray(v2)\n",
    "    vdotv = v1.dot(v2)\n",
    "    vvnorm = np.sqrt(v1.dot(v1)) * np.sqrt(v2.dot(v2))\n",
    "    return np.arccos(vdotv/(vvnorm))\n",
    "    \n",
    "def eigvec2x2(q):\n",
    "    \"\"\"\n",
    "    Calculate the eigenvectors for a 2 by 2 matrix\n",
    "\n",
    "    Args:\n",
    "        q <np.matrix> - the matrix for which to calculate the eigenvalues\n",
    "\n",
    "    Kwargs:\n",
    "        None\n",
    "\n",
    "    Return:\n",
    "        v <np.ndarray, np.ndarray> - the eigenvectors of q\n",
    "    \"\"\"\n",
    "    a, b, c, d = q.flatten().tolist()[0]\n",
    "    ratio = np.array([(a+c-li)/(li-b-d) for li in eigvals2x2(q)])\n",
    "    v1 = np.array([1, 1])  # choose something\n",
    "    v = np.array([v1, ratio*v1]).T\n",
    "    \n",
    "    # assert vangle(v[0], v[1]) - 0.5*np.pi < 1e-12\n",
    "    return v[0], v[1]\n",
    "\n",
    "\n",
    "print(\"EAGLE model\")\n",
    "eagle_eigvals = eigvals2x2(eagle_QPM)\n",
    "eagle_eigvecs = eigvec2x2(eagle_QPM)\n",
    "eagle_phi = vangle(eagle_eigvecs[0], [1, 0])\n",
    "eagle_a, eagle_b = [2*np.sqrt(l) for l in eagle_eigvals]\n",
    "\n",
    "# print(diag2x2(eagle_QPM))\n",
    "# print(eigvec2x2(eagle_QPM))\n",
    "print(eagle_a, eagle_b)\n",
    "print(eagle_phi * 180/np.pi)\n",
    "\n",
    "print(\"GLASS model\")\n",
    "glass_eigvals = eigvals2x2(glass_QPM)\n",
    "glass_eigvecs = eigvec2x2(glass_QPM)\n",
    "glass_phi = vangle(glass_eigvecs[0], [1, 0])\n",
    "glass_a, glass_b = [2*np.sqrt(l) for l in glass_eigvals]\n",
    "\n",
    "# print(diag2x2(glass_QPM))\n",
    "# print(eigvec2x2(glass_QPM))\n",
    "print(glass_a, glass_b)\n",
    "print(glass_phi * 180/np.pi)\n"
   ]
  },
  {
   "cell_type": "markdown",
   "metadata": {
    "ein.tags": "worksheet-0",
    "slideshow": {
     "slide_type": "-"
    }
   },
   "source": [
    "## Loop over all 3 test cases (H3S0A0B90G0, H10S0A0B90G0, H36S0A0B90G0)"
   ]
  },
  {
   "cell_type": "code",
   "execution_count": null,
   "metadata": {
    "autoscroll": false,
    "collapsed": false,
    "ein.hycell": false,
    "ein.tags": "worksheet-0",
    "slideshow": {
     "slide_type": "-"
    }
   },
   "outputs": [],
   "source": [
    "%%skip True  # TODO\n",
    "for k in [\"H3S0A0B90G0\", \"H10S0A0B90G0\", \"H36S0A0B90G0\"]:\n",
    "    filepath = kappa_map_files[k][0]\n",
    "    eagle_model = fits.getdata(filepath, header=True)\n",
    "\n",
    "    for idx in range(len(states[k])):\n",
    "        statefile = states[k][idx]\n",
    "        fltrdfile = filtered_states[k][idx]\n",
    "        synthfile = fsynth50_states[k][idx]\n",
    "        fltrdsynthfile = prefiltered_fsynth50_states[k][idx]\n",
    "\n",
    "        for f in [statefile, fltrdfile, synthfile, fltrdsynthfile]:\n",
    "            print(f)\n",
    "\n",
    "            glass_state = glass.glcmds.loadstate(f)\n",
    "            glass_state.make_ensemble_average()\n",
    "\n",
    "            N_models = len(glass_state.models)\n",
    "            maprad = glass_state.models[0]['obj,data'][0][0].basis.top_level_cell_size \\\n",
    "                     * glass_state.models[0]['obj,data'][0][0].basis.pixrad\n",
    "            extent = (-maprad, maprad, -maprad, maprad)\n",
    "            print(\"Number of models: {:4d}\".format(N_models))\n",
    "            print(\"Maprad: {:02.4f}\".format(maprad))\n",
    "\n",
    "            deltas = []\n",
    "            for i, m in enumerate(glass_state.models):\n",
    "                objdta = m['obj,data'][0]\n",
    "                glass_kappa_map = objdta[0].basis._to_grid(objdta[1]['kappa'], 1)\n",
    "\n",
    "                eagle_kappa_resmap = resample_eaglemodel(eagle_model, extent, glass_kappa_map.shape)\n",
    "\n",
    "                delta_map = eagle_kappa_resmap - glass_kappa_map\n",
    "                delta2_map = resid_map * resid_map\n",
    "                deltas.append(np.sum(delta2_map))\n",
    "\n",
    "            minidx = np.argmin(deltas)\n",
    "            print(\"Closest model: Index {} with a delta^2 of {}\".format(minidx, residuals[minidx]))\n",
    "            objdta = glass_state.models[minidx]['obj,data'][0]\n",
    "            glass_kappa_map = objdta[0].basis._to_grid(objdta[1]['kappa'], 1)\n",
    "            eagle_kappa_resmap = resample_eaglemodel(eagle_model, extent, glass_kappa_map.shape)\n",
    "            \n",
    "    "
   ]
  },
  {
   "cell_type": "markdown",
   "metadata": {
    "ein.tags": "worksheet-0",
    "slideshow": {
     "slide_type": "-"
    }
   },
   "source": [
    "### Potential/arrival time analysis\n",
    "\n",
    "The lensing potential is defined as\n",
    "\n",
    "\\begin{equation}\n",
    "\\psi (\\mathbf{\\theta}) = \\frac{1}{\\pi} \\int \\kappa(\\theta)\\,\\mathrm{ln}|\\mathbf{\\theta}-\\mathbf{\\theta'}| \\mathrm{d}^{2}\\mathbf{\\theta'}\n",
    "\\end{equation}\n",
    "\n",
    "On a grid, we write $x$, $y$ for $\\theta$, and $a$ for the pixel size. The indefinite integral then corresponds to\n",
    "\n",
    "\\begin{equation}\n",
    "\\psi(x, y) = \\sum_{n} \\kappa_{n} Q_{n}(x, y)\n",
    "\\end{equation}\n",
    "\n",
    "where $Q_{n}$ is the logarithm evaluated over the n-th pixel at position $(x_{n}, y_{n})$.\n",
    "In the carthesian coordinates, this gives\n",
    "\n",
    "\\begin{equation}\n",
    "Q_{n}(x, y) = \\frac{1}{2}\\int_{y_{-}}^{y_{+}}\\int_{x_{-}}^{x_{+}} \\mathrm{ln}(x'^{2}+y'^{2})\\mathrm{d}x'\\mathrm{d}y'\n",
    "\\end{equation}\n",
    "\n",
    "where $x_{\\pm} = x-x_{n} \\pm \\frac{a}{2}$, and analgously for $y_{\\pm}$. Using some algebraic reformulation gives\n",
    "\n",
    "\n",
    "\\begin{align}\n",
    "Q_{n}(x, y) = \\,&\\tilde{Q}_{n}(x-x_{n}+\\frac{a}{2}, y-y_{n}+\\frac{a}{2}) \\\\\n",
    "              + &\\tilde{Q}_{n}(x-x_{n}-\\frac{a}{2}, y-y_{n}-\\frac{a}{2}) \\\\\n",
    "              - &\\tilde{Q}_{n}(x-x_{n}+\\frac{a}{2}, y-y_{n}-\\frac{a}{2}) \\\\\n",
    "              - &\\tilde{Q}_{n}(x-x_{n}-\\frac{a}{2}, y-y_{n}+\\frac{a}{2})\n",
    "\\end{align}\n",
    "\n",
    "where $\\tilde{\\psi}_{mn}$ is defined as\n",
    "\n",
    "\n",
    "\\begin{equation}\n",
    "\\tilde{Q}_{n}(x, y) = \\frac{1}{2\\pi} \\left[x^{2}\\mathrm{arctan}\\frac{y}{x} + y^{2}\\mathrm{arctan}\\frac{x}{y} + xy (\\mathrm{ln}(x^{2}+y^{2}) - 3)\\right]\n",
    "\\end{equation}\n",
    "\n",
    "                                                                                           "
   ]
  },
  {
   "cell_type": "code",
   "execution_count": null,
   "metadata": {
    "autoscroll": false,
    "collapsed": false,
    "ein.hycell": false,
    "ein.tags": "worksheet-0",
    "slideshow": {
     "slide_type": "-"
    }
   },
   "outputs": [],
   "source": [
    "def potential_indef(x, y, x2=None, y2=None):\n",
    "    \"\"\"\n",
    "    Indefinite integral for a lensing potential\n",
    "\n",
    "    Args:\n",
    "        x, y <float/np.ndarray> - theta coordinate components\n",
    "\n",
    "    Kwargs:\n",
    "        x2, y2 <float/np.ndarray> - optionally the squared arguments can be passed\n",
    "                                    to increase efficiency\n",
    "    \"\"\"\n",
    "    if x2 is None:\n",
    "        x2 = x*x\n",
    "    if y2 is None:\n",
    "        y2 = y*y\n",
    "    return x*y*(np.log(x2+y2) - 3) + x2*np.arctan(y/x) + y2*np.arctan(x/y)\n",
    "\n",
    "\n",
    "def potential(x, y, xn, yn, a):\n",
    "    \"\"\"\n",
    "    Potential contribution of the n-th pixel\n",
    "\n",
    "    Args:\n",
    "        x, y <float/np.ndarray> - theta coordinate components of the potential\n",
    "        xn, yn <float/np.ndarray> - pixel coordinates of the kappa grid\n",
    "        a <float> - pixel scale of the kappa grid\n",
    "    \"\"\"\n",
    "    xm, xp = x-xn-0.5*a, x-xn+0.5*a\n",
    "    ym, yp = y-yn-0.5*a, y-yn+0.5*a\n",
    "    xm2, xp2 = xm*xm, xp*xp\n",
    "    ym2, yp2 = ym*ym, yp*yp\n",
    "    return potential_indef(xm, ym, xm2, ym2) + potential_indef(xp, yp, xp2, yp2) \\\n",
    "        - potential_indef(xm, yp, xm2, yp2) - potential_indef(xp, ym, xp2, ym2)\n",
    "\n",
    "\n",
    "def potential_grid(kappa, N, grid_size, verbose=False):\n",
    "    \"\"\"\n",
    "    The entire potential grid\n",
    "\n",
    "    Args:\n",
    "        kappa <np.ndarray> - the kappa grid\n",
    "        pixel_size <float> - pixel scale of the kappa grid\n",
    "        N <int> - number of grid points along the axes of the potential grid\n",
    "        grid_size <float> - the length of the grid along the axes of the kappa grid\n",
    "\n",
    "    Kwargs:\n",
    "        verbose <bool> - verbose mode; print command line statements\n",
    "\n",
    "    Return:\n",
    "        gx, gy, psi <np.ndarray> - the x and y grid coordinates and the potential grid\n",
    "    \"\"\"\n",
    "    N += (N % 2 == 0) and 1\n",
    "    x = np.linspace(-grid_size/2., grid_size/2., N)\n",
    "    y = np.linspace(-grid_size/2., grid_size/2., N)\n",
    "    xkappa = np.linspace(-grid_size/2., grid_size/2., kappa.shape[0])\n",
    "    ykappa = np.linspace(-grid_size/2., grid_size/2., kappa.shape[1])\n",
    "    pixel_size = abs(xkappa[0] - xkappa[1])\n",
    "\n",
    "    gx, gy = np.meshgrid(x, y)\n",
    "\n",
    "    if verbose:\n",
    "        print(\"kappa:     \\t{}\".format(kappa.shape))\n",
    "        print(\"pixel_size:\\t{}\".format(pixel_size))\n",
    "        print(\"N:         \\t{}\".format(N))\n",
    "        print(\"grid_size: \\t{}\".format(grid_size))\n",
    "\n",
    "    psi = np.zeros((N, N))\n",
    "    for m, ym in enumerate(ykappa):\n",
    "        for n, xn in enumerate(xkappa):\n",
    "            psi += kappa[m, n]*potential(gx, gy, xn, ym, pixel_size)\n",
    "    psi *= -1./(2*np.pi)\n",
    "\n",
    "    return gx, gy, psi\n",
    "\n",
    "\n",
    "obj, data = glass_state.models[minidx]['obj,data'][0]\n",
    "subdiv = 1\n",
    "pixel_size = obj.basis.top_level_cell_size / subdiv\n",
    "maplen = 2 * obj.basis.maprad\n",
    "# maplen = 2 * obj.basis.maprad + pixel_size/2\n",
    "kmap = obj.basis._to_grid(data['kappa'], subdiv)\n",
    "gx, gy, pot = potential_grid(kmap, pixel_size, 85, maplen, verbose=1)\n",
    "plt.imshow(pot)\n",
    "plt.colorbar()\n",
    "plt.gca().set_aspect('equal')\n",
    "plt.show()\n",
    "\n",
    "pot_gls = obj.basis.potential_grid(data)\n",
    "plt.imshow(pot_gls)\n",
    "plt.colorbar()\n",
    "plt.show()\n",
    "\n",
    "diff = pot_gls - pot\n",
    "plt.imshow(diff)\n",
    "plt.colorbar()\n",
    "plt.show()\n",
    "print(\"\\nMax diff: {}\".format(np.max(np.abs(diff))))\n",
    "print(\"Diff sum: {}\".format(np.sum(np.abs(diff))))\n"
   ]
  },
  {
   "cell_type": "markdown",
   "metadata": {
    "ein.tags": "worksheet-0",
    "slideshow": {
     "slide_type": "-"
    }
   },
   "source": [
    "Arrival time surface is\n",
    "\n",
    "\\begin{equation}\n",
    "\\tau(\\mathbf{\\theta}) = \\frac{1}{2} \\theta^{2} - \\psi(\\mathbf{\\theta}) + \\mathbf{\\theta}\\cdot\\mathbf{\\beta} + \\frac{1}{2} \\beta^{2}\n",
    "\\end{equation}\n",
    "\n",
    "The mass-sheet degeneracy only affects the first two terms. We want to make use of this degeneracy to find the best fitting GLASS model to the EAGLE model.\n",
    "\n",
    "\\begin{equation}\n",
    "\\tau(\\mathbf{\\theta})_{\\text{deg}} = \\frac{1}{2} \\theta^{2} - \\psi(\\mathbf{\\theta})\n",
    "\\end{equation}\n",
    "\n",
    "In other words we search for\n",
    "\n",
    "\\begin{equation}\n",
    "\\min_{\\text{models,} \\lambda} \n",
    "\\end{equation}\n"
   ]
  },
  {
   "cell_type": "code",
   "execution_count": null,
   "metadata": {
    "autoscroll": false,
    "collapsed": false,
    "ein.hycell": false,
    "ein.tags": "worksheet-0",
    "slideshow": {
     "slide_type": "-"
    }
   },
   "outputs": [],
   "source": [
    "def degarriv_grid(*args, **kwargs):\n",
    "    \"\"\"\n",
    "    The degenerate arrival time surface without source shift: 1/2 theta^2 - psi\n",
    "\n",
    "    Args:\n",
    "        kappa <np.ndarray> - the kappa grid\n",
    "        pixel_size <float> - pixel scale of the kappa grid\n",
    "        N <int> - number of grid points along the axes of the potential grid\n",
    "        grid_size <float> - the length of the grid along the axes of the kappa grid\n",
    "\n",
    "    Kwargs:\n",
    "        verbose <bool> - verbose mode; print command line statements\n",
    "\n",
    "    Return:\n",
    "        gx, gy, psi <np.ndarray> - the x and y grid coordinates and the potential grid\n",
    "    \"\"\"\n",
    "    gx, gy, psi = potential_grid(*args, **kwargs)\n",
    "    return gx, gy, 0.5*(gx*gx + gy*gy) + psi\n",
    "\n",
    "\n",
    "def arriv_product(eagle_map, glass_map):\n",
    "    \"\"\"\n",
    "    The inner product of the degenerate arrival time surfaces of a glass and eagle model\n",
    "\n",
    "    Args:\n",
    "        eagle_map <np.ndarray> - the arrival map of the eagle model\n",
    "        glass_map <np.ndarray> - the arrival map of the glass model\n",
    "\n",
    "    Kwargs:\n",
    "        None\n",
    "\n",
    "    Return:\n",
    "        None\n",
    "    \"\"\"\n",
    "    # eagle_map *= np.sum(glass_map)/np.sum(eagle_map)\n",
    "    # return np.sum(eagle_map * glass_map) / np.sqrt(np.sum(glass_map*glass_map))\n",
    "    return np.sum(eagle_map * glass_map) / np.linalg.norm(glass_map) / np.linalg.norm(eagle_map)\n",
    "\n",
    "\n",
    "obj, data = glass_state.models[minidx]['obj,data'][0]\n",
    "subdiv = 1\n",
    "pixel_size = obj.basis.top_level_cell_size / subdiv\n",
    "maplen = 2 * obj.basis.maprad\n",
    "kmap = obj.basis._to_grid(data['kappa'], subdiv)\n",
    "gx, gy, degarr = degarriv_grid(kmap, pixel_size, 85, maplen, verbose=1)\n",
    "plt.contourf(gx, gy, degarr, levels=np.linspace(degarr.min(), degarr.max(), 14))\n",
    "plt.colorbar()\n",
    "plt.gca().set_aspect('equal')\n",
    "plt.show()\n",
    "\n",
    "\n"
   ]
  },
  {
   "cell_type": "markdown",
   "metadata": {
    "ein.tags": "worksheet-0",
    "slideshow": {
     "slide_type": "-"
    }
   },
   "source": [
    "### Arrival time loop for a single model\n"
   ]
  },
  {
   "cell_type": "code",
   "execution_count": null,
   "metadata": {
    "autoscroll": false,
    "collapsed": false,
    "ein.hycell": false,
    "ein.tags": "worksheet-0",
    "slideshow": {
     "slide_type": "-"
    }
   },
   "outputs": [],
   "source": [
    "%%skip True\n",
    "# EAGLE models\n",
    "kid = \"H3S0A0B90G0\"  # \"H10S0A0B90G0\" \"H36S0A0B90G0\"\n",
    "filepath = kappa_map_files[kid][0]\n",
    "eagle_model = fits.getdata(filepath, header=True)  # kappa, hdr\n",
    "\n",
    "# GLASS models\n",
    "statefile = prefiltered_fsynth50_states[kid][0]\n",
    "# statefile = synthf50_states[kid][0]\n",
    "# statefile = filtered_states[kid][0]\n",
    "# statefile = states[kid][0]\n",
    "glass_state = glass.glcmds.loadstate(statefile)\n",
    "glass_state.make_ensemble_average()\n",
    "\n",
    "\n",
    "# testing for the first ensemble model\n",
    "# obj, data = glass_state.models[0]['obj,data'][0]\n",
    "# pixel_size = obj.basis.top_level_cell_size\n",
    "# maprad = obj.basis.top_level_cell_size * (obj.basis.pixrad)\n",
    "# maplen = 2 * maprad\n",
    "# shape = (2*obj.basis.pixrad+1,)*2\n",
    "# eagle_kappa_map = resample_eaglemodel(eagle_model, (-maprad, maprad, -maprad, maprad), shape)\n",
    "# glass_kappa_map = obj.basis._to_grid(data['kappa'], 1)\n",
    "# gx_glass, gy_glass, glass_degarr = degarriv_grid(glass_kappa_map, pixel_size, 35, maplen)\n",
    "# gx_eagle, gy_eagle, eagle_degarr = degarriv_grid(eagle_kappa_map, pixel_size, 35, maplen)\n",
    "\n",
    "# plt.contourf(gx_glass, gy_glass, glass_degarr, levels=np.linspace(glass_degarr.min(), glass_degarr.max(), 14))\n",
    "# plt.colorbar()\n",
    "# plt.gca().set_aspect('equal')\n",
    "# plt.show()\n",
    "\n",
    "# plt.contourf(gx_eagle, gy_eagle, eagle_degarr, levels=np.linspace(eagle_degarr.min(), eagle_degarr.max(), 14))\n",
    "# plt.colorbar()\n",
    "# plt.gca().set_aspect('equal')\n",
    "# plt.show()"
   ]
  },
  {
   "cell_type": "code",
   "execution_count": null,
   "metadata": {
    "autoscroll": false,
    "collapsed": false,
    "ein.hycell": false,
    "ein.tags": "worksheet-0",
    "slideshow": {
     "slide_type": "-"
    }
   },
   "outputs": [],
   "source": [
    "# EAGLE models\n",
    "kid = \"H3S0A0B90G0\"  # \"H10S0A0B90G0\" \"H36S0A0B90G0\"\n",
    "filepath = kappa_map_files[kid][0]\n",
    "eagle_model = fits.getdata(filepath, header=True)  # kappa, hdr\n",
    "\n",
    "# GLASS models\n",
    "# statefile = prefiltered_fsynth50_states[kid][0]\n",
    "# statefile = synthf50_states[kid][0]\n",
    "# statefile = filtered_states[kid][0]\n",
    "statefile = states[kid][0]\n",
    "glass_state = glass.glcmds.loadstate(statefile)\n",
    "glass_state.make_ensemble_average()\n",
    "\n",
    "\n",
    "def degarr_comparison(eagle_model, gls):\n",
    "    \"\"\"\n",
    "    Degenerate arrival time surface comparison loop for a glass and eagle model\n",
    "\n",
    "    Args:\n",
    "        eagle_model <(np.ndarray, astropy.io.fits.header.Header object)> - EAGLE .fits read output\n",
    "        gls <glass.environment.Environment object> - a GLASS state\n",
    "\n",
    "    Kwargs:\n",
    "        None\n",
    "\n",
    "    Return:\n",
    "        None\n",
    "    \"\"\"\n",
    "    arriv_products = []\n",
    "\n",
    "    obj, _ = gls.models[0]['obj,data'][0]\n",
    "    pixel_size = obj.basis.top_level_cell_size\n",
    "    maprad = obj.basis.top_level_cell_size * (obj.basis.pixrad)\n",
    "    maplen = 2 * maprad\n",
    "    shape = (2*obj.basis.pixrad+1,)*2\n",
    "    eagle_kappa_map = resample_eaglemodel(eagle_model, (-maprad, maprad, -maprad, maprad), shape)\n",
    "    for m in gls.models:\n",
    "        obj, data = m['obj,data'][0]\n",
    "        glass_kappa_map = obj.basis._to_grid(data['kappa'], 1)\n",
    "    \n",
    "        # get arrival maps\n",
    "        gx_glass, gy_glass, glass_degarr = degarriv_grid(glass_kappa_map, pixel_size, 35, maplen)\n",
    "        gx_eagle, gy_eagle, eagle_degarr = degarriv_grid(eagle_kappa_map, pixel_size, 35, maplen)\n",
    "\n",
    "        p = arriv_product(eagle_degarr, glass_degarr)\n",
    "        arriv_products.append(p)\n",
    "\n",
    "    return arriv_products\n",
    "    \n",
    "\n",
    "inner_prods = degarr_comparison(eagle_model, glass_state)\n",
    "plt.hist(inner_prods, bins=16)\n",
    "plt.show()\n",
    "\n"
   ]
  },
  {
   "cell_type": "code",
   "execution_count": null,
   "metadata": {
    "autoscroll": false,
    "collapsed": false,
    "ein.hycell": false,
    "ein.tags": "worksheet-0",
    "slideshow": {
     "slide_type": "-"
    }
   },
   "outputs": [],
   "source": [
    "maxidx = np.argmax(inner_prods)\n",
    "minidx3 = np.argmin(inner_prods)\n",
    "\n",
    "print(\"Best fitting model index: {}\".format(maxidx))\n",
    "print(\"with inner product of {}\".format(inner_prods[maxidx]))\n",
    "\n",
    "obj, data = glass_state.models[maxidx]['obj,data'][0]\n",
    "pixel_size = obj.basis.top_level_cell_size\n",
    "maprad = obj.basis.top_level_cell_size * (obj.basis.pixrad)\n",
    "maplen = 2 * maprad\n",
    "shape = (2*obj.basis.pixrad+1,)*2\n",
    "eagle_kappa_map = resample_eaglemodel(eagle_model, (-maprad, maprad, -maprad, maprad), shape)\n",
    "glass_kappa_map = obj.basis._to_grid(data['kappa'], 1)\n",
    "gx_glass, gy_glass, glass_degarr = degarriv_grid(glass_kappa_map, pixel_size, 35, maplen)\n",
    "gx_eagle, gy_eagle, eagle_degarr = degarriv_grid(eagle_kappa_map, pixel_size, 35, maplen)\n",
    "glass_degarr /= np.linalg.norm(glass_degarr)\n",
    "eagle_degarr /= np.linalg.norm(eagle_degarr)\n",
    "\n",
    "plt.contourf(gx_glass, gy_glass, glass_degarr, levels=np.linspace(glass_degarr.min(), glass_degarr.max(), 14))\n",
    "plt.colorbar()\n",
    "plt.gca().set_aspect('equal')\n",
    "plt.show()\n",
    "\n",
    "plt.contourf(gx_eagle, gy_eagle, eagle_degarr, levels=np.linspace(eagle_degarr.min(), eagle_degarr.max(), 14))\n",
    "plt.colorbar()\n",
    "plt.gca().set_aspect('equal')\n",
    "plt.show()\n",
    "\n",
    "\n",
    "# obj, data = glass_state.models[minidx3]['obj,data'][0]\n",
    "# pixel_size = obj.basis.top_level_cell_size\n",
    "# maprad = obj.basis.top_level_cell_size * (obj.basis.pixrad)\n",
    "# maplen = 2 * maprad\n",
    "# shape = (2*obj.basis.pixrad+1,)*2\n",
    "# eagle_kappa_map = resample_eaglemodel(eagle_model, (-maprad, maprad, -maprad, maprad), shape)\n",
    "# glass_kappa_map = obj.basis._to_grid(data['kappa'], 1)\n",
    "# gx_glass, gy_glass, glass_degarr = degarriv_grid(glass_kappa_map, pixel_size, 35, maplen)\n",
    "# gx_eagle, gy_eagle, eagle_degarr = degarriv_grid(eagle_kappa_map, pixel_size, 35, maplen)\n",
    "# glass_degarr /= np.linalg.norm(glass_degarr)\n",
    "# eagle_degarr /= np.linalg.norm(eagle_degarr)\n",
    "\n",
    "fig = plt.figure()\n",
    "ax = fig.add_subplot(111)\n",
    "diff = eagle_degarr-glass_degarr\n",
    "# glass_state.img_plot(obj_index=0)\n",
    "ax.contourf(gx_glass, gy_glass, diff, cmap='RdBu', vmin=-np.max(diff), vmax=np.max(diff))\n",
    "# ax.add_colorbar()\n",
    "imgs = [109.0, 97.0], [51.0, 73.0], [55.0, 100.0], [84.0, 49.0]\n",
    "imgs = [[(x[0]-80)*0.05, (x[1]-80)*0.05] for x in imgs]\n",
    "print(imgs)\n",
    "for i in imgs:\n",
    "    ax.plot(*i, marker='.')\n",
    "plt.gca().set_aspect('equal')\n",
    "plt.show()\n",
    "\n",
    "\n",
    "# plt.contourf(gx_glass, gy_glass, glass_degarr, levels=np.linspace(glass_degarr.min(), glass_degarr.max(), 14))\n",
    "# plt.colorbar()\n",
    "# plt.gca().set_aspect('equal')\n",
    "# plt.show()\n",
    "\n",
    "# plt.contourf(gx_eagle, gy_eagle, eagle_degarr, levels=np.linspace(eagle_degarr.min(), eagle_degarr.max(), 14))\n",
    "# plt.colorbar()\n",
    "# plt.gca().set_aspect('equal')\n",
    "# plt.show()\n",
    "\n",
    "\n",
    "# plt.imshow(glass_kappa_map)\n",
    "# plt.colorbar()\n",
    "# plt.gca().set_aspect('equal')\n",
    "# plt.show()\n",
    "\n",
    "# plt.imshow(eagle_kappa_map)\n",
    "# plt.colorbar()\n",
    "# plt.gca().set_aspect('equal')\n",
    "# plt.show()\n",
    "\n",
    "\n",
    "\n",
    "\n",
    "\n"
   ]
  },
  {
   "cell_type": "markdown",
   "metadata": {
    "ein.tags": "worksheet-0",
    "slideshow": {
     "slide_type": "-"
    }
   },
   "source": [
    "### Arrival time loop for ALL 3 test cases (H3S0A0B90G0, H10S0A0B90G0, H36S0A0B90G0)"
   ]
  },
  {
   "cell_type": "code",
   "execution_count": null,
   "metadata": {
    "autoscroll": false,
    "collapsed": false,
    "ein.hycell": false,
    "ein.tags": "worksheet-0",
    "slideshow": {
     "slide_type": "-"
    }
   },
   "outputs": [],
   "source": [
    "%%skip True\n",
    "for k in [\"H3S0A0B90G0\", \"H10S0A0B90G0\", \"H36S0A0B90G0\"]:\n",
    "    filepath = kappa_map_files[k][0]\n",
    "    eagle_model = fits.getdata(filepath, header=True)\n",
    "\n",
    "    for idx in range(len(states[k])):\n",
    "        statefile = states[k][idx]\n",
    "        fltrdfile = filtered_states[k][idx]\n",
    "        synthfile = fsynth50_states[k][idx]\n",
    "        fltrdsynthfile = prefiltered_fsynth50_states[k][idx]\n",
    "\n",
    "        f = fltrdsynthfile\n",
    "\n",
    "        glass_state = glass.glcmds.loadstate(f)\n",
    "        glass_state.make_ensemble_average()\n",
    "\n",
    "        N_models = len(glass_state.models)\n",
    "        maprad = glass_state.models[0]['obj,data'][0][0].basis.top_level_cell_size \\\n",
    "                 * glass_state.models[0]['obj,data'][0][0].basis.pixrad\n",
    "        extent = (-maprad, maprad, -maprad, maprad)\n",
    "        print(\"Number of models: {:4d}\".format(N_models))\n",
    "        print(\"Maprad: {:02.4f}\".format(maprad))\n",
    "\n",
    "        deltas = []\n",
    "        for i, m in enumerate(glass_state.models):\n",
    "            objdta = m['obj,data'][0]\n",
    "            glass_kappa_map = objdta[0].basis._to_grid(objdta[1]['kappa'], 1)\n",
    "\n",
    "            eagle_kappa_resmap = resample_eaglemodel(eagle_model, extent, glass_kappa_map.shape)\n",
    "\n",
    "            delta_map = eagle_kappa_resmap - glass_kappa_map\n",
    "            delta2_map = resid_map * resid_map\n",
    "            deltas.append(np.sum(delta2_map))\n",
    "\n",
    "        minidx = np.argmin(deltas)\n",
    "        print(\"Closest model: Index {} with a delta^2 of {}\".format(minidx, residuals[minidx]))\n",
    "        objdta = glass_state.models[minidx]['obj,data'][0]\n",
    "        glass_kappa_map = objdta[0].basis._to_grid(objdta[1]['kappa'], 1)\n",
    "        eagle_kappa_resmap = resample_eaglemodel(eagle_model, extent, glass_kappa_map.shape)"
   ]
  }
 ],
 "metadata": {
  "kernelspec": {
   "display_name": "Python 2",
   "name": "python2"
  },
  "language_info": {
   "codemirror_mode": {
    "name": "ipython",
    "version": 2
   },
   "file_extension": ".py",
   "mimetype": "text/x-python",
   "name": "python",
   "nbconvert_exporter": "python",
   "pygments_lexer": "ipython2",
   "version": "2.7.15"
  },
  "name": "adler_comparison.ipynb"
 },
 "nbformat": 4,
 "nbformat_minor": 2
}
