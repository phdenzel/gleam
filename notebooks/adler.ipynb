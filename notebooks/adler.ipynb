{
 "cells": [
  {
   "cell_type": "markdown",
   "metadata": {
    "ein.tags": "worksheet-0",
    "slideshow": {
     "slide_type": "-"
    }
   },
   "source": [
    "# Adler project"
   ]
  },
  {
   "cell_type": "markdown",
   "metadata": {
    "ein.tags": "worksheet-0",
    "slideshow": {
     "slide_type": "-"
    }
   },
   "source": [
    "Work on EAGLE lens models: source reconstructions, synthetic imaging, comparison to true maps, ...\n"
   ]
  },
  {
   "cell_type": "markdown",
   "metadata": {
    "ein.tags": "worksheet-0",
    "slideshow": {
     "slide_type": "-"
    }
   },
   "source": [
    "### Imports\n",
    "`gleam` imports must happen from root of the directory, i.e. `/Users/phdenzel/adler/`.\n",
    "This is why `..` is appended to the path.\n"
   ]
  },
  {
   "cell_type": "code",
   "execution_count": null,
   "metadata": {
    "autoscroll": false,
    "collapsed": false,
    "ein.hycell": false,
    "ein.tags": "worksheet-0",
    "slideshow": {
     "slide_type": "-"
    }
   },
   "outputs": [],
   "source": [
    "import sys\n",
    "sys.path.append('..')\n",
    "import os\n",
    "import re\n",
    "import numpy as np\n",
    "from scipy import interpolate\n",
    "from astropy.io import fits\n",
    "import matplotlib.pyplot as plt\n",
    "\n",
    "from gleam.multilens import MultiLens\n",
    "from gleam.reconsrc import ReconSrc\n",
    "from gleam.glass_interface import glass_renv, filter_env, export_state\n",
    "glass = glass_renv()\n",
    "\n",
    "%load_ext skip_kernel_extension\n"
   ]
  },
  {
   "cell_type": "markdown",
   "metadata": {
    "ein.tags": "worksheet-0",
    "slideshow": {
     "slide_type": "-"
    }
   },
   "source": [
    "### Reading data\n",
    "Reading in all relevant files as dictionaries with ids as keys and list of filenames as values\n"
   ]
  },
  {
   "cell_type": "code",
   "execution_count": null,
   "metadata": {
    "autoscroll": false,
    "collapsed": false,
    "ein.hycell": false,
    "ein.tags": "worksheet-0",
    "slideshow": {
     "slide_type": "-"
    }
   },
   "outputs": [],
   "source": [
    "rdir = \"/Users/phdenzel/adler\"\n",
    "jsondir = rdir+\"/json/\"\n",
    "statedir = rdir+\"/states/v2/\"\n",
    "kappadir = rdir+\"/kappa/\"\n",
    "keys = [\"H1S0A0B90G0\", \"H1S1A0B90G0\", \"H2S1A0B90G0\", \"H2S2A0B90G0\", \"H2S7A0B90G0\",\n",
    "        \"H3S0A0B90G0\", \"H3S1A0B90G0\", \"H4S3A0B0G90\", \"H10S0A0B90G0\", \"H13S0A0B90G0\",\n",
    "        \"H23S0A0B90G0\", \"H30S0A0B90G0\", \"H36S0A0B90G0\", \"H160S0A90B0G0\",\n",
    "        \"H234S0A0B90G0\"]\n"
   ]
  },
  {
   "cell_type": "code",
   "execution_count": null,
   "metadata": {
    "autoscroll": false,
    "collapsed": false,
    "ein.hycell": false,
    "ein.tags": "worksheet-0",
    "slideshow": {
     "slide_type": "-"
    }
   },
   "outputs": [],
   "source": [
    "def an_sorted(data):\n",
    "    \"\"\"\n",
    "    Perform an alpha-numeric, natural sort\n",
    "\n",
    "    Args:\n",
    "        data <list> - list of strings\n",
    "\n",
    "    Kwargs:\n",
    "        None\n",
    "\n",
    "    Return:\n",
    "        sorted <list> - the alpha-numerically, naturally sorted list of strings\n",
    "    \"\"\"\n",
    "    def convert(text):\n",
    "        return int(text) if text.isdigit() else text.lower()\n",
    "\n",
    "    def an_key(key):\n",
    "        return [convert(c) for c in re.split('([0-9]+)', key)]\n",
    "    return sorted(data, key=an_key)\n",
    "\n",
    "\n",
    "ls_jsons = an_sorted([os.path.join(jsondir, f) for f in os.listdir(jsondir)\n",
    "                      if f.endswith('.json')])\n",
    "ls_states = an_sorted([os.path.join(statedir, f) for f in os.listdir(statedir)\n",
    "                       if f.endswith('.state')])\n",
    "ls_kappas = an_sorted([os.path.join(kappadir, f) for f in os.listdir(kappadir)\n",
    "                       if f.endswith('.kappa.fits')])\n"
   ]
  },
  {
   "cell_type": "code",
   "execution_count": null,
   "metadata": {
    "autoscroll": false,
    "collapsed": false,
    "ein.hycell": false,
    "ein.tags": "worksheet-0",
    "slideshow": {
     "slide_type": "-"
    }
   },
   "outputs": [],
   "source": [
    "jsons = {k: [f for f in ls_jsons if k in f] for k in keys}\n",
    "filtered_states = {k: [f for f in ls_states\n",
    "                       if k in f and f.endswith('_filtered.state')] for k in keys}\n",
    "ls_states = [f for f in ls_states if not f.endswith('_filtered.state')]\n",
    "\n",
    "prefiltered_fsynth10_states = {k: [f for f in ls_states\n",
    "                                   if k in f and f.endswith('_filtered_synthf10.state')] for k in keys}\n",
    "prefiltered_fsynth25_states = {k: [f for f in ls_states\n",
    "                                   if k in f and f.endswith('_filtered_synthf25.state')] for k in keys}\n",
    "prefiltered_fsynth50_states = {k: [f for f in ls_states\n",
    "                                   if k in f and f.endswith('_filtered_synthf50.state')] for k in keys}\n",
    "ls_states = [f for f in ls_states if not (f.endswith('_filtered_synthf10.state')\n",
    "                                          or f.endswith('_filtered_synthf10.state')\n",
    "                                          or f.endswith('_filtered_synthf10.state'))]\n",
    "\n",
    "synthf10_states = {k: [f for f in ls_states\n",
    "                       if k in f and f.endswith('_synthf10.state')] for k in keys}\n",
    "synthf25_states = {k: [f for f in ls_states\n",
    "                       if k in f and f.endswith('_synthf25.state')] for k in keys}\n",
    "synthf50_states = {k: [f for f in ls_states\n",
    "                       if k in f and f.endswith('_synthf50.state')] for k in keys}\n",
    "ls_states = [f for f in ls_states if not (f.endswith('_synthf10.state')\n",
    "                                          or f.endswith('_synthf25.state')\n",
    "                                          or f.endswith('_synthf50.state'))]\n",
    "\n",
    "states = {k: [f for f in ls_states if k in f] for k in keys}\n",
    "\n",
    "kappa_map_files = {k: [f for f in ls_kappas if k in f] for k in keys}\n"
   ]
  },
  {
   "cell_type": "markdown",
   "metadata": {
    "ein.tags": "worksheet-0",
    "slideshow": {
     "slide_type": "-"
    }
   },
   "source": [
    "### Inspection\n",
    "\n",
    "The ensemble of a single state file is used"
   ]
  },
  {
   "cell_type": "code",
   "execution_count": null,
   "metadata": {
    "autoscroll": false,
    "collapsed": false,
    "ein.hycell": false,
    "ein.tags": "worksheet-0",
    "slideshow": {
     "slide_type": "-"
    }
   },
   "outputs": [],
   "source": [
    "# select a single file\n",
    "print(\"\\n# Selected file\")\n",
    "key = keys[0]\n",
    "idx = 0\n",
    "json = jsons[key][0]\n",
    "state = filtered_states[key][idx]\n",
    "state = states[key][idx]\n",
    "print(json)\n",
    "print(state)"
   ]
  },
  {
   "cell_type": "code",
   "execution_count": null,
   "metadata": {
    "autoscroll": false,
    "collapsed": false,
    "ein.hycell": false,
    "ein.tags": "worksheet-0",
    "slideshow": {
     "slide_type": "-"
    }
   },
   "outputs": [],
   "source": [
    "# gleamobject\n",
    "print(\"\\n# gleamobject\")\n",
    "with open(json) as f:\n",
    "    ml = MultiLens.from_json(f)\n",
    "print(ml.__v__)"
   ]
  },
  {
   "cell_type": "code",
   "execution_count": null,
   "metadata": {
    "autoscroll": false,
    "collapsed": false,
    "ein.hycell": false,
    "ein.tags": "worksheet-0",
    "slideshow": {
     "slide_type": "-"
    }
   },
   "outputs": [],
   "source": [
    "# recon_src\n",
    "print(\"\\n# recon_src\")\n",
    "args = (ml, state)\n",
    "kwargs = dict(M=20, verbose=1)\n",
    "recon_src = ReconSrc(*args, **kwargs)\n",
    "#recon_src.chmdl()  # move to a single ensemble model"
   ]
  },
  {
   "cell_type": "code",
   "execution_count": null,
   "metadata": {
    "autoscroll": false,
    "collapsed": false,
    "ein.hycell": false,
    "ein.tags": "worksheet-0",
    "slideshow": {
     "slide_type": "-"
    }
   },
   "outputs": [],
   "source": [
    "# inverse projection matrix\n",
    "print(\"\\n# inverse projection matrix\")\n",
    "Mij_p = recon_src.inv_proj_matrix()\n",
    "print(type(Mij_p))\n",
    "print(Mij_p.shape)"
   ]
  },
  {
   "cell_type": "code",
   "execution_count": null,
   "metadata": {
    "autoscroll": false,
    "collapsed": false,
    "ein.hycell": false,
    "ein.tags": "worksheet-0",
    "slideshow": {
     "slide_type": "-"
    }
   },
   "outputs": [],
   "source": [
    "# (inverse of the inverse) projection matrix\n",
    "print(\"\\n# projection matrix (TODO: not an actual inverse yet)\")\n",
    "Mp_ij = recon_src.proj_matrix()\n",
    "print(type(Mp_ij))\n",
    "print(Mp_ij.shape)"
   ]
  },
  {
   "cell_type": "code",
   "execution_count": null,
   "metadata": {
    "autoscroll": false,
    "collapsed": false,
    "ein.hycell": false,
    "ein.tags": "worksheet-0",
    "slideshow": {
     "slide_type": "-"
    }
   },
   "outputs": [],
   "source": [
    "# image plane data arrays\n",
    "print(\"\\n# image plane data arrays\")\n",
    "data = recon_src.d_ij()  # 1d lens plane data\n",
    "print(type(data))\n",
    "print(data.shape)\n",
    "lmap = recon_src.lens_map()  # 2d lens plane data\n",
    "print(type(lmap))\n",
    "print(lmap.shape)\n",
    "print(\"\\n# source plane data arrays\")\n",
    "# source plane data arrays\n",
    "rsrc = recon_src.d_p()  # 1d source plane data\n",
    "print(type(rsrc))\n",
    "print(rsrc.shape)\n",
    "rsrc_map = recon_src.plane_map()  # 2d source plane data\n",
    "print(type(rsrc_map))\n",
    "print(rsrc_map.shape)\n",
    "\n",
    "# synthetic image\n",
    "print(\"\\n# synthetic image\")\n",
    "reproj = recon_src.reproj_map()\n",
    "print(type(reproj))\n",
    "print(reproj.shape)"
   ]
  },
  {
   "cell_type": "markdown",
   "metadata": {
    "ein.tags": "worksheet-0",
    "slideshow": {
     "slide_type": "-"
    }
   },
   "source": [
    "#### Actual data plot"
   ]
  },
  {
   "cell_type": "code",
   "execution_count": null,
   "metadata": {
    "autoscroll": false,
    "collapsed": false,
    "ein.hycell": false,
    "ein.tags": "worksheet-0",
    "slideshow": {
     "slide_type": "-"
    }
   },
   "outputs": [],
   "source": [
    "data = recon_src.d_ij(flat=False)\n",
    "kwargs = dict(vmax=data.max(), vmin=data.min())\n",
    "plt.imshow(data, **kwargs)\n",
    "plt.colorbar()\n",
    "plt.axis('off')\n",
    "plt.show()\n"
   ]
  },
  {
   "cell_type": "markdown",
   "metadata": {
    "ein.tags": "worksheet-0",
    "slideshow": {
     "slide_type": "-"
    }
   },
   "source": [
    "#### Reconstructed source plot"
   ]
  },
  {
   "cell_type": "code",
   "execution_count": null,
   "metadata": {
    "autoscroll": false,
    "collapsed": false,
    "ein.hycell": false,
    "ein.tags": "worksheet-0",
    "slideshow": {
     "slide_type": "-"
    }
   },
   "outputs": [],
   "source": [
    "plt.imshow(recon_src.plane_map(), **kwargs)\n",
    "plt.colorbar()\n",
    "plt.axis('off')\n",
    "plt.show()\n"
   ]
  },
  {
   "cell_type": "markdown",
   "metadata": {
    "ein.tags": "worksheet-0",
    "slideshow": {
     "slide_type": "-"
    }
   },
   "source": [
    "#### Synthetic image plot"
   ]
  },
  {
   "cell_type": "code",
   "execution_count": null,
   "metadata": {
    "autoscroll": false,
    "collapsed": false,
    "ein.hycell": false,
    "ein.tags": "worksheet-0",
    "slideshow": {
     "slide_type": "-"
    }
   },
   "outputs": [],
   "source": [
    "plt.imshow(recon_src.reproj_map(), **kwargs)\n",
    "plt.colorbar()\n",
    "plt.axis('off')\n",
    "plt.show()\n"
   ]
  },
  {
   "cell_type": "markdown",
   "metadata": {
    "ein.tags": "worksheet-0",
    "slideshow": {
     "slide_type": "-"
    }
   },
   "source": [
    "#### Masked data plot"
   ]
  },
  {
   "cell_type": "code",
   "execution_count": null,
   "metadata": {
    "autoscroll": false,
    "collapsed": false,
    "ein.hycell": false,
    "ein.tags": "worksheet-0",
    "slideshow": {
     "slide_type": "-"
    }
   },
   "outputs": [],
   "source": [
    "plt.imshow(recon_src.lens_map(mask=True), **kwargs)\n",
    "plt.colorbar()\n",
    "plt.axis('off')\n",
    "plt.show()"
   ]
  },
  {
   "cell_type": "markdown",
   "metadata": {
    "ein.tags": "worksheet-0",
    "slideshow": {
     "slide_type": "-"
    }
   },
   "source": [
    "#### Residual map plot"
   ]
  },
  {
   "cell_type": "code",
   "execution_count": null,
   "metadata": {
    "autoscroll": false,
    "collapsed": false,
    "ein.hycell": false,
    "ein.tags": "worksheet-0",
    "slideshow": {
     "slide_type": "-"
    }
   },
   "outputs": [],
   "source": [
    "plt.imshow(recon_src.residual_map())  # data - synth\n",
    "plt.colorbar()\n",
    "plt.axis('off')\n",
    "plt.show()"
   ]
  },
  {
   "cell_type": "markdown",
   "metadata": {
    "ein.tags": "worksheet-0",
    "slideshow": {
     "slide_type": "-"
    }
   },
   "source": [
    "#### Residual statistics"
   ]
  },
  {
   "cell_type": "code",
   "execution_count": null,
   "metadata": {
    "autoscroll": false,
    "collapsed": false,
    "ein.hycell": false,
    "ein.tags": "worksheet-0",
    "slideshow": {
     "slide_type": "-"
    }
   },
   "outputs": [],
   "source": [
    "%%skip True\n",
    "print(\"Sum of squared residuals (ensemble avg)\")\n",
    "resid = recon_src.reproj_residual()\n",
    "print(resid)\n",
    "\n",
    "print(\"Sum of squared residuals (for the first three ensemble models)\")\n",
    "residuals = []\n",
    "N = len(recon_src.gls.models)\n",
    "for i in range(N):\n",
    "    recon_src.chmdl(i)\n",
    "    r = recon_src.reproj_residual()\n",
    "    residuals.append(r)\n",
    "print(residuals[:3])\n",
    "\n",
    "print(\"0th, 10th, 25th, and 50th percentile values\")\n",
    "rhi10 = np.percentile(residuals, 10, interpolation='higher')\n",
    "rhi25 = np.percentile(residuals, 25, interpolation='higher')\n",
    "rhi50 = np.percentile(residuals, 50, interpolation='higher')\n",
    "rlo = 0\n",
    "print(rlo, rhi10, rhi25, rhi50)"
   ]
  },
  {
   "cell_type": "markdown",
   "metadata": {
    "ein.tags": "worksheet-0",
    "slideshow": {
     "slide_type": "-"
    }
   },
   "source": [
    "#### Histogram of an ensemble's residual distribution\n",
    "    "
   ]
  },
  {
   "cell_type": "code",
   "execution_count": null,
   "metadata": {
    "autoscroll": false,
    "collapsed": false,
    "ein.hycell": false,
    "ein.tags": "worksheet-0",
    "slideshow": {
     "slide_type": "-"
    }
   },
   "outputs": [],
   "source": [
    "%%skip True\n",
    "\n",
    "plt.hist(residuals, bins=35)\n",
    "plt.axvline(rhi10)\n",
    "plt.axvline(rhi25)\n",
    "plt.axvline(rhi50)\n",
    "plt.show()\n"
   ]
  },
  {
   "cell_type": "markdown",
   "metadata": {
    "ein.tags": "worksheet-0",
    "slideshow": {
     "slide_type": "-"
    }
   },
   "source": [
    "#### Filtering and exporting the single state"
   ]
  },
  {
   "cell_type": "code",
   "execution_count": null,
   "metadata": {
    "autoscroll": false,
    "collapsed": false,
    "ein.hycell": false,
    "ein.tags": "worksheet-0",
    "slideshow": {
     "slide_type": "-"
    }
   },
   "outputs": [],
   "source": [
    "%%skip True\n",
    "\n",
    "def synth_filter(args, percentiles=[10, 25, 50]):\n",
    "    pass"
   ]
  },
  {
   "cell_type": "code",
   "execution_count": null,
   "metadata": {
    "autoscroll": false,
    "collapsed": false,
    "ein.hycell": false,
    "ein.tags": "worksheet-0",
    "slideshow": {
     "slide_type": "-"
    }
   },
   "outputs": [],
   "source": [
    "%%skip True\n",
    "\n",
    "select10 = [i for i, r in enumerate(residuals) if rhi10 > r > rlo]\n",
    "select25 = [i for i, r in enumerate(residuals) if rhi25 > r > rlo]\n",
    "select50 = [i for i, r in enumerate(residuals) if rhi50 > r > rlo]\n",
    "print(\"Number of selected models in 10th, 25th and 50th percentile\")\n",
    "print(len(select10))\n",
    "print(len(select25))\n",
    "print(len(select50))"
   ]
  },
  {
   "cell_type": "code",
   "execution_count": null,
   "metadata": {
    "autoscroll": false,
    "collapsed": false,
    "ein.hycell": false,
    "ein.tags": "worksheet-0",
    "slideshow": {
     "slide_type": "-"
    }
   },
   "outputs": [],
   "source": [
    "%%skip True\n",
    "\n",
    "dirname = os.path.dirname(state)\n",
    "basename = \".\".join(os.path.basename(state).split('.')[:-1])\n",
    "save10 = dirname + '/' + basename + '_synthf10.state'\n",
    "save25 = dirname + '/' + basename + '_synthf25.state'\n",
    "save50 = dirname + '/' + basename + '_synthf50.state'\n",
    "print(\"Names of filtered states...\")\n",
    "print(save10)\n",
    "print(save25)\n",
    "print(save50)\n"
   ]
  },
  {
   "cell_type": "code",
   "execution_count": null,
   "metadata": {
    "autoscroll": false,
    "collapsed": false,
    "ein.hycell": false,
    "ein.tags": "worksheet-0",
    "slideshow": {
     "slide_type": "-"
    }
   },
   "outputs": [],
   "source": [
    "%%skip True\n",
    "\n",
    "filtered_10 = filter_env(recon_src.gls, select10)\n",
    "filtered_25 = filter_env(recon_src.gls, select25)\n",
    "filtered_50 = filter_env(recon_src.gls, select50)\n",
    "export_state(filtered_25, name=save25)\n",
    "export_state(filtered_50, name=save50)\n"
   ]
  },
  {
   "cell_type": "markdown",
   "metadata": {
    "ein.tags": "worksheet-0",
    "slideshow": {
     "slide_type": "-"
    }
   },
   "source": [
    "### Filtering ALL (previously unfiltered) states"
   ]
  },
  {
   "cell_type": "code",
   "execution_count": null,
   "metadata": {
    "autoscroll": false,
    "collapsed": false,
    "ein.hycell": false,
    "ein.tags": "worksheet-0",
    "slideshow": {
     "slide_type": "-"
    }
   },
   "outputs": [],
   "source": [
    "%%skip True\n",
    "\n",
    "# states loop\n",
    "for k in keys:\n",
    "    json = jsons[k][0]\n",
    "    with open(json) as f:\n",
    "        ml = MultiLens.from_json(f)\n",
    "    for state in states[k]:\n",
    "        print(json, state)\n",
    "\n",
    "        args = (ml, state)\n",
    "        kwargs = dict(M=20, verbose=1)\n",
    "        recon_src = ReconSrc(*args, **kwargs)\n",
    "\n",
    "        residuals = []\n",
    "        for i in range(len(recon_src.gls.models)):\n",
    "            recon_src.chmdl(i)\n",
    "            r = recon_src.reproj_residual()\n",
    "            residuals.append(r)\n",
    "        print(\"\\nNumber of residual models:\")\n",
    "        print(len(residuals))\n",
    "\n",
    "        rhi10 = np.percentile(residuals, 10, interpolation='higher')\n",
    "        rhi25 = np.percentile(residuals, 25, interpolation='higher')\n",
    "        rhi50 = np.percentile(residuals, 50, interpolation='higher')\n",
    "        rlo = 0\n",
    "        print(\"\\n0th, 10th, 25th, and 50th percentile values\")\n",
    "        print(rlo, rhi10, rhi25, rhi50)\n",
    "\n",
    "        select10 = [i for i, r in enumerate(residuals) if rhi10 > r > rlo]\n",
    "        select25 = [i for i, r in enumerate(residuals) if rhi25 > r > rlo]\n",
    "        select50 = [i for i, r in enumerate(residuals) if rhi50 > r > rlo]\n",
    "\n",
    "        print(\"\\nNumber of selected models\")\n",
    "        print(len(select10))\n",
    "        print(len(select25))\n",
    "        print(len(select50))\n",
    "\n",
    "        dirname = os.path.dirname(state)\n",
    "        basename = \".\".join(os.path.basename(state).split('.')[:-1])\n",
    "        save10 = dirname + '/' + basename + '_synthf10.state'\n",
    "        save25 = dirname + '/' + basename + '_synthf25.state'\n",
    "        save50 = dirname + '/' + basename + '_synthf50.state'\n",
    "\n",
    "        filtered_10 = filter_env(recon_src.gls, select10)\n",
    "        filtered_25 = filter_env(recon_src.gls, select25)\n",
    "        filtered_50 = filter_env(recon_src.gls, select50)\n",
    "\n",
    "        export_state(filtered_10, name=save10)\n",
    "        export_state(filtered_25, name=save25)\n",
    "        export_state(filtered_50, name=save50)\n"
   ]
  },
  {
   "cell_type": "markdown",
   "metadata": {
    "ein.tags": "worksheet-0",
    "slideshow": {
     "slide_type": "-"
    }
   },
   "source": [
    "### Filtering ALL (previously filtered) states"
   ]
  },
  {
   "cell_type": "code",
   "execution_count": null,
   "metadata": {
    "autoscroll": false,
    "collapsed": false,
    "ein.hycell": false,
    "ein.tags": "worksheet-0",
    "slideshow": {
     "slide_type": "-"
    }
   },
   "outputs": [],
   "source": [
    "%%skip True\n",
    "\n",
    "# filtered_states loop\n",
    "for k in keys:\n",
    "    json = jsons[k][0]\n",
    "    with open(json) as f:\n",
    "        ml = MultiLens.from_json(f)\n",
    "    for state in filtered_states[k]:\n",
    "        print(json, state)\n",
    "\n",
    "        args = (ml, state)\n",
    "        kwargs = dict(M=20, verbose=1)\n",
    "        recon_src = ReconSrc(*args, **kwargs)\n",
    "\n",
    "        residuals = []\n",
    "        for i in range(len(recon_src.gls.models)):\n",
    "            recon_src.chmdl(i)\n",
    "            r = recon_src.reproj_residual()\n",
    "            residuals.append(r)\n",
    "        print(\"\\nNumber of residual models\")\n",
    "        print(len(residuals))\n",
    "\n",
    "        rhi10 = np.percentile(residuals, 10, interpolation='higher')\n",
    "        rhi25 = np.percentile(residuals, 25, interpolation='higher')\n",
    "        rhi50 = np.percentile(residuals, 50, interpolation='higher')\n",
    "        rlo = 0\n",
    "        print(\"\\n0th, 10th, 25th, and 50th percentile values\")\n",
    "        print(rlo, rhi10, rhi25, rhi50)\n",
    "\n",
    "        select10 = [i for i, r in enumerate(residuals) if rhi10 > r > rlo]\n",
    "        select25 = [i for i, r in enumerate(residuals) if rhi25 > r > rlo]\n",
    "        select50 = [i for i, r in enumerate(residuals) if rhi50 > r > rlo]\n",
    "\n",
    "        print(\"\\nNumber of subselected models\")\n",
    "        print(len(select10))\n",
    "        print(len(select25))\n",
    "        print(len(select50))\n",
    "\n",
    "        dirname = os.path.dirname(state)\n",
    "        basename = \".\".join(os.path.basename(state).split('.')[:-1])\n",
    "        save10 = dirname + '/' + basename + '_synthf10.state'\n",
    "        save25 = dirname + '/' + basename + '_synthf25.state'\n",
    "        save50 = dirname + '/' + basename + '_synthf50.state'\n",
    "\n",
    "        filtered_10 = filter_env(recon_src.gls, select10)\n",
    "        filtered_25 = filter_env(recon_src.gls, select25)\n",
    "        filtered_50 = filter_env(recon_src.gls, select50)\n",
    "\n",
    "        export_state(filtered_10, name=save10)\n",
    "        export_state(filtered_25, name=save25)\n",
    "        export_state(filtered_50, name=save50)\n"
   ]
  },
  {
   "cell_type": "markdown",
   "metadata": {
    "ein.tags": "worksheet-0",
    "slideshow": {
     "slide_type": "-"
    }
   },
   "source": [
    "## Comparison to true EAGLE models"
   ]
  },
  {
   "cell_type": "markdown",
   "metadata": {
    "ein.tags": "worksheet-0",
    "slideshow": {
     "slide_type": "-"
    }
   },
   "source": [
    "#### Reading the files"
   ]
  },
  {
   "cell_type": "code",
   "execution_count": null,
   "metadata": {
    "autoscroll": false,
    "collapsed": false,
    "ein.hycell": false,
    "ein.tags": "worksheet-0",
    "slideshow": {
     "slide_type": "-"
    }
   },
   "outputs": [],
   "source": [
    "%%skip True\n",
    "kappa_map_files = {\n",
    "    \"H1S0A0B90G0\":   [rdir+'/kappa/H1S0A0B90G0gridmap.kappa.fits'],\n",
    "    \"H1S1A0B90G0\":   [rdir+'/kappa/H1S1A0B90G0gridmap.kappa.fits'],\n",
    "    \"H2S1A0B90G0\":   [rdir+'/kappa/H2S1A0B90G0gridmap.kappa.fits'],\n",
    "    \"H2S2A0B90G0\":   [rdir+'/kappa/H2S2A0B90G0gridmap.kappa.fits'],\n",
    "    \"H2S7A0B90G0\":   [rdir+'/kappa/H2S7A0B90G0gridmap.kappa.fits'],\n",
    "    \"H3S0A0B90G0\":   [rdir+'/kappa/H3S0A0B90G0gridmap.kappa.fits'],\n",
    "    \"H3S1A0B90G0\":   [rdir+'/kappa/H3S1A0B90G0gridmap.kappa.fits'],\n",
    "    \"H4S3A0B0G90\":   [rdir+'/kappa/H4S3A0B0G90gridmap.kappa.fits'],\n",
    "    \"H10S0A0B90G0\":  [rdir+'/kappa/H10S0A0B90G0gridmap.kappa.fits'],\n",
    "    \"H13S0A0B90G0\":  [rdir+'/kappa/H13S0A0B90G0gridmap.kappa.fits'],\n",
    "    \"H23S0A0B90G0\":  [rdir+'/kappa/H23S0A0B90G0gridmap.kappa.fits'],\n",
    "    \"H30S0A0B90G0\":  [rdir+'/kappa/H30S0A0B90G0gridmap.kappa.fits'],\n",
    "    \"H36S0A0B90G0\":  [rdir+'/kappa/H36S0A0B90G0gridmap.kappa.fits'],\n",
    "    \"H160S0A90B0G0\": [rdir+'/kappa/H160S0A90B0G0gridmap.kappa.fits'],\n",
    "    \"H234S0A0B90G0\": [rdir+'/kappa/H234S0A0B90G0gridmap.kappa.fits']\n",
    "}\n"
   ]
  },
  {
   "cell_type": "code",
   "execution_count": null,
   "metadata": {
    "autoscroll": false,
    "collapsed": false,
    "ein.hycell": false,
    "ein.tags": "worksheet-0",
    "slideshow": {
     "slide_type": "-"
    }
   },
   "outputs": [],
   "source": [
    "# EAGLE models\n",
    "filepath = kappa_map_files[\"H3S0A0B90G0\"][0]\n",
    "# filepath = kappa_map_files[\"H10S0A0B90G0\"][0]\n",
    "# filepath = kappa_map_files[\"H36S0A0B90G0\"][0]\n",
    "eagle_kappa_map, eagle_hdrobj = fits.getdata(filepath, header=True)\n",
    "\n",
    "# GLASS models\n",
    "#statefile = states[\"H3S0A0B90G0\"][0]\n",
    "statefile = prefiltered_fsynth50_states[\"H3S0A0B90G0\"][0]  # prefiltered_fsynth50_states[\"H3S0A0B90G0\"][0]\n",
    "# statefile = prefiltered_fsynth50_states[\"H10S0A0B90G0\"][0]\n",
    "# statefile = prefiltered_fsynth50_states[\"H36S0A0B90G0\"][0]\n",
    "glass_state = glass.glcmds.loadstate(statefile)\n",
    "glass_state.make_ensemble_average()\n",
    "\n",
    "kkwargs = dict(vmin=0, vmax=eagle_kappa_map.max())\n"
   ]
  },
  {
   "cell_type": "markdown",
   "metadata": {
    "ein.tags": "worksheet-0",
    "slideshow": {
     "slide_type": "-"
    }
   },
   "source": [
    "#### The true EAGLE models"
   ]
  },
  {
   "cell_type": "code",
   "execution_count": null,
   "metadata": {
    "autoscroll": false,
    "collapsed": false,
    "ein.hycell": false,
    "ein.tags": "worksheet-0",
    "slideshow": {
     "slide_type": "-"
    }
   },
   "outputs": [],
   "source": [
    "eagle_pixrad = tuple(r//2 for r in eagle_kappa_map.shape)\n",
    "eagle_maprad = eagle_pixrad[1]*eagle_hdrobj['CDELT2']*3600\n",
    "eagle_mapextent = ((eagle_pixrad[0]+0.5)*eagle_hdrobj['CDELT1']*3600,\n",
    "                  (eagle_pixrad[1]+0.5)*eagle_hdrobj['CDELT2']*3600)\n",
    "eagle_cell_size = -3600*eagle_hdrobj['CDELT1']\n",
    "assert(eagle_hdrobj['CUNIT1' == 'deg'])\n",
    "\n",
    "print(\"Kappa map: {}\".format(eagle_kappa_map.shape))\n",
    "print(\"Pixrad {}\".format(eagle_pixrad))\n",
    "print(\"Maprad {}\".format(eagle_maprad))\n",
    "print(\"Mapextent {}\".format(eagle_mapextent))\n",
    "print(\"Cellsize {}\".format(eagle_cell_size))\n"
   ]
  },
  {
   "cell_type": "code",
   "execution_count": null,
   "metadata": {
    "autoscroll": false,
    "collapsed": false,
    "ein.hycell": false,
    "ein.tags": "worksheet-0",
    "slideshow": {
     "slide_type": "-"
    }
   },
   "outputs": [],
   "source": [
    "plt.imshow(np.log10(eagle_kappa_map))\n",
    "plt.colorbar()\n",
    "plt.gca().axis('off')\n",
    "plt.show()\n"
   ]
  },
  {
   "cell_type": "markdown",
   "metadata": {
    "ein.tags": "worksheet-0",
    "slideshow": {
     "slide_type": "-"
    }
   },
   "source": [
    "#### Resample EAGLE model to match GLASS model"
   ]
  },
  {
   "cell_type": "code",
   "execution_count": null,
   "metadata": {
    "autoscroll": false,
    "collapsed": false,
    "ein.hycell": false,
    "ein.tags": "worksheet-0",
    "slideshow": {
     "slide_type": "-"
    }
   },
   "outputs": [],
   "source": [
    "def resample_eaglemodel(eagle_model, extent, shape, verbose=False):\n",
    "    \"\"\"\n",
    "    Resample (usually downsample) an EAGLE model's kappa grid to match the specified scales and dimensions\n",
    "\n",
    "    Args:\n",
    "        eagle_model <tuple(np.ndarray, header object)> - EAGLE model with (data, hdr)\n",
    "        extent <tuple/list> - extent of the output\n",
    "        shape <tuple/list> - shape of the output\n",
    "\n",
    "    Kwargs:\n",
    "        verbose <bool> - verbose mode; print command line statements\n",
    "\n",
    "    Return:\n",
    "        kappa_resmap <np.ndarray> - resampled kappa grid\n",
    "    \"\"\"\n",
    "    kappa_map = eagle_model[0]\n",
    "    hdr = eagle_model[1]\n",
    "\n",
    "    pixrad = tuple(r//2 for r in kappa_map.shape)\n",
    "    maprad = pixrad[1]*hdr['CDELT2']*3600\n",
    "\n",
    "    xmdl = np.linspace(-maprad, maprad, kappa_map.shape[0])\n",
    "    ymdl = np.linspace(-maprad, maprad, kappa_map.shape[1])\n",
    "    newx = np.linspace(extent[0], extent[1], shape[0])\n",
    "    newy = np.linspace(extent[2], extent[3], shape[1])\n",
    "\n",
    "    rescale = interpolate.interp2d(xmdl, ymdl, kappa_map)\n",
    "    kappa_resmap = rescale(newx, newy)\n",
    "    kappa_resmap[kappa_resmap < 0] = 0\n",
    "\n",
    "    return kappa_resmap"
   ]
  },
  {
   "cell_type": "code",
   "execution_count": null,
   "metadata": {
    "autoscroll": false,
    "collapsed": false,
    "ein.hycell": false,
    "ein.tags": "worksheet-0",
    "slideshow": {
     "slide_type": "-"
    }
   },
   "outputs": [],
   "source": [
    "glass_objdta = glass_state.models[0]['obj,data'][0]\n",
    "glsmdl_maprad = glass_objdta[0].basis.top_level_cell_size * (glass_objdta[0].basis.pixrad)\n",
    "shape = glass_objdta[0].basis._to_grid(glass_objdta[1]['kappa'], 1).shape\n",
    "extent = (-glsmdl_maprad, glsmdl_maprad, -glsmdl_maprad, glsmdl_maprad)\n",
    "eagle_kappa_resmap = resample_eaglemodel(fits.getdata(filepath, header=True), extent, shape)\n",
    "\n",
    "plt.imshow(np.log10(eagle_kappa_resmap))\n",
    "plt.colorbar()\n",
    "plt.gca().axis('off')\n",
    "plt.show()\n"
   ]
  },
  {
   "cell_type": "markdown",
   "metadata": {
    "ein.tags": "worksheet-0",
    "slideshow": {
     "slide_type": "-"
    }
   },
   "source": [
    "#### Residuals (EAGLE2GLASS)"
   ]
  },
  {
   "cell_type": "code",
   "execution_count": null,
   "metadata": {
    "autoscroll": false,
    "collapsed": false,
    "ein.hycell": false,
    "ein.tags": "worksheet-0",
    "slideshow": {
     "slide_type": "-"
    }
   },
   "outputs": [],
   "source": [
    "%%skip True\n",
    "\n",
    "glass_objdta = glass_state.models[0]['obj,data'][0]\n",
    "glass_kappa_map = glass_objdta[0].basis._to_grid(glass_objdta[1]['kappa'], 1)\n",
    "\n",
    "resid_map = eagle_kappa_resmap - glass_kappa_map\n",
    "resid2_map = resid_map * resid_map\n",
    "r = np.sum(resid2_map)\n",
    "print(r)\n"
   ]
  },
  {
   "cell_type": "code",
   "execution_count": null,
   "metadata": {
    "autoscroll": false,
    "collapsed": false,
    "ein.hycell": false,
    "ein.tags": "worksheet-0",
    "slideshow": {
     "slide_type": "-"
    }
   },
   "outputs": [],
   "source": [
    "%%skip True\n",
    "\n",
    "plt.imshow(resid_map)\n",
    "plt.colorbar()\n",
    "plt.gca().axis('off')\n",
    "plt.show()\n"
   ]
  },
  {
   "cell_type": "markdown",
   "metadata": {
    "ein.tags": "worksheet-0",
    "slideshow": {
     "slide_type": "-"
    }
   },
   "source": [
    "#### Comparison loop for a single model (EAGLE2GLASS)"
   ]
  },
  {
   "cell_type": "code",
   "execution_count": null,
   "metadata": {
    "autoscroll": false,
    "collapsed": false,
    "ein.hycell": false,
    "ein.tags": "worksheet-0",
    "slideshow": {
     "slide_type": "-"
    }
   },
   "outputs": [],
   "source": [
    "N_models = len(glass_state.models)\n",
    "print(\"N models {}\".format(N_models))\n",
    "\n",
    "kappa_resids = []\n",
    "eagle_model = fits.getdata(filepath, header=True)\n",
    "for m in glass_state.models:\n",
    "    objdta = m['obj,data'][0]\n",
    "    glass_kappa_map = objdta[0].basis._to_grid(objdta[1]['kappa'], 1)\n",
    "    maprad = objdta[0].basis.top_level_cell_size * (objdta[0].basis.pixrad)\n",
    "    shape = glass_kappa_map.shape\n",
    "    extent = (-maprad, maprad, -maprad, maprad)\n",
    "\n",
    "    kappa_resmap = resample_eaglemodel(eagle_model, extent, shape)\n",
    "\n",
    "    # residuals\n",
    "    resid_map = kappa_resmap - glass_kappa_map\n",
    "    resid2_map = resid_map * resid_map\n",
    "    r = np.sum(resid2_map)\n",
    "    kappa_resids.append(r)\n",
    "\n",
    "minidx = np.argmin(kappa_resids)\n",
    "print(\"Best fitting model index: {}\".format((minidx, kappa_resids[minidx])))\n",
    "print(kappa_resids)\n"
   ]
  },
  {
   "cell_type": "code",
   "execution_count": null,
   "metadata": {
    "autoscroll": false,
    "collapsed": false,
    "ein.hycell": false,
    "ein.tags": "worksheet-0",
    "slideshow": {
     "slide_type": "-"
    }
   },
   "outputs": [],
   "source": [
    "objdta = glass_state.models[minidx]['obj,data'][0]\n",
    "min_e2gkappa_map = objdta[0].basis._to_grid(objdta[1]['kappa'], 1)\n",
    "maprad = objdta[0].basis.top_level_cell_size * (objdta[0].basis.pixrad)\n",
    "shape = min_e2gkappa_map.shape\n",
    "extent = (-maprad, maprad, -maprad, maprad)\n",
    "\n",
    "kappa_resmap = resample_eaglemodel(eagle_model, extent, shape)\n",
    "\n",
    "resid_map = kappa_resmap - min_e2gkappa_map\n",
    "resid2_map = resid_map * resid_map\n",
    "\n",
    "plt.imshow(min_e2gkappa_map, **kkwargs)\n",
    "plt.colorbar()\n",
    "plt.gca().axis('off')\n",
    "plt.show()\n",
    "\n",
    "plt.imshow(resid_map)\n",
    "plt.colorbar()\n",
    "plt.gca().axis('off')\n",
    "plt.show()"
   ]
  },
  {
   "cell_type": "markdown",
   "metadata": {
    "ein.tags": "worksheet-0",
    "slideshow": {
     "slide_type": "-"
    }
   },
   "source": [
    "#### The GLASS models"
   ]
  },
  {
   "cell_type": "code",
   "execution_count": null,
   "metadata": {
    "autoscroll": false,
    "collapsed": false,
    "ein.hycell": false,
    "ein.tags": "worksheet-0",
    "slideshow": {
     "slide_type": "-"
    }
   },
   "outputs": [],
   "source": [
    "glass_model = glass_state.models[0]\n",
    "glassobj, glassdta = glass_model['obj,data'][0]\n",
    "glass_kappa_map = glassobj.basis._to_grid(glassdta['kappa'], 1)\n",
    "\n",
    "glass_pixrad = glassobj.basis.pixrad\n",
    "glass_maprad = glassobj.basis.top_level_cell_size * (glassobj.basis.pixrad)\n",
    "glass_mapextent = (-glassobj.basis.top_level_cell_size * (glassobj.basis.pixrad+0.5),\n",
    "                 glassobj.basis.top_level_cell_size * (glassobj.basis.pixrad+0.5))\n",
    "glass_cell_size = glassobj.basis.top_level_cell_size\n",
    "\n",
    "print(\"Kappa map: {}\".format(glass_kappa_map.shape))\n",
    "print(\"Pixrad {}\".format(glass_pixrad))\n",
    "print(\"Maprad {}\".format(glass_maprad))\n",
    "print(\"Mapextent {}\".format(glass_mapextent))\n",
    "print(\"Cellsize {}\".format(glass_cell_size))\n"
   ]
  },
  {
   "cell_type": "code",
   "execution_count": null,
   "metadata": {
    "autoscroll": false,
    "collapsed": false,
    "ein.hycell": false,
    "ein.tags": "worksheet-0",
    "slideshow": {
     "slide_type": "-"
    }
   },
   "outputs": [],
   "source": [
    "# kkwargs = dict()\n",
    "plt.imshow(glass_kappa_map, **kkwargs)\n",
    "plt.colorbar()\n",
    "plt.gca().axis('off')\n",
    "plt.show()\n"
   ]
  },
  {
   "cell_type": "code",
   "execution_count": null,
   "metadata": {
    "autoscroll": false,
    "collapsed": false,
    "ein.hycell": false,
    "ein.tags": "worksheet-0",
    "slideshow": {
     "slide_type": "-"
    }
   },
   "outputs": [],
   "source": [
    "glass_state.img_plot(obj_index=0, color='#fe4365')\n",
    "glass_state.arrival_plot(glass_state.ensemble_average, obj_index=0, only_contours=True,\n",
    "                         clevels=75, colors=['#603dd0'])\n",
    "glass_state.arrival_plot(glass_state.ensemble_average, obj_index=1, only_contours=True,\n",
    "                         clevels=50, colors=['#da9605'])\n",
    "plt.show()"
   ]
  },
  {
   "cell_type": "markdown",
   "metadata": {
    "ein.tags": "worksheet-0",
    "slideshow": {
     "slide_type": "-"
    }
   },
   "source": [
    "#### Resample GLASS model to match EAGLE model"
   ]
  },
  {
   "cell_type": "code",
   "execution_count": null,
   "metadata": {
    "autoscroll": false,
    "collapsed": false,
    "ein.hycell": false,
    "ein.tags": "worksheet-0",
    "slideshow": {
     "slide_type": "-"
    }
   },
   "outputs": [],
   "source": [
    "def resample_glassmodel(gls_model, extent, shape, verbose=False):\n",
    "    \"\"\"\n",
    "    Resample (usually upsample) a GLASS model's kappa grid to match the specified scales and dimensions\n",
    "\n",
    "    Args:\n",
    "        gls_model <glass.LensModel object> - GLASS ensemble model\n",
    "        extent <tuple/list> - extent of the output\n",
    "        shape <tuple/list> - shape of the output\n",
    "\n",
    "    Kwargs:\n",
    "        verbose <bool> - verbose mode; print command line statements\n",
    "\n",
    "    Return:\n",
    "        kappa_resmap <np.ndarray> - resampled kappa grid\n",
    "    \"\"\"\n",
    "    obj, data = gls_model['obj,data'][0]\n",
    "    kappa_map = obj.basis._to_grid(data['kappa'], 1)\n",
    "    pixrad = obj.basis.pixrad\n",
    "    maprad = obj.basis.top_level_cell_size * (obj.basis.pixrad)\n",
    "    mapextent = (-obj.basis.top_level_cell_size * (obj.basis.pixrad+0.5),\n",
    "                 obj.basis.top_level_cell_size * (obj.basis.pixrad+0.5))\n",
    "    cell_size = obj.basis.top_level_cell_size\n",
    "\n",
    "    if verbose:\n",
    "        print(obj)\n",
    "        print(\"Kappa map: {}\".format(kappa_map.shape))\n",
    "        print(\"Pixrad {}\".format(pixrad))\n",
    "        print(\"Maprad {}\".format(maprad))\n",
    "        print(\"Mapextent {}\".format(mapextent))\n",
    "        print(\"Cellsize {}\".format(cell_size))\n",
    "\n",
    "    xmdl = np.linspace(-maprad, maprad, kappa_map.shape[0])\n",
    "    ymdl = np.linspace(-maprad, maprad, kappa_map.shape[1])\n",
    "    Xmdl, Ymdl = np.meshgrid(xmdl, ymdl)\n",
    "    xnew = np.linspace(extent[0], extent[1], shape[0])\n",
    "    ynew = np.linspace(extent[2], extent[3], shape[1])\n",
    "    Xnew, Ynew = np.meshgrid(xnew, ynew)\n",
    "\n",
    "    rescale = interpolate.Rbf(Xmdl, Ymdl, kappa_map)\n",
    "    kappa_resmap = rescale(Xnew, Ynew)\n",
    "    kappa_resmap[kappa_resmap < 0] = 0\n",
    "\n",
    "    return kappa_resmap\n"
   ]
  },
  {
   "cell_type": "code",
   "execution_count": null,
   "metadata": {
    "autoscroll": false,
    "collapsed": false,
    "ein.hycell": false,
    "ein.tags": "worksheet-0",
    "slideshow": {
     "slide_type": "-"
    }
   },
   "outputs": [],
   "source": [
    "eagle_pixrad = tuple(r//2 for r in eagle_kappa_map.shape)\n",
    "eagle_maprad = eagle_pixrad[1]*eagle_hdrobj['CDELT2']*3600\n",
    "shape = eagle_kappa_map.shape\n",
    "extent = [-eagle_maprad, eagle_maprad, -eagle_maprad, eagle_maprad]\n",
    "glass_kappa_resmap = resample_glassmodel(glass_state.models[0], extent, shape)\n"
   ]
  },
  {
   "cell_type": "code",
   "execution_count": null,
   "metadata": {
    "autoscroll": false,
    "collapsed": false,
    "ein.hycell": false,
    "ein.tags": "worksheet-0",
    "slideshow": {
     "slide_type": "-"
    }
   },
   "outputs": [],
   "source": [
    "%%skip True\n",
    "\n",
    "x = np.linspace(-mdl_maprad, mdl_maprad, mdl_kappa_map.shape[0])\n",
    "y = np.linspace(-mdl_maprad, mdl_maprad, mdl_kappa_map.shape[1])\n",
    "newx = np.linspace(-eagle_maprad, eagle_maprad, eagle_kappa_map.shape[0])\n",
    "newy = np.linspace(-eagle_maprad, eagle_maprad, eagle_kappa_map.shape[1])\n",
    "\n",
    "rescale = interpolate.interp2d(x, y, mdl_kappa_map, kind='linear')\n",
    "# rescale = interpolate.RectBivariateSpline(x, y, mdl_kappa_map)\n",
    "glass_kappa_resmap = rescale(newx, newy)\n"
   ]
  },
  {
   "cell_type": "code",
   "execution_count": null,
   "metadata": {
    "autoscroll": false,
    "collapsed": false,
    "ein.hycell": false,
    "ein.tags": "worksheet-0",
    "slideshow": {
     "slide_type": "-"
    }
   },
   "outputs": [],
   "source": [
    "plt.imshow(glass_kappa_resmap, **kkwargs)\n",
    "plt.colorbar()\n",
    "plt.gca().axis('off')\n",
    "plt.show()\n"
   ]
  },
  {
   "cell_type": "markdown",
   "metadata": {
    "ein.tags": "worksheet-0",
    "slideshow": {
     "slide_type": "-"
    }
   },
   "source": [
    "#### Residuals (GLASS2EAGLE)"
   ]
  },
  {
   "cell_type": "code",
   "execution_count": null,
   "metadata": {
    "autoscroll": false,
    "collapsed": false,
    "ein.hycell": false,
    "ein.tags": "worksheet-0",
    "slideshow": {
     "slide_type": "-"
    }
   },
   "outputs": [],
   "source": [
    "%%skip True\n",
    "\n",
    "resid_map = eagle_kappa_map - glass_kappa_resmap\n",
    "resid2_map = resid_map * resid_map\n",
    "r = np.sum(resid2_map)\n",
    "print(r)\n"
   ]
  },
  {
   "cell_type": "code",
   "execution_count": null,
   "metadata": {
    "autoscroll": false,
    "collapsed": false,
    "ein.hycell": false,
    "ein.tags": "worksheet-0",
    "slideshow": {
     "slide_type": "-"
    }
   },
   "outputs": [],
   "source": [
    "%%skip True\n",
    "\n",
    "plt.imshow(resid_map)\n",
    "plt.colorbar()\n",
    "plt.gca().axis('off')\n",
    "plt.show()\n"
   ]
  },
  {
   "cell_type": "markdown",
   "metadata": {
    "ein.tags": "worksheet-0",
    "slideshow": {
     "slide_type": "-"
    }
   },
   "source": [
    "#### Comparison loop for a single model (GLASS2EAGLE)"
   ]
  },
  {
   "cell_type": "code",
   "execution_count": null,
   "metadata": {
    "autoscroll": false,
    "collapsed": false,
    "ein.hycell": false,
    "ein.tags": "worksheet-0",
    "slideshow": {
     "slide_type": "-"
    }
   },
   "outputs": [],
   "source": [
    "N_models = len(glass_state.models)\n",
    "print(\"N models {}\".format(N_models))\n",
    "\n",
    "kappa_resids = []\n",
    "extent = [-eagle_maprad, eagle_maprad, -eagle_maprad, eagle_maprad]\n",
    "for m in glass_state.models:\n",
    "    mdl_kappa_resmap = resample_glassmodel(m, extent, eagle_kappa_map.shape)\n",
    "\n",
    "    # residuals\n",
    "    resid_map = eagle_kappa_map - mdl_kappa_resmap\n",
    "    resid2_map = resid_map * resid_map\n",
    "    r = np.sum(resid2_map)\n",
    "    kappa_resids.append(r)\n",
    "\n",
    "minidx = np.argmin(kappa_resids)\n",
    "print(\"Best fitting model index: {}\".format((minidx, kappa_resids[minidx])))\n",
    "print(kappa_resids)\n"
   ]
  },
  {
   "cell_type": "code",
   "execution_count": null,
   "metadata": {
    "autoscroll": false,
    "collapsed": false,
    "ein.hycell": false,
    "ein.tags": "worksheet-0",
    "slideshow": {
     "slide_type": "-"
    }
   },
   "outputs": [],
   "source": [
    "min_g2ekappa_map = resample_glassmodel(glass_state.models[minidx], extent, eagle_kappa_map.shape)\n",
    "resid_map = eagle_kappa_map - min_g2ekappa_map\n",
    "resid2_map = np.sqrt(resid_map * resid_map)\n",
    "\n",
    "plt.imshow(min_g2ekappa_map, **kkwargs)\n",
    "plt.colorbar()\n",
    "plt.gca().axis('off')\n",
    "plt.show()\n",
    "\n",
    "plt.imshow(resid_map)\n",
    "plt.colorbar()\n",
    "plt.gca().axis('off')\n",
    "plt.show()\n"
   ]
  },
  {
   "cell_type": "markdown",
   "metadata": {
    "ein.tags": "worksheet-0",
    "slideshow": {
     "slide_type": "-"
    }
   },
   "source": [
    "## Check COM"
   ]
  },
  {
   "cell_type": "markdown",
   "metadata": {
    "ein.tags": "worksheet-0",
    "slideshow": {
     "slide_type": "-"
    }
   },
   "source": [
    "The center of mass is defined as\n",
    "$\n",
    "\\begin{equation}\n",
    "\\mathbf{R} = \\frac{1}{M} \\sum_{i=1}^{n}m_{i}\\mathbf{r}_{i}\n",
    "\\end{equation}\n",
    "$"
   ]
  },
  {
   "cell_type": "code",
   "execution_count": null,
   "metadata": {
    "autoscroll": false,
    "collapsed": false,
    "ein.hycell": false,
    "ein.tags": "worksheet-0",
    "slideshow": {
     "slide_type": "-"
    }
   },
   "outputs": [],
   "source": [
    "def center_of_mass(kappa_map, pixel_scale=1):\n",
    "    \"\"\"\n",
    "    Calculate the 2D position of the center of mass\n",
    "\n",
    "    Args:\n",
    "        kappa_map <np.ndarray> - a 2D grid of kappa tiles\n",
    "\n",
    "    Kwargs:\n",
    "        pixel_scale <float> - the pixel scale\n",
    "\n",
    "    Return:\n",
    "        com <np.ndarray> - center of mass on the kappa coordinate grid as (x, y)\n",
    "    \"\"\"\n",
    "    invM = 1/np.sum(kappa_map)\n",
    "    r = np.array(np.where(kappa_map+2*np.abs(kappa_map).max())).T\n",
    "    kappa = np.array([kappa_map.flatten()]*2).T\n",
    "    return np.sum(invM*r*kappa*pixel_scale, axis=0)[::-1]\n",
    "\n",
    "eagle_com = center_of_mass(eagle_kappa_map)\n",
    "eagle_res_com = center_of_mass(eagle_kappa_resmap)\n",
    "glassg2e_com = center_of_mass(min_g2ekappa_map)\n",
    "glasse2g_com = center_of_mass(min_e2gkappa_map)\n",
    "\n",
    "print(\"Center of mass for EAGLE model {}: {}\".format(eagle_kappa_map.shape, eagle_com))\n",
    "print(\"Center of mass for GLASS model {}: {}\".format(min_g2ekappa_map.shape, glassg2e_com))\n",
    "\n",
    "print(\"Center of mass for EAGLE model {}: {}\".format(eagle_kappa_resmap.shape, eagle_res_com))\n",
    "print(\"Center of mass for GLASS model {}: {}\".format(min_e2gkappa_map.shape, glasse2g_com))\n",
    "\n",
    "# assert all(np.round(eagle_com) == np.round([0.5*s for s in eagle_kappa_map.shape]))\n",
    "# assert all(np.round(eagle_res_com) == np.round([0.5*s for s in eagle_kappa_resmap.shape]))\n",
    "# assert all(np.round(glassg2e_com) == np.round([0.5*s for s in min_g2ekappa_map.shape]))\n",
    "# assert all(np.round(glasse2g_com) == np.round([0.5*s for s in min_e2gkappa_map.shape]))\n"
   ]
  },
  {
   "cell_type": "markdown",
   "metadata": {
    "ein.tags": "worksheet-0",
    "slideshow": {
     "slide_type": "-"
    }
   },
   "source": [
    "## Inertial tensor"
   ]
  },
  {
   "cell_type": "markdown",
   "metadata": {
    "ein.tags": "worksheet-0",
    "slideshow": {
     "slide_type": "-"
    }
   },
   "source": [
    "The inertial tensor on a 2D grid is defined as\n",
    "$\n",
    "\\begin{equation}\n",
    "I = \\left[ {\\begin{array}{cc}\n",
    "            \\int \\kappa x^2 & \\int \\kappa xy\\\\\n",
    "            \\int \\kappa yx  & \\int \\kappa y^2\\\\\n",
    "            \\end{array}}\n",
    "    \\right]\n",
    "\\end{equation}\n",
    "$\n",
    "where $x$, $y$ are the coordinates with respect to the COM, and $\\kappa$ the grid values at those points.\n",
    "\n",
    "Since the integral over the unit circle\n",
    "$\n",
    "\\begin{equation}\n",
    "\\frac{1}{\\pi} \\int x^2 \\mathrm{d}x \\mathrm{d}y = \\frac{1}{\\pi} \\int r^{3} \\mathrm{d}r \\sin^{2}{\\phi} \\mathrm{d}\\phi = \\frac{1}{4}\n",
    "\\end{equation}\n",
    "$\n",
    "\n",
    "gives a factor of $1/4$. Therefore, the eigenvalues of the inertial tensor are $a^{2}/4$ and $b^{2}/4$, where $a$ and $b$ are the semi-major, resp. minor, axes."
   ]
  },
  {
   "cell_type": "code",
   "execution_count": null,
   "metadata": {
    "autoscroll": false,
    "collapsed": false,
    "ein.hycell": false,
    "ein.tags": "worksheet-0",
    "slideshow": {
     "slide_type": "-"
    }
   },
   "outputs": [],
   "source": [
    "def inertial_tensor(kappa_map, pixel_scale=1, activation=None, round_com=True):\n",
    "    com = center_of_mass(kappa_map, pixel_scale=pixel_scale)\n",
    "    if not np.any(com):\n",
    "        com = np.array([s//2 for s in kappa_map.shape])\n",
    "    if round_com:\n",
    "        com = np.round(com)\n",
    "    if activation is not None:\n",
    "        # kappa_map[kappa_map >= activation] = 1\n",
    "        kappa_map[kappa_map < activation] = 0\n",
    "    y, x = np.indices(kappa_map.shape)\n",
    "    y = y*pixel_scale - com[1]\n",
    "    x = x*pixel_scale - com[0]\n",
    "    xx = x*x\n",
    "    yy = y*y\n",
    "    yx = xy = y*x\n",
    "    N = 1./np.sum(kappa_map)\n",
    "    Ixx = N*np.sum(kappa_map*xx)\n",
    "    Ixy = N*np.sum(kappa_map*xy)\n",
    "    Iyx = N*np.sum(kappa_map*yx)\n",
    "    Iyy = N*np.sum(kappa_map*yy)\n",
    "    return np.matrix([[Ixx, Ixy], [Iyx, Iyy]])\n",
    "\n",
    "\n",
    "# on 17x17 grids\n",
    "print(eagle_kappa_resmap.shape)\n",
    "eagle_QPM = inertial_tensor(eagle_kappa_resmap, activation=1)\n",
    "print(eagle_QPM)\n",
    "# print(inertial_tensor(eagle_kappa_resmap, glass_cell_size))\n",
    "\n",
    "print(min_e2gkappa_map.shape)\n",
    "glass_QPM = inertial_tensor(min_e2gkappa_map, activation=1)\n",
    "print(glass_QPM)\n",
    "# print(inertial_tensor(min_e2gkappa_map, glass_cell_size))\n",
    "\n",
    "\n",
    "# on 161x161 grids\n",
    "#print(eagle_kappa_map.shape)\n",
    "#eagle_QPM = inertial_tensor(eagle_kappa_map)\n",
    "#print(eagle_QPM)\n",
    "## print(inertial_tensor(eagle_kappa_resmap, eagle_cell_size))\n",
    "\n",
    "#print(min_g2ekappa_map.shape)\n",
    "#glass_QPM = inertial_tensor(min_g2ekappa_map)\n",
    "#print(glass_QPM)\n",
    "## print(inertial_tensor(min_g2ekappa_map, eagle_cell_size))\n",
    "\n"
   ]
  },
  {
   "cell_type": "code",
   "execution_count": null,
   "metadata": {
    "autoscroll": false,
    "collapsed": false,
    "ein.hycell": false,
    "ein.tags": "worksheet-0",
    "slideshow": {
     "slide_type": "-"
    }
   },
   "outputs": [],
   "source": [
    "def eigvals2x2(q):\n",
    "    \"\"\"\n",
    "    Calculate the eigenvalues for a 2 by 2 matrix\n",
    "\n",
    "    Args:\n",
    "        q <np.matrix> - the matrix for which to calculate the eigenvalues\n",
    "\n",
    "    Kwargs:\n",
    "        None\n",
    "\n",
    "    Return:\n",
    "        lambda1, lambda2 <float,float> - the two eigenvalues\n",
    "    \"\"\"\n",
    "    a, b, c, d = q.flatten().tolist()[0]\n",
    "    T = a + d\n",
    "    D = a*d-b*c\n",
    "    lambda1 = 0.5*T + np.sqrt(0.25*T*T - D)\n",
    "    lambda2 = 0.5*T - np.sqrt(0.25*T*T - D)\n",
    "    return lambda1, lambda2\n",
    "\n",
    "\n",
    "def diag2x2(q):\n",
    "    \"\"\"\n",
    "    Calculate the diagonal matrix of a 2 by 2 matrix\n",
    "\n",
    "    Args:\n",
    "        q <np.matrix> - the matrix for which to calculate the eigenvalues\n",
    "\n",
    "    Kwargs:\n",
    "        None\n",
    "\n",
    "    Return:\n",
    "        d <np.matrix> - the diagonal matrix of q\n",
    "    \"\"\"\n",
    "    l1, l2 = eigvals2x2(q)\n",
    "    if l1 != l2:\n",
    "        return np.matrix([[l1, 0], [0, l2]])\n",
    "    else:\n",
    "        None\n",
    "\n",
    "def vangle(v1, v2):\n",
    "    \"\"\"\n",
    "    Find the angle between two 2d vectors\n",
    "\n",
    "    Args:\n",
    "        v1, v2 <np.ndarray> - the vectors\n",
    "\n",
    "    Kwargs:\n",
    "        None\n",
    "\n",
    "    Return:\n",
    "        angle <float> - the angle between the vectors\n",
    "    \"\"\"\n",
    "    v1 = np.asarray(v1)\n",
    "    v2 = np.asarray(v2)\n",
    "    vdotv = v1.dot(v2)\n",
    "    vvnorm = np.sqrt(v1.dot(v1)) * np.sqrt(v2.dot(v2))\n",
    "    return np.arccos(vdotv/(vvnorm))\n",
    "    \n",
    "def eigvec2x2(q):\n",
    "    \"\"\"\n",
    "    Calculate the eigenvectors for a 2 by 2 matrix\n",
    "\n",
    "    Args:\n",
    "        q <np.matrix> - the matrix for which to calculate the eigenvalues\n",
    "\n",
    "    Kwargs:\n",
    "        None\n",
    "\n",
    "    Return:\n",
    "        v <np.ndarray, np.ndarray> - the eigenvectors of q\n",
    "    \"\"\"\n",
    "    a, b, c, d = q.flatten().tolist()[0]\n",
    "    ratio = np.array([(a+c-li)/(li-b-d) for li in eigvals2x2(q)])\n",
    "    v1 = np.array([1, 1])  # choose something\n",
    "    v = np.array([v1, ratio*v1]).T\n",
    "    \n",
    "    # assert vangle(v[0], v[1]) - 0.5*np.pi < 1e-12\n",
    "    return v[0], v[1]\n",
    "\n",
    "\n",
    "print(\"EAGLE model\")\n",
    "eagle_eigvals = eigvals2x2(eagle_QPM)\n",
    "eagle_eigvecs = eigvec2x2(eagle_QPM)\n",
    "eagle_phi = vangle(eagle_eigvecs[0], [1, 0])\n",
    "eagle_a, eagle_b = [2*np.sqrt(l) for l in eagle_eigvals]\n",
    "\n",
    "# print(diag2x2(eagle_QPM))\n",
    "# print(eigvec2x2(eagle_QPM))\n",
    "print(eagle_a, eagle_b)\n",
    "print(eagle_phi * 180/np.pi)\n",
    "\n",
    "print(\"GLASS model\")\n",
    "glass_eigvals = eigvals2x2(glass_QPM)\n",
    "glass_eigvecs = eigvec2x2(glass_QPM)\n",
    "glass_phi = vangle(glass_eigvecs[0], [1, 0])\n",
    "glass_a, glass_b = [2*np.sqrt(l) for l in glass_eigvals]\n",
    "\n",
    "# print(diag2x2(glass_QPM))\n",
    "# print(eigvec2x2(glass_QPM))\n",
    "print(glass_a, glass_b)\n",
    "print(glass_phi * 180/np.pi)\n",
    "\n"
   ]
  },
  {
   "cell_type": "markdown",
   "metadata": {
    "ein.tags": "worksheet-0",
    "slideshow": {
     "slide_type": "-"
    }
   },
   "source": [
    "## Loop over all 3 test cases (H3S0A0B90G0, H10S0A0B90G0, H36S0A0B90G0)"
   ]
  },
  {
   "cell_type": "code",
   "execution_count": null,
   "metadata": {
    "autoscroll": false,
    "collapsed": false,
    "ein.hycell": false,
    "ein.tags": "worksheet-0",
    "slideshow": {
     "slide_type": "-"
    }
   },
   "outputs": [],
   "source": [
    "%%skip True\n",
    "for k in [\"H3S0A0B90G0\", \"H10S0A0B90G0\", \"H36S0A0B90G0\"]:\n",
    "    filepath = kappa_map_files[k][0]\n",
    "    eagle_model = fits.getdata(filepath, header=True)\n",
    "\n",
    "    for idx in range(len(states[k])):\n",
    "        statefile = states[k][idx]\n",
    "        fltrdfile = filtered_states[k][idx]\n",
    "        synthfile = fsynth50_states[k][idx]\n",
    "        fltrdsynthfile = prefiltered_fsynth50_states[k][idx]\n",
    "\n",
    "        for f in [statefile, fltrdfile, synthfile, fltrdsynthfile]:\n",
    "            print(f)\n",
    "\n",
    "            glass_state = glass.glcmds.loadstate(f)\n",
    "            glass_state.make_ensemble_average()\n",
    "\n",
    "            N_models = len(glass_state.models)\n",
    "            maprad = glass_state.models[0]['obj,data'][0][0].basis.top_level_cell_size \\\n",
    "                     * glass_state.models[0]['obj,data'][0][0].basis.pixrad\n",
    "            extent = (-maprad, maprad, -maprad, maprad)\n",
    "            print(\"Number of models: {:4d}\".format(N_models))\n",
    "            print(\"Maprad: {:02.4f}\".format(maprad))\n",
    "\n",
    "            deltas = []\n",
    "            for i, m in enumerate(glass_state.models):\n",
    "                objdta = m['obj,data'][0]\n",
    "                glass_kappa_map = objdta[0].basis._to_grid(objdta[1]['kappa'], 1)\n",
    "\n",
    "                eagle_kappa_resmap = resample_eaglemodel(eagle_model, extent, glass_kappa_map.shape)\n",
    "\n",
    "                delta_map = eagle_kappa_resmap - glass_kappa_map\n",
    "                delta2_map = resid_map * resid_map\n",
    "                deltas.append(np.sum(delta2_map))\n",
    "\n",
    "            minidx = np.argmin(deltas)\n",
    "            print(\"Closest model: Index {} with a delta^2 of {}\".format(minidx, residuals[minidx]))\n",
    "            objdta = glass_state.models[minidx]['obj,data'][0]\n",
    "            glass_kappa_map = objdta[0].basis._to_grid(objdta[1]['kappa'], 1)\n",
    "            eagle_kappa_resmap = resample_eaglemodel(eagle_model, extent, glass_kappa_map.shape)\n",
    "            \n",
    "    "
   ]
  },
  {
   "cell_type": "code",
   "execution_count": null,
   "metadata": {
    "autoscroll": false,
    "collapsed": false,
    "ein.hycell": false,
    "ein.tags": "worksheet-0",
    "slideshow": {
     "slide_type": "-"
    }
   },
   "outputs": [],
   "source": []
  },
  {
   "cell_type": "code",
   "execution_count": null,
   "metadata": {
    "autoscroll": false,
    "collapsed": false,
    "ein.hycell": false,
    "ein.tags": "worksheet-0",
    "slideshow": {
     "slide_type": "-"
    }
   },
   "outputs": [],
   "source": []
  }
 ],
 "metadata": {
  "kernelspec": {
   "display_name": "Python 2",
   "name": "python2"
  },
  "language_info": {
   "codemirror_mode": {
    "name": "ipython",
    "version": 2
   },
   "file_extension": ".py",
   "mimetype": "text/x-python",
   "name": "python",
   "nbconvert_exporter": "python",
   "pygments_lexer": "ipython2",
   "version": "2.7.15"
  },
  "name": "adler.ipynb"
 },
 "nbformat": 4,
 "nbformat_minor": 2
}
