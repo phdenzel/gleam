{
 "cells": [
  {
   "cell_type": "markdown",
   "metadata": {
    "ein.tags": "worksheet-0",
    "slideshow": {
     "slide_type": "-"
    }
   },
   "source": [
    "# CFHTLS lens compilation"
   ]
  },
  {
   "cell_type": "markdown",
   "metadata": {
    "ein.tags": "worksheet-0",
    "slideshow": {
     "slide_type": "-"
    }
   },
   "source": [
    "Here all lens models from the CFHTLS (discoverys reported by various authors) are imported and their sources reconstructed.\n",
    "\n",
    "Imports from `/Users/phdenzel/gleam/data`."
   ]
  },
  {
   "cell_type": "code",
   "execution_count": 1,
   "metadata": {
    "autoscroll": false,
    "ein.hycell": false,
    "ein.tags": "worksheet-0",
    "slideshow": {
     "slide_type": "-"
    }
   },
   "outputs": [],
   "source": [
    "import sys\n",
    "sys.path.append('..')\n",
    "import numpy as np\n",
    "import matplotlib.pyplot as plt\n",
    "\n",
    "from gleam.multilens import MultiLens\n",
    "from gleam.reconsrc import ReconSrc\n",
    "from gleam.glass_interface import glass_renv\n",
    "glass = glass_renv()"
   ]
  },
  {
   "cell_type": "code",
   "execution_count": 36,
   "metadata": {
    "autoscroll": false,
    "ein.hycell": false,
    "ein.tags": "worksheet-0",
    "slideshow": {
     "slide_type": "-"
    }
   },
   "outputs": [],
   "source": [
    "jsons = [\"/Users/phdenzel/gleam/data/Caba22.multilens#a061574e76f9a7d1a7bbbd7a0a61e.json\",\n",
    "         \"/Users/phdenzel/gleam/data/Caba39.multilens#7c20b67b2e57c890d283ab7ba35e4.json\",\n",
    "         \"/Users/phdenzel/gleam/data/MoreSA28.multilens#45d308e03681414d48a2e8c6504cf.json\",\n",
    "         \"/Users/phdenzel/gleam/data/MoreSA59.multilens#e27bed3796282edbb2f4add2b0928.json\",\n",
    "         \"/Users/phdenzel/gleam/data/MoreSA121.multilens#f8401b8d6046f4bb22b714032be1e.json\",\n",
    "         \"/Users/phdenzel/gleam/data/Para1024.multilens#7d27cc987b89ad1b9d03828a8bc2d.json\",\n",
    "         \"/Users/phdenzel/gleam/data/Para1079.multilens#81a0a92146af752f4404c0380fdf6.json\",\n",
    "         \"/Users/phdenzel/gleam/data/Para1106.multilens#843e6153eea1cdb0c8d6c6c89eba2.json\",\n",
    "         \"/Users/phdenzel/gleam/data/Para1037.multilens#0d34f904ecd3e5c38035b43483295.json\",\n",
    "         \"/Users/phdenzel/gleam/data/Para2109.multilens#586f69cabe4f43ef74751c4820fa3.json\",\n",
    "         \"/Users/phdenzel/gleam/data/Para2169.multilens#1cf88bd132faf8931a02f3076b591.json\",\n",
    "         \"/Users/phdenzel/gleam/data/SW05.multilens#4ebca5f7da0763d2a8aae675763a8.json\",\n",
    "         \"/Users/phdenzel/gleam/data/SW06.multilens#dbfc84ca1d42c30410d812fc1dab2.json\"]\n",
    "\n",
    "states = [\"/Users/phdenzel/gleam/data/Caba22/caba22.state\",\n",
    "          \"/Users/phdenzel/gleam/data/Caba39/caba39.state\",\n",
    "          \"/Users/phdenzel/gleam/data/MoreSA28/sa28.state\",\n",
    "          \"/Users/phdenzel/gleam/data/MoreSA59/sa59.state\",\n",
    "          \"/Users/phdenzel/gleam/data/MoreSA121/sa121.state\",\n",
    "          \"/Users/phdenzel/gleam/data/Para1079/para1079.state\",\n",
    "          \"/Users/phdenzel/gleam/data/Para1024/para1024.state\", # \"/Users/phdenzel/gleam/data/Para1024/para1024old.state\",\n",
    "          \"/Users/phdenzel/gleam/data/Para1037/para1037.state\",\n",
    "          \"/Users/phdenzel/gleam/data/Para1106/para1106.state\",\n",
    "          \"/Users/phdenzel/gleam/data/Para2109/para2109.state\",\n",
    "          \"/Users/phdenzel/gleam/data/Para2169/para2169.state\",\n",
    "          \"/Users/phdenzel/gleam/data/SW05/sw05.state\",\n",
    "          \"/Users/phdenzel/gleam/data/SW06/sw06.state\"]\n",
    "\n",
    "i = 11\n",
    "json = jsons[i]\n",
    "state = states[i]"
   ]
  },
  {
   "cell_type": "code",
   "execution_count": 37,
   "metadata": {
    "autoscroll": false,
    "ein.hycell": false,
    "ein.tags": "worksheet-0",
    "slideshow": {
     "slide_type": "-"
    }
   },
   "outputs": [],
   "source": [
    "with open(json) as f:\n",
    "    ml = MultiLens.from_json(f)"
   ]
  },
  {
   "cell_type": "code",
   "execution_count": 38,
   "metadata": {
    "autoscroll": false,
    "ein.hycell": false,
    "ein.tags": "worksheet-0",
    "slideshow": {
     "slide_type": "-"
    }
   },
   "outputs": [
    {
     "name": "stdout",
     "output_type": "stream",
     "text": [
      "lensobject          \tLensObject(u@[218.7260, 52.4808])\n",
      "gls                 \t<glass.environment.Environment instance at 0x115811e18>\n",
      "mask                \t[[False False False ... False False False]\n",
      " [False False False ... False False False]\n",
      " [False False False ... False False False]\n",
      " ...\n",
      " [False False False ... False False False]\n",
      " [False False False ... False False False]\n",
      " [False False False ... False False False]]\n",
      "M                   \t20\n",
      "N                   \t41\n"
     ]
    }
   ],
   "source": [
    "recon_src = ReconSrc(ml, state, M=20, verbose=1)\n",
    "# recon_src.chobj()"
   ]
  },
  {
   "cell_type": "code",
   "execution_count": 39,
   "metadata": {
    "autoscroll": false,
    "ein.hycell": false,
    "ein.tags": "worksheet-0",
    "slideshow": {
     "slide_type": "-"
    }
   },
   "outputs": [
    {
     "name": "stdout",
     "output_type": "stream",
     "text": [
      "<class 'scipy.sparse.csc.csc_matrix'>\n"
     ]
    }
   ],
   "source": [
    "print(type(recon_src.inv_proj_matrix()))"
   ]
  },
  {
   "cell_type": "code",
   "execution_count": 40,
   "metadata": {
    "autoscroll": false,
    "ein.hycell": false,
    "ein.tags": "worksheet-0",
    "slideshow": {
     "slide_type": "-"
    }
   },
   "outputs": [],
   "source": [
    "rsrc = recon_src.plane_map()"
   ]
  },
  {
   "cell_type": "code",
   "execution_count": 41,
   "metadata": {
    "autoscroll": false,
    "ein.hycell": false,
    "ein.tags": "worksheet-0",
    "slideshow": {
     "slide_type": "-"
    }
   },
   "outputs": [
    {
     "data": {
      "image/png": "[encoded data removed]",
      "text/plain": [
       "<Figure size 432x288 with 1 Axes>"
      ]
     },
     "metadata": {},
     "output_type": "display_data"
    }
   ],
   "source": [
    "plt.imshow(rsrc)\n",
    "plt.axis('off')\n",
    "plt.show()"
   ]
  },
  {
   "cell_type": "code",
   "execution_count": null,
   "metadata": {
    "autoscroll": false,
    "ein.hycell": false,
    "ein.tags": "worksheet-0",
    "slideshow": {
     "slide_type": "-"
    }
   },
   "outputs": [],
   "source": []
  }
 ],
 "metadata": {
  "kernelspec": {
   "display_name": "Python 2",
   "language": "python",
   "name": "python2"
  },
  "language_info": {
   "codemirror_mode": {
    "name": "ipython",
    "version": 2
   },
   "file_extension": ".py",
   "mimetype": "text/x-python",
   "name": "python",
   "nbconvert_exporter": "python",
   "pygments_lexer": "ipython2",
   "version": "2.7.15"
  },
  "name": "cfhtls.ipynb"
 },
 "nbformat": 4,
 "nbformat_minor": 2
}
